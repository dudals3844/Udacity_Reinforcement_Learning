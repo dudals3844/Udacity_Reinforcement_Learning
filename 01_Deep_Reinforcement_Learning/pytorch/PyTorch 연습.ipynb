{
 "cells": [
  {
   "cell_type": "markdown",
   "id": "4346b2ee",
   "metadata": {
    "pycharm": {
     "name": "#%% md\n"
    }
   },
   "source": [
    "## 02. 파이토치 기초"
   ]
  },
  {
   "cell_type": "markdown",
   "id": "8800759e",
   "metadata": {
    "pycharm": {
     "name": "#%% md\n"
    }
   },
   "source": [
    "### 02. 텐서 조작하기"
   ]
  },
  {
   "cell_type": "code",
   "execution_count": 1,
   "id": "80b38b2a",
   "metadata": {
    "pycharm": {
     "name": "#%%\n"
    }
   },
   "outputs": [],
   "source": [
    "import numpy as np"
   ]
  },
  {
   "cell_type": "code",
   "execution_count": 2,
   "id": "ba0b11d3",
   "metadata": {
    "pycharm": {
     "name": "#%%\n"
    }
   },
   "outputs": [],
   "source": [
    "t = np.array([0., 1., 2., 3., 4., 5., 6.])"
   ]
  },
  {
   "cell_type": "code",
   "execution_count": 3,
   "id": "841c9ae4",
   "metadata": {
    "pycharm": {
     "name": "#%%\n"
    }
   },
   "outputs": [
    {
     "name": "stdout",
     "output_type": "stream",
     "text": [
      "[0. 1. 2. 3. 4. 5. 6.]\n"
     ]
    }
   ],
   "source": [
    "print(t)"
   ]
  },
  {
   "cell_type": "code",
   "execution_count": 4,
   "id": "c8ed41b4",
   "metadata": {
    "pycharm": {
     "name": "#%%\n"
    }
   },
   "outputs": [
    {
     "data": {
      "text/plain": [
       "1"
      ]
     },
     "execution_count": 4,
     "metadata": {},
     "output_type": "execute_result"
    }
   ],
   "source": [
    "t.ndim"
   ]
  },
  {
   "cell_type": "code",
   "execution_count": 5,
   "id": "b2cd9157",
   "metadata": {
    "pycharm": {
     "name": "#%%\n"
    }
   },
   "outputs": [
    {
     "data": {
      "text/plain": [
       "(7,)"
      ]
     },
     "execution_count": 5,
     "metadata": {},
     "output_type": "execute_result"
    }
   ],
   "source": [
    "t.shape"
   ]
  },
  {
   "cell_type": "markdown",
   "id": "3f5ca412",
   "metadata": {
    "pycharm": {
     "name": "#%% md\n"
    }
   },
   "source": [
    "### 1-1) Numpy 기초 이해"
   ]
  },
  {
   "cell_type": "code",
   "execution_count": 6,
   "id": "f00a797e",
   "metadata": {
    "pycharm": {
     "name": "#%%\n"
    }
   },
   "outputs": [
    {
     "name": "stdout",
     "output_type": "stream",
     "text": [
      "t[0] t[1] t[-1] =  0.0 1.0 6.0\n"
     ]
    }
   ],
   "source": [
    "print('t[0] t[1] t[-1] = ', t[0], t[1], t[-1])"
   ]
  },
  {
   "cell_type": "markdown",
   "id": "38cf5656",
   "metadata": {
    "pycharm": {
     "name": "#%% md\n"
    }
   },
   "source": [
    "### 2) 2D with Numpy"
   ]
  },
  {
   "cell_type": "code",
   "execution_count": 7,
   "id": "ff4fdaae",
   "metadata": {
    "pycharm": {
     "name": "#%%\n"
    }
   },
   "outputs": [],
   "source": [
    "t = np.array([[1., 2., 3.], [4., 5., 6.], [7., 8., 9.], [10., 11., 12.]])"
   ]
  },
  {
   "cell_type": "code",
   "execution_count": 8,
   "id": "fcb1b8c0",
   "metadata": {
    "pycharm": {
     "name": "#%%\n"
    }
   },
   "outputs": [
    {
     "data": {
      "text/plain": [
       "2"
      ]
     },
     "execution_count": 8,
     "metadata": {},
     "output_type": "execute_result"
    }
   ],
   "source": [
    "t.ndim"
   ]
  },
  {
   "cell_type": "code",
   "execution_count": 9,
   "id": "7fdd933a",
   "metadata": {
    "pycharm": {
     "name": "#%%\n"
    }
   },
   "outputs": [
    {
     "data": {
      "text/plain": [
       "(4, 3)"
      ]
     },
     "execution_count": 9,
     "metadata": {},
     "output_type": "execute_result"
    }
   ],
   "source": [
    "t.shape"
   ]
  },
  {
   "cell_type": "markdown",
   "id": "87b234a2",
   "metadata": {
    "pycharm": {
     "name": "#%% md\n"
    }
   },
   "source": [
    "### 1) 1D with Pytorch"
   ]
  },
  {
   "cell_type": "code",
   "execution_count": 10,
   "id": "9b0e8315",
   "metadata": {
    "pycharm": {
     "name": "#%%\n"
    }
   },
   "outputs": [
    {
     "name": "stderr",
     "output_type": "stream",
     "text": [
      "/root/anaconda3/envs/tensorflow_env/lib/python3.8/site-packages/tqdm/auto.py:22: TqdmWarning: IProgress not found. Please update jupyter and ipywidgets. See https://ipywidgets.readthedocs.io/en/stable/user_install.html\n",
      "  from .autonotebook import tqdm as notebook_tqdm\n"
     ]
    }
   ],
   "source": [
    "import torch"
   ]
  },
  {
   "cell_type": "code",
   "execution_count": 11,
   "id": "cfa8afe6",
   "metadata": {
    "pycharm": {
     "name": "#%%\n"
    }
   },
   "outputs": [
    {
     "data": {
      "text/plain": [
       "device(type='cuda')"
      ]
     },
     "execution_count": 11,
     "metadata": {},
     "output_type": "execute_result"
    }
   ],
   "source": [
    "torch.device('cuda')"
   ]
  },
  {
   "cell_type": "code",
   "execution_count": 12,
   "id": "b4fdd0e9",
   "metadata": {
    "pycharm": {
     "name": "#%%\n"
    }
   },
   "outputs": [],
   "source": [
    "t = torch.FloatTensor([0., 1., 2., 3., 4., 5., 6.])"
   ]
  },
  {
   "cell_type": "code",
   "execution_count": 13,
   "id": "c9ffa2cd",
   "metadata": {
    "pycharm": {
     "name": "#%%\n"
    }
   },
   "outputs": [
    {
     "data": {
      "text/plain": [
       "1"
      ]
     },
     "execution_count": 13,
     "metadata": {},
     "output_type": "execute_result"
    }
   ],
   "source": [
    "t.dim()"
   ]
  },
  {
   "cell_type": "code",
   "execution_count": 14,
   "id": "7fda9499",
   "metadata": {
    "pycharm": {
     "name": "#%%\n"
    }
   },
   "outputs": [
    {
     "data": {
      "text/plain": [
       "torch.Size([7])"
      ]
     },
     "execution_count": 14,
     "metadata": {},
     "output_type": "execute_result"
    }
   ],
   "source": [
    "t.shape"
   ]
  },
  {
   "cell_type": "code",
   "execution_count": 15,
   "id": "5d4614ad",
   "metadata": {
    "pycharm": {
     "name": "#%%\n"
    }
   },
   "outputs": [
    {
     "data": {
      "text/plain": [
       "torch.Size([7])"
      ]
     },
     "execution_count": 15,
     "metadata": {},
     "output_type": "execute_result"
    }
   ],
   "source": [
    "t.size()"
   ]
  },
  {
   "cell_type": "code",
   "execution_count": 16,
   "id": "f101c776",
   "metadata": {
    "pycharm": {
     "name": "#%%\n"
    }
   },
   "outputs": [
    {
     "name": "stdout",
     "output_type": "stream",
     "text": [
      "tensor(0.) tensor(1.) tensor(2.)\n"
     ]
    }
   ],
   "source": [
    "print(t[0], t[1], t[2])"
   ]
  },
  {
   "cell_type": "code",
   "execution_count": 17,
   "id": "a75e0903",
   "metadata": {
    "pycharm": {
     "name": "#%%\n"
    }
   },
   "outputs": [
    {
     "name": "stdout",
     "output_type": "stream",
     "text": [
      "tensor([2., 3., 4.])\n"
     ]
    }
   ],
   "source": [
    "print(t[2:5])"
   ]
  },
  {
   "cell_type": "markdown",
   "id": "4c8f489a",
   "metadata": {
    "pycharm": {
     "name": "#%% md\n"
    }
   },
   "source": [
    "### 2) 2D with PyTorch"
   ]
  },
  {
   "cell_type": "code",
   "execution_count": 18,
   "id": "50079ac4",
   "metadata": {
    "pycharm": {
     "name": "#%%\n"
    }
   },
   "outputs": [
    {
     "name": "stdout",
     "output_type": "stream",
     "text": [
      "tensor([[ 1.,  2.,  3.],\n",
      "        [ 4.,  5.,  6.],\n",
      "        [ 7.,  8.,  9.],\n",
      "        [10., 11., 12.]])\n"
     ]
    }
   ],
   "source": [
    "t = torch.FloatTensor([[1., 2., 3.],\n",
    "                       [4., 5., 6.],\n",
    "                       [7., 8., 9.],\n",
    "                       [10., 11., 12.]\n",
    "                      ])\n",
    "print(t)"
   ]
  },
  {
   "cell_type": "code",
   "execution_count": 19,
   "id": "ca7fb88a",
   "metadata": {
    "pycharm": {
     "name": "#%%\n"
    }
   },
   "outputs": [
    {
     "data": {
      "text/plain": [
       "2"
      ]
     },
     "execution_count": 19,
     "metadata": {},
     "output_type": "execute_result"
    }
   ],
   "source": [
    "t.dim()"
   ]
  },
  {
   "cell_type": "code",
   "execution_count": 20,
   "id": "94072b7c",
   "metadata": {
    "pycharm": {
     "name": "#%%\n"
    }
   },
   "outputs": [
    {
     "data": {
      "text/plain": [
       "torch.Size([4, 3])"
      ]
     },
     "execution_count": 20,
     "metadata": {},
     "output_type": "execute_result"
    }
   ],
   "source": [
    "t.shape"
   ]
  },
  {
   "cell_type": "code",
   "execution_count": 21,
   "id": "d96da454",
   "metadata": {
    "pycharm": {
     "name": "#%%\n"
    }
   },
   "outputs": [
    {
     "data": {
      "text/plain": [
       "torch.Size([4, 3])"
      ]
     },
     "execution_count": 21,
     "metadata": {},
     "output_type": "execute_result"
    }
   ],
   "source": [
    "t.size()"
   ]
  },
  {
   "cell_type": "code",
   "execution_count": 22,
   "id": "f2fddac1",
   "metadata": {
    "pycharm": {
     "name": "#%%\n"
    }
   },
   "outputs": [
    {
     "data": {
      "text/plain": [
       "tensor([1., 2., 3.])"
      ]
     },
     "execution_count": 22,
     "metadata": {},
     "output_type": "execute_result"
    }
   ],
   "source": [
    "t[0, :]"
   ]
  },
  {
   "cell_type": "markdown",
   "id": "b9a27d90",
   "metadata": {
    "pycharm": {
     "name": "#%% md\n"
    }
   },
   "source": [
    "### 3) Broadcasting"
   ]
  },
  {
   "cell_type": "code",
   "execution_count": 23,
   "id": "a1202777",
   "metadata": {
    "pycharm": {
     "name": "#%%\n"
    }
   },
   "outputs": [],
   "source": [
    "m1 = torch.FloatTensor([[3,3]])"
   ]
  },
  {
   "cell_type": "code",
   "execution_count": 24,
   "id": "3da41b4c",
   "metadata": {
    "pycharm": {
     "name": "#%%\n"
    }
   },
   "outputs": [],
   "source": [
    "m2 = torch.FloatTensor([[2,1]])"
   ]
  },
  {
   "cell_type": "code",
   "execution_count": 25,
   "id": "00526026",
   "metadata": {
    "pycharm": {
     "name": "#%%\n"
    }
   },
   "outputs": [
    {
     "data": {
      "text/plain": [
       "tensor([[5., 4.]])"
      ]
     },
     "execution_count": 25,
     "metadata": {},
     "output_type": "execute_result"
    }
   ],
   "source": [
    "m1 + m2"
   ]
  },
  {
   "cell_type": "code",
   "execution_count": 26,
   "id": "cd6ecfe1",
   "metadata": {
    "pycharm": {
     "name": "#%%\n"
    }
   },
   "outputs": [],
   "source": [
    "# Vector + Scalar\n",
    "m1 = torch.FloatTensor([1,2])\n",
    "m2 = torch.FloatTensor([3])"
   ]
  },
  {
   "cell_type": "code",
   "execution_count": 27,
   "id": "9a2fe8eb",
   "metadata": {
    "pycharm": {
     "name": "#%%\n"
    }
   },
   "outputs": [
    {
     "data": {
      "text/plain": [
       "tensor([4., 5.])"
      ]
     },
     "execution_count": 27,
     "metadata": {},
     "output_type": "execute_result"
    }
   ],
   "source": [
    "m1+m2"
   ]
  },
  {
   "cell_type": "code",
   "execution_count": 28,
   "id": "5771eeb2",
   "metadata": {
    "pycharm": {
     "name": "#%%\n"
    }
   },
   "outputs": [
    {
     "name": "stdout",
     "output_type": "stream",
     "text": [
      "tensor([[4., 5.],\n",
      "        [5., 6.]])\n"
     ]
    }
   ],
   "source": [
    "# 2 x 1 Vector + 1 x 2 Vector\n",
    "m1 = torch.FloatTensor([[1, 2]])\n",
    "m2 = torch.FloatTensor([[3], [4]])\n",
    "print(m1 + m2)"
   ]
  },
  {
   "cell_type": "markdown",
   "id": "4bbf2734",
   "metadata": {
    "pycharm": {
     "name": "#%% md\n"
    }
   },
   "source": [
    "### 4) 자주 사용되는 기능"
   ]
  },
  {
   "cell_type": "code",
   "execution_count": 29,
   "id": "4252545e",
   "metadata": {
    "pycharm": {
     "name": "#%%\n"
    }
   },
   "outputs": [
    {
     "name": "stdout",
     "output_type": "stream",
     "text": [
      "Shape of Matrix 1:  torch.Size([2, 2])\n",
      "Shape of Matrix 2:  torch.Size([2, 1])\n",
      "tensor([[ 5.],\n",
      "        [11.]])\n"
     ]
    }
   ],
   "source": [
    "m1 = torch.FloatTensor([[1, 2], [3, 4]])\n",
    "m2 = torch.FloatTensor([[1], [2]])\n",
    "print('Shape of Matrix 1: ', m1.shape) # 2 x 2\n",
    "print('Shape of Matrix 2: ', m2.shape) # 2 x 1\n",
    "print(m1.matmul(m2))"
   ]
  },
  {
   "cell_type": "code",
   "execution_count": 30,
   "id": "95943924",
   "metadata": {
    "pycharm": {
     "name": "#%%\n"
    }
   },
   "outputs": [],
   "source": [
    "t = torch.FloatTensor([1,2])"
   ]
  },
  {
   "cell_type": "code",
   "execution_count": 31,
   "id": "4e6bbb05",
   "metadata": {
    "pycharm": {
     "name": "#%%\n"
    }
   },
   "outputs": [
    {
     "data": {
      "text/plain": [
       "tensor(1.5000)"
      ]
     },
     "execution_count": 31,
     "metadata": {},
     "output_type": "execute_result"
    }
   ],
   "source": [
    "t.mean()"
   ]
  },
  {
   "cell_type": "code",
   "execution_count": 32,
   "id": "9e28dc9a",
   "metadata": {
    "pycharm": {
     "name": "#%%\n"
    }
   },
   "outputs": [
    {
     "name": "stdout",
     "output_type": "stream",
     "text": [
      "tensor([[1., 2.],\n",
      "        [3., 4.]])\n"
     ]
    }
   ],
   "source": [
    "t = torch.FloatTensor([[1, 2], [3, 4]])\n",
    "print(t)"
   ]
  },
  {
   "cell_type": "code",
   "execution_count": 33,
   "id": "ac69e6f9",
   "metadata": {
    "pycharm": {
     "name": "#%%\n"
    }
   },
   "outputs": [
    {
     "data": {
      "text/plain": [
       "tensor(2.5000)"
      ]
     },
     "execution_count": 33,
     "metadata": {},
     "output_type": "execute_result"
    }
   ],
   "source": [
    "t.mean()"
   ]
  },
  {
   "cell_type": "code",
   "execution_count": 34,
   "id": "3a385dbd",
   "metadata": {
    "pycharm": {
     "name": "#%%\n"
    }
   },
   "outputs": [
    {
     "data": {
      "text/plain": [
       "tensor([2., 3.])"
      ]
     },
     "execution_count": 34,
     "metadata": {},
     "output_type": "execute_result"
    }
   ],
   "source": [
    "t.mean(dim=0)"
   ]
  },
  {
   "cell_type": "code",
   "execution_count": 35,
   "id": "74b0bfee",
   "metadata": {
    "pycharm": {
     "name": "#%%\n"
    }
   },
   "outputs": [
    {
     "data": {
      "text/plain": [
       "tensor([1.5000, 3.5000])"
      ]
     },
     "execution_count": 35,
     "metadata": {},
     "output_type": "execute_result"
    }
   ],
   "source": [
    "t.mean(dim=1)"
   ]
  },
  {
   "cell_type": "code",
   "execution_count": 36,
   "id": "c948ab10",
   "metadata": {
    "pycharm": {
     "name": "#%%\n"
    }
   },
   "outputs": [
    {
     "data": {
      "text/plain": [
       "tensor([[1., 2.],\n",
       "        [3., 4.]])"
      ]
     },
     "execution_count": 36,
     "metadata": {},
     "output_type": "execute_result"
    }
   ],
   "source": [
    "t"
   ]
  },
  {
   "cell_type": "code",
   "execution_count": 37,
   "id": "ffed3146",
   "metadata": {
    "pycharm": {
     "name": "#%%\n"
    }
   },
   "outputs": [
    {
     "data": {
      "text/plain": [
       "tensor(10.)"
      ]
     },
     "execution_count": 37,
     "metadata": {},
     "output_type": "execute_result"
    }
   ],
   "source": [
    "t.sum()"
   ]
  },
  {
   "cell_type": "code",
   "execution_count": 38,
   "id": "d8705473",
   "metadata": {
    "pycharm": {
     "name": "#%%\n"
    }
   },
   "outputs": [
    {
     "data": {
      "text/plain": [
       "tensor([4., 6.])"
      ]
     },
     "execution_count": 38,
     "metadata": {},
     "output_type": "execute_result"
    }
   ],
   "source": [
    "t.sum(dim=0)"
   ]
  },
  {
   "cell_type": "code",
   "execution_count": 39,
   "id": "783ceaf3",
   "metadata": {
    "pycharm": {
     "name": "#%%\n"
    }
   },
   "outputs": [
    {
     "data": {
      "text/plain": [
       "tensor([3., 7.])"
      ]
     },
     "execution_count": 39,
     "metadata": {},
     "output_type": "execute_result"
    }
   ],
   "source": [
    "t.sum(dim=1)"
   ]
  },
  {
   "cell_type": "code",
   "execution_count": 40,
   "id": "77fcc33c",
   "metadata": {
    "pycharm": {
     "name": "#%%\n"
    }
   },
   "outputs": [
    {
     "data": {
      "text/plain": [
       "tensor(4.)"
      ]
     },
     "execution_count": 40,
     "metadata": {},
     "output_type": "execute_result"
    }
   ],
   "source": [
    "t.max()"
   ]
  },
  {
   "cell_type": "code",
   "execution_count": 41,
   "id": "5f6ef9b2",
   "metadata": {
    "pycharm": {
     "name": "#%%\n"
    }
   },
   "outputs": [
    {
     "data": {
      "text/plain": [
       "torch.return_types.max(\n",
       "values=tensor([3., 4.]),\n",
       "indices=tensor([1, 1]))"
      ]
     },
     "execution_count": 41,
     "metadata": {},
     "output_type": "execute_result"
    }
   ],
   "source": [
    "t.max(dim=0)"
   ]
  },
  {
   "cell_type": "code",
   "execution_count": 42,
   "id": "0055f7c6",
   "metadata": {
    "pycharm": {
     "name": "#%%\n"
    }
   },
   "outputs": [
    {
     "data": {
      "text/plain": [
       "tensor([[1., 2.],\n",
       "        [3., 4.]])"
      ]
     },
     "execution_count": 42,
     "metadata": {},
     "output_type": "execute_result"
    }
   ],
   "source": [
    "t"
   ]
  },
  {
   "cell_type": "code",
   "execution_count": 43,
   "id": "ce45a156",
   "metadata": {
    "pycharm": {
     "name": "#%%\n"
    }
   },
   "outputs": [
    {
     "name": "stdout",
     "output_type": "stream",
     "text": [
      "Max:  tensor([3., 4.])\n",
      "Argmax:  tensor([1, 1])\n"
     ]
    }
   ],
   "source": [
    "print('Max: ', t.max(dim=0)[0])\n",
    "print('Argmax: ', t.max(dim=0)[1])"
   ]
  },
  {
   "cell_type": "markdown",
   "id": "1fb3dece",
   "metadata": {
    "pycharm": {
     "name": "#%% md\n"
    }
   },
   "source": []
  },
  {
   "cell_type": "markdown",
   "id": "ae3e7799",
   "metadata": {
    "pycharm": {
     "name": "#%% md\n"
    }
   },
   "source": [
    "## 03. 텐서 조작하기"
   ]
  },
  {
   "cell_type": "markdown",
   "id": "0f6305ea",
   "metadata": {
    "pycharm": {
     "name": "#%% md\n"
    }
   },
   "source": [
    "### 4) View - 원소수를 유지하면서 텐서의 크기를 변경"
   ]
  },
  {
   "cell_type": "code",
   "execution_count": 44,
   "id": "506a8587",
   "metadata": {
    "pycharm": {
     "name": "#%%\n"
    }
   },
   "outputs": [],
   "source": [
    "t = np.array([[[0, 1, 2],\n",
    "               [3, 4, 5]],\n",
    "              [[6, 7, 8],\n",
    "               [9, 10, 11]]])\n",
    "ft = torch.FloatTensor(t)"
   ]
  },
  {
   "cell_type": "code",
   "execution_count": 45,
   "id": "05f86f63",
   "metadata": {
    "pycharm": {
     "name": "#%%\n"
    }
   },
   "outputs": [
    {
     "data": {
      "text/plain": [
       "tensor([[[ 0.,  1.,  2.],\n",
       "         [ 3.,  4.,  5.]],\n",
       "\n",
       "        [[ 6.,  7.,  8.],\n",
       "         [ 9., 10., 11.]]])"
      ]
     },
     "execution_count": 45,
     "metadata": {},
     "output_type": "execute_result"
    }
   ],
   "source": [
    "ft"
   ]
  },
  {
   "cell_type": "code",
   "execution_count": 46,
   "id": "13fef2d0",
   "metadata": {
    "pycharm": {
     "name": "#%%\n"
    }
   },
   "outputs": [],
   "source": [
    "tmp = ft.view([-1, 3])"
   ]
  },
  {
   "cell_type": "code",
   "execution_count": 47,
   "id": "32ba51fc",
   "metadata": {
    "pycharm": {
     "name": "#%%\n"
    }
   },
   "outputs": [
    {
     "data": {
      "text/plain": [
       "tensor([[ 0.,  1.,  2.],\n",
       "        [ 3.,  4.,  5.],\n",
       "        [ 6.,  7.,  8.],\n",
       "        [ 9., 10., 11.]])"
      ]
     },
     "execution_count": 47,
     "metadata": {},
     "output_type": "execute_result"
    }
   ],
   "source": [
    "tmp"
   ]
  },
  {
   "cell_type": "code",
   "execution_count": 48,
   "id": "632ae7c6",
   "metadata": {
    "pycharm": {
     "name": "#%%\n"
    }
   },
   "outputs": [
    {
     "data": {
      "text/plain": [
       "2"
      ]
     },
     "execution_count": 48,
     "metadata": {},
     "output_type": "execute_result"
    }
   ],
   "source": [
    "tmp.dim()"
   ]
  },
  {
   "cell_type": "code",
   "execution_count": 49,
   "id": "1e595463",
   "metadata": {
    "pycharm": {
     "name": "#%%\n"
    }
   },
   "outputs": [
    {
     "data": {
      "text/plain": [
       "torch.Size([4, 3])"
      ]
     },
     "execution_count": 49,
     "metadata": {},
     "output_type": "execute_result"
    }
   ],
   "source": [
    "tmp.shape"
   ]
  },
  {
   "cell_type": "markdown",
   "id": "8747a240",
   "metadata": {
    "pycharm": {
     "name": "#%% md\n"
    }
   },
   "source": [
    "### 6) Unsqueeze로 차원추가"
   ]
  },
  {
   "cell_type": "code",
   "execution_count": 50,
   "id": "6f5562d7",
   "metadata": {
    "pycharm": {
     "name": "#%%\n"
    }
   },
   "outputs": [],
   "source": [
    "ft = torch.Tensor([0, 1, 2])"
   ]
  },
  {
   "cell_type": "code",
   "execution_count": 51,
   "id": "775fdb4c",
   "metadata": {
    "pycharm": {
     "name": "#%%\n"
    }
   },
   "outputs": [
    {
     "data": {
      "text/plain": [
       "torch.Size([3])"
      ]
     },
     "execution_count": 51,
     "metadata": {},
     "output_type": "execute_result"
    }
   ],
   "source": [
    "ft.shape"
   ]
  },
  {
   "cell_type": "code",
   "execution_count": 52,
   "id": "7097e89f",
   "metadata": {
    "pycharm": {
     "name": "#%%\n"
    }
   },
   "outputs": [
    {
     "data": {
      "text/plain": [
       "torch.Size([1, 3])"
      ]
     },
     "execution_count": 52,
     "metadata": {},
     "output_type": "execute_result"
    }
   ],
   "source": [
    "ft.unsqueeze(0).shape"
   ]
  },
  {
   "cell_type": "markdown",
   "id": "715d445f",
   "metadata": {
    "pycharm": {
     "name": "#%% md\n"
    }
   },
   "source": [
    "### 7) Type Casting"
   ]
  },
  {
   "cell_type": "code",
   "execution_count": 53,
   "id": "0a81caf9",
   "metadata": {
    "pycharm": {
     "name": "#%%\n"
    }
   },
   "outputs": [],
   "source": [
    "lt = torch.LongTensor([1,2,3,4])"
   ]
  },
  {
   "cell_type": "code",
   "execution_count": 54,
   "id": "3a0d711d",
   "metadata": {
    "pycharm": {
     "name": "#%%\n"
    }
   },
   "outputs": [
    {
     "name": "stdout",
     "output_type": "stream",
     "text": [
      "tensor([1., 2., 3., 4.])\n"
     ]
    }
   ],
   "source": [
    "print(lt.float())"
   ]
  },
  {
   "cell_type": "code",
   "execution_count": 55,
   "id": "7646b63f",
   "metadata": {
    "pycharm": {
     "name": "#%%\n"
    }
   },
   "outputs": [
    {
     "name": "stdout",
     "output_type": "stream",
     "text": [
      "tensor([1, 0, 0, 1], dtype=torch.uint8)\n"
     ]
    }
   ],
   "source": [
    "bt = torch.ByteTensor([True, False, False, True])\n",
    "print(bt)"
   ]
  },
  {
   "cell_type": "code",
   "execution_count": 56,
   "id": "a9012728",
   "metadata": {
    "pycharm": {
     "name": "#%%\n"
    }
   },
   "outputs": [
    {
     "data": {
      "text/plain": [
       "tensor([1, 0, 0, 1])"
      ]
     },
     "execution_count": 56,
     "metadata": {},
     "output_type": "execute_result"
    }
   ],
   "source": [
    "bt.long()"
   ]
  },
  {
   "cell_type": "code",
   "execution_count": 57,
   "id": "f330ab9d",
   "metadata": {
    "pycharm": {
     "name": "#%%\n"
    }
   },
   "outputs": [
    {
     "data": {
      "text/plain": [
       "tensor([1., 0., 0., 1.])"
      ]
     },
     "execution_count": 57,
     "metadata": {},
     "output_type": "execute_result"
    }
   ],
   "source": [
    "bt.float()"
   ]
  },
  {
   "cell_type": "markdown",
   "id": "793e43c3",
   "metadata": {
    "pycharm": {
     "name": "#%% md\n"
    }
   },
   "source": [
    "### 8) concatenate"
   ]
  },
  {
   "cell_type": "code",
   "execution_count": 58,
   "id": "f249d861",
   "metadata": {
    "pycharm": {
     "name": "#%%\n"
    }
   },
   "outputs": [],
   "source": [
    "x = torch.FloatTensor([[1, 2], [3, 4]])\n",
    "y = torch.FloatTensor([[5, 6], [7, 8]])"
   ]
  },
  {
   "cell_type": "code",
   "execution_count": 59,
   "id": "6e9c5a9c",
   "metadata": {
    "pycharm": {
     "name": "#%%\n"
    }
   },
   "outputs": [
    {
     "data": {
      "text/plain": [
       "tensor([[1., 2.],\n",
       "        [3., 4.],\n",
       "        [5., 6.],\n",
       "        [7., 8.]])"
      ]
     },
     "execution_count": 59,
     "metadata": {},
     "output_type": "execute_result"
    }
   ],
   "source": [
    "torch.cat([x, y], dim=0)"
   ]
  },
  {
   "cell_type": "code",
   "execution_count": 60,
   "id": "e9d11aee",
   "metadata": {
    "pycharm": {
     "name": "#%%\n"
    }
   },
   "outputs": [
    {
     "data": {
      "text/plain": [
       "tensor([[1., 2., 5., 6.],\n",
       "        [3., 4., 7., 8.]])"
      ]
     },
     "execution_count": 60,
     "metadata": {},
     "output_type": "execute_result"
    }
   ],
   "source": [
    "torch.cat([x, y], dim=1)"
   ]
  },
  {
   "cell_type": "markdown",
   "id": "e7b46469",
   "metadata": {
    "pycharm": {
     "name": "#%% md\n"
    }
   },
   "source": [
    "### 10) Stacking"
   ]
  },
  {
   "cell_type": "code",
   "execution_count": 61,
   "id": "49012c25",
   "metadata": {
    "pycharm": {
     "name": "#%%\n"
    }
   },
   "outputs": [],
   "source": [
    "x = torch.FloatTensor([1, 4])\n",
    "y = torch.FloatTensor([2, 5])\n",
    "z = torch.FloatTensor([3, 6])"
   ]
  },
  {
   "cell_type": "code",
   "execution_count": 62,
   "id": "d4f0a318",
   "metadata": {
    "pycharm": {
     "name": "#%%\n"
    }
   },
   "outputs": [
    {
     "name": "stdout",
     "output_type": "stream",
     "text": [
      "tensor([[1., 4.],\n",
      "        [2., 5.],\n",
      "        [3., 6.]])\n"
     ]
    }
   ],
   "source": [
    "print(torch.stack([x, y, z]))"
   ]
  },
  {
   "cell_type": "markdown",
   "id": "fa4688a9",
   "metadata": {
    "pycharm": {
     "name": "#%% md\n"
    }
   },
   "source": [
    "### 11) 덮어쓰기 연산"
   ]
  },
  {
   "cell_type": "code",
   "execution_count": 63,
   "id": "767c7102",
   "metadata": {
    "pycharm": {
     "name": "#%%\n"
    }
   },
   "outputs": [],
   "source": [
    "x = torch.FloatTensor([[1, 2], [3, 4]])"
   ]
  },
  {
   "cell_type": "code",
   "execution_count": 64,
   "id": "dd5bd5f4",
   "metadata": {
    "pycharm": {
     "name": "#%%\n"
    }
   },
   "outputs": [
    {
     "data": {
      "text/plain": [
       "tensor([[2., 4.],\n",
       "        [6., 8.]])"
      ]
     },
     "execution_count": 64,
     "metadata": {},
     "output_type": "execute_result"
    }
   ],
   "source": [
    "x.mul(2.)"
   ]
  },
  {
   "cell_type": "code",
   "execution_count": 65,
   "id": "c3958c8f",
   "metadata": {
    "pycharm": {
     "name": "#%%\n"
    }
   },
   "outputs": [
    {
     "data": {
      "text/plain": [
       "tensor([[1., 2.],\n",
       "        [3., 4.]])"
      ]
     },
     "execution_count": 65,
     "metadata": {},
     "output_type": "execute_result"
    }
   ],
   "source": [
    "x"
   ]
  },
  {
   "cell_type": "code",
   "execution_count": 66,
   "id": "c34c646a",
   "metadata": {
    "pycharm": {
     "name": "#%%\n"
    }
   },
   "outputs": [
    {
     "data": {
      "text/plain": [
       "tensor([[2., 4.],\n",
       "        [6., 8.]])"
      ]
     },
     "execution_count": 66,
     "metadata": {},
     "output_type": "execute_result"
    }
   ],
   "source": [
    "# Overlap\n",
    "x.mul_(2.)"
   ]
  },
  {
   "cell_type": "code",
   "execution_count": 67,
   "id": "89c734a5",
   "metadata": {
    "pycharm": {
     "name": "#%%\n"
    }
   },
   "outputs": [
    {
     "data": {
      "text/plain": [
       "tensor([[2., 4.],\n",
       "        [6., 8.]])"
      ]
     },
     "execution_count": 67,
     "metadata": {},
     "output_type": "execute_result"
    }
   ],
   "source": [
    "x"
   ]
  },
  {
   "cell_type": "markdown",
   "id": "41bea9fe",
   "metadata": {
    "pycharm": {
     "name": "#%% md\n"
    }
   },
   "source": [
    "## 03. 선형회귀"
   ]
  },
  {
   "cell_type": "code",
   "execution_count": 68,
   "id": "da54d34b",
   "metadata": {
    "pycharm": {
     "name": "#%%\n"
    }
   },
   "outputs": [],
   "source": [
    "import torch\n",
    "import torch.nn as nn\n",
    "import torch.nn.functional as f\n",
    "import torch.optim as optim"
   ]
  },
  {
   "cell_type": "code",
   "execution_count": 69,
   "id": "e73225a8",
   "metadata": {
    "pycharm": {
     "name": "#%%\n"
    }
   },
   "outputs": [
    {
     "data": {
      "text/plain": [
       "<torch._C.Generator at 0x7f3b1c0d13d0>"
      ]
     },
     "execution_count": 69,
     "metadata": {},
     "output_type": "execute_result"
    }
   ],
   "source": [
    "torch.manual_seed(1)"
   ]
  },
  {
   "cell_type": "code",
   "execution_count": 70,
   "id": "237d0adc",
   "metadata": {
    "pycharm": {
     "name": "#%%\n"
    }
   },
   "outputs": [],
   "source": [
    "x_train = torch.FloatTensor([[1], [2], [3]])\n",
    "y_train = torch.FloatTensor([[2], [4], [6]])"
   ]
  },
  {
   "cell_type": "code",
   "execution_count": 71,
   "id": "f258d10b",
   "metadata": {
    "pycharm": {
     "name": "#%%\n"
    }
   },
   "outputs": [
    {
     "name": "stdout",
     "output_type": "stream",
     "text": [
      "tensor([0.], requires_grad=True)\n"
     ]
    }
   ],
   "source": [
    "W = torch.zeros(1, requires_grad=True)\n",
    "print(W)"
   ]
  },
  {
   "cell_type": "code",
   "execution_count": 72,
   "id": "a6a0c171",
   "metadata": {
    "pycharm": {
     "name": "#%%\n"
    }
   },
   "outputs": [
    {
     "name": "stdout",
     "output_type": "stream",
     "text": [
      "tensor([0.], requires_grad=True)\n"
     ]
    }
   ],
   "source": [
    "b = torch.zeros(1, requires_grad=True)\n",
    "print(b)"
   ]
  },
  {
   "cell_type": "code",
   "execution_count": 73,
   "id": "f58557b7",
   "metadata": {
    "pycharm": {
     "name": "#%%\n"
    }
   },
   "outputs": [],
   "source": [
    "hypothesis = x_train * W + b"
   ]
  },
  {
   "cell_type": "code",
   "execution_count": 74,
   "id": "e73cfbf4",
   "metadata": {
    "pycharm": {
     "name": "#%%\n"
    }
   },
   "outputs": [],
   "source": [
    "cost = torch.mean((hypothesis - y_train) ** 2)"
   ]
  },
  {
   "cell_type": "code",
   "execution_count": 75,
   "id": "a094fd2c",
   "metadata": {
    "pycharm": {
     "name": "#%%\n"
    }
   },
   "outputs": [
    {
     "data": {
      "text/plain": [
       "tensor(18.6667, grad_fn=<MeanBackward0>)"
      ]
     },
     "execution_count": 75,
     "metadata": {},
     "output_type": "execute_result"
    }
   ],
   "source": [
    "cost"
   ]
  },
  {
   "cell_type": "code",
   "execution_count": 76,
   "id": "7ad56440",
   "metadata": {
    "pycharm": {
     "name": "#%%\n"
    }
   },
   "outputs": [],
   "source": [
    "optimizer = optim.SGD([W, b], lr=.01)"
   ]
  },
  {
   "cell_type": "code",
   "execution_count": 77,
   "id": "ae5d4d9f",
   "metadata": {
    "pycharm": {
     "name": "#%%\n"
    }
   },
   "outputs": [],
   "source": [
    "optimizer.zero_grad()"
   ]
  },
  {
   "cell_type": "code",
   "execution_count": 78,
   "id": "c0836018",
   "metadata": {
    "pycharm": {
     "name": "#%%\n"
    }
   },
   "outputs": [],
   "source": [
    "cost.backward()"
   ]
  },
  {
   "cell_type": "code",
   "execution_count": 79,
   "id": "e0a450a3",
   "metadata": {
    "pycharm": {
     "name": "#%%\n"
    }
   },
   "outputs": [],
   "source": [
    "optimizer.step()"
   ]
  },
  {
   "cell_type": "code",
   "execution_count": 80,
   "id": "423d7cb4",
   "metadata": {
    "pycharm": {
     "name": "#%%\n"
    }
   },
   "outputs": [
    {
     "name": "stdout",
     "output_type": "stream",
     "text": [
      "Epoch    0/1999 W: 0.187, b: 0.080 Cost: 18.666666\n",
      "Epoch  100/1999 W: 1.746, b: 0.578 Cost: 0.048171\n",
      "Epoch  200/1999 W: 1.800, b: 0.454 Cost: 0.029767\n",
      "Epoch  300/1999 W: 1.843, b: 0.357 Cost: 0.018394\n",
      "Epoch  400/1999 W: 1.876, b: 0.281 Cost: 0.011366\n",
      "Epoch  500/1999 W: 1.903, b: 0.221 Cost: 0.007024\n",
      "Epoch  600/1999 W: 1.924, b: 0.174 Cost: 0.004340\n",
      "Epoch  700/1999 W: 1.940, b: 0.136 Cost: 0.002682\n",
      "Epoch  800/1999 W: 1.953, b: 0.107 Cost: 0.001657\n",
      "Epoch  900/1999 W: 1.963, b: 0.084 Cost: 0.001024\n",
      "Epoch 1000/1999 W: 1.971, b: 0.066 Cost: 0.000633\n",
      "Epoch 1100/1999 W: 1.977, b: 0.052 Cost: 0.000391\n",
      "Epoch 1200/1999 W: 1.982, b: 0.041 Cost: 0.000242\n",
      "Epoch 1300/1999 W: 1.986, b: 0.032 Cost: 0.000149\n",
      "Epoch 1400/1999 W: 1.989, b: 0.025 Cost: 0.000092\n",
      "Epoch 1500/1999 W: 1.991, b: 0.020 Cost: 0.000057\n",
      "Epoch 1600/1999 W: 1.993, b: 0.016 Cost: 0.000035\n",
      "Epoch 1700/1999 W: 1.995, b: 0.012 Cost: 0.000022\n",
      "Epoch 1800/1999 W: 1.996, b: 0.010 Cost: 0.000013\n",
      "Epoch 1900/1999 W: 1.997, b: 0.008 Cost: 0.000008\n"
     ]
    }
   ],
   "source": [
    "# 데이터\n",
    "x_train = torch.FloatTensor([[1], [2], [3]])\n",
    "y_train = torch.FloatTensor([[2], [4], [6]])\n",
    "# 모델 초기화\n",
    "W = torch.zeros(1, requires_grad=True)\n",
    "b = torch.zeros(1, requires_grad=True)\n",
    "# optimizer 설정\n",
    "optimizer = optim.SGD([W, b], lr=0.01)\n",
    "\n",
    "nb_epochs = 1999 # 원하는만큼 경사 하강법을 반복\n",
    "for epoch in range(nb_epochs + 1):\n",
    "\n",
    "    # H(x) 계산\n",
    "    hypothesis = x_train * W + b\n",
    "\n",
    "    # cost 계산\n",
    "    cost = torch.mean((hypothesis - y_train) ** 2)\n",
    "\n",
    "    # cost로 H(x) 개선\n",
    "    optimizer.zero_grad()\n",
    "    cost.backward()\n",
    "    optimizer.step()\n",
    "\n",
    "    # 100번마다 로그 출력\n",
    "    if epoch % 100 == 0:\n",
    "        print('Epoch {:4d}/{} W: {:.3f}, b: {:.3f} Cost: {:.6f}'.format(\n",
    "            epoch, nb_epochs, W.item(), b.item(), cost.item()\n",
    "        ))"
   ]
  },
  {
   "cell_type": "markdown",
   "id": "65452656",
   "metadata": {
    "pycharm": {
     "name": "#%% md\n"
    }
   },
   "source": [
    "### 5. optimizer.zero_grad()가 필요한 이유"
   ]
  },
  {
   "cell_type": "code",
   "execution_count": 81,
   "id": "8963dc12",
   "metadata": {
    "pycharm": {
     "name": "#%%\n"
    }
   },
   "outputs": [],
   "source": [
    "w = torch.tensor(2., requires_grad=True)"
   ]
  },
  {
   "cell_type": "code",
   "execution_count": 82,
   "id": "eefe37ef",
   "metadata": {
    "pycharm": {
     "name": "#%%\n"
    }
   },
   "outputs": [],
   "source": [
    "np_epochs = 20"
   ]
  },
  {
   "cell_type": "code",
   "execution_count": 83,
   "id": "e0b73f20",
   "metadata": {
    "pycharm": {
     "name": "#%%\n"
    }
   },
   "outputs": [
    {
     "name": "stdout",
     "output_type": "stream",
     "text": [
      "수식을 w로 미분한 값: 2.0\n",
      "수식을 w로 미분한 값: 4.0\n",
      "수식을 w로 미분한 값: 6.0\n",
      "수식을 w로 미분한 값: 8.0\n",
      "수식을 w로 미분한 값: 10.0\n",
      "수식을 w로 미분한 값: 12.0\n",
      "수식을 w로 미분한 값: 14.0\n",
      "수식을 w로 미분한 값: 16.0\n",
      "수식을 w로 미분한 값: 18.0\n",
      "수식을 w로 미분한 값: 20.0\n",
      "수식을 w로 미분한 값: 22.0\n",
      "수식을 w로 미분한 값: 24.0\n",
      "수식을 w로 미분한 값: 26.0\n",
      "수식을 w로 미분한 값: 28.0\n",
      "수식을 w로 미분한 값: 30.0\n",
      "수식을 w로 미분한 값: 32.0\n",
      "수식을 w로 미분한 값: 34.0\n",
      "수식을 w로 미분한 값: 36.0\n",
      "수식을 w로 미분한 값: 38.0\n",
      "수식을 w로 미분한 값: 40.0\n",
      "수식을 w로 미분한 값: 42.0\n",
      "수식을 w로 미분한 값: 44.0\n",
      "수식을 w로 미분한 값: 46.0\n",
      "수식을 w로 미분한 값: 48.0\n",
      "수식을 w로 미분한 값: 50.0\n",
      "수식을 w로 미분한 값: 52.0\n",
      "수식을 w로 미분한 값: 54.0\n",
      "수식을 w로 미분한 값: 56.0\n",
      "수식을 w로 미분한 값: 58.0\n",
      "수식을 w로 미분한 값: 60.0\n",
      "수식을 w로 미분한 값: 62.0\n",
      "수식을 w로 미분한 값: 64.0\n",
      "수식을 w로 미분한 값: 66.0\n",
      "수식을 w로 미분한 값: 68.0\n",
      "수식을 w로 미분한 값: 70.0\n",
      "수식을 w로 미분한 값: 72.0\n",
      "수식을 w로 미분한 값: 74.0\n",
      "수식을 w로 미분한 값: 76.0\n",
      "수식을 w로 미분한 값: 78.0\n",
      "수식을 w로 미분한 값: 80.0\n",
      "수식을 w로 미분한 값: 82.0\n",
      "수식을 w로 미분한 값: 84.0\n",
      "수식을 w로 미분한 값: 86.0\n",
      "수식을 w로 미분한 값: 88.0\n",
      "수식을 w로 미분한 값: 90.0\n",
      "수식을 w로 미분한 값: 92.0\n",
      "수식을 w로 미분한 값: 94.0\n",
      "수식을 w로 미분한 값: 96.0\n",
      "수식을 w로 미분한 값: 98.0\n",
      "수식을 w로 미분한 값: 100.0\n",
      "수식을 w로 미분한 값: 102.0\n",
      "수식을 w로 미분한 값: 104.0\n",
      "수식을 w로 미분한 값: 106.0\n",
      "수식을 w로 미분한 값: 108.0\n",
      "수식을 w로 미분한 값: 110.0\n",
      "수식을 w로 미분한 값: 112.0\n",
      "수식을 w로 미분한 값: 114.0\n",
      "수식을 w로 미분한 값: 116.0\n",
      "수식을 w로 미분한 값: 118.0\n",
      "수식을 w로 미분한 값: 120.0\n",
      "수식을 w로 미분한 값: 122.0\n",
      "수식을 w로 미분한 값: 124.0\n",
      "수식을 w로 미분한 값: 126.0\n",
      "수식을 w로 미분한 값: 128.0\n",
      "수식을 w로 미분한 값: 130.0\n",
      "수식을 w로 미분한 값: 132.0\n",
      "수식을 w로 미분한 값: 134.0\n",
      "수식을 w로 미분한 값: 136.0\n",
      "수식을 w로 미분한 값: 138.0\n",
      "수식을 w로 미분한 값: 140.0\n",
      "수식을 w로 미분한 값: 142.0\n",
      "수식을 w로 미분한 값: 144.0\n",
      "수식을 w로 미분한 값: 146.0\n",
      "수식을 w로 미분한 값: 148.0\n",
      "수식을 w로 미분한 값: 150.0\n",
      "수식을 w로 미분한 값: 152.0\n",
      "수식을 w로 미분한 값: 154.0\n",
      "수식을 w로 미분한 값: 156.0\n",
      "수식을 w로 미분한 값: 158.0\n",
      "수식을 w로 미분한 값: 160.0\n",
      "수식을 w로 미분한 값: 162.0\n",
      "수식을 w로 미분한 값: 164.0\n",
      "수식을 w로 미분한 값: 166.0\n",
      "수식을 w로 미분한 값: 168.0\n",
      "수식을 w로 미분한 값: 170.0\n",
      "수식을 w로 미분한 값: 172.0\n",
      "수식을 w로 미분한 값: 174.0\n",
      "수식을 w로 미분한 값: 176.0\n",
      "수식을 w로 미분한 값: 178.0\n",
      "수식을 w로 미분한 값: 180.0\n",
      "수식을 w로 미분한 값: 182.0\n",
      "수식을 w로 미분한 값: 184.0\n",
      "수식을 w로 미분한 값: 186.0\n",
      "수식을 w로 미분한 값: 188.0\n",
      "수식을 w로 미분한 값: 190.0\n",
      "수식을 w로 미분한 값: 192.0\n",
      "수식을 w로 미분한 값: 194.0\n",
      "수식을 w로 미분한 값: 196.0\n",
      "수식을 w로 미분한 값: 198.0\n",
      "수식을 w로 미분한 값: 200.0\n",
      "수식을 w로 미분한 값: 202.0\n",
      "수식을 w로 미분한 값: 204.0\n",
      "수식을 w로 미분한 값: 206.0\n",
      "수식을 w로 미분한 값: 208.0\n",
      "수식을 w로 미분한 값: 210.0\n",
      "수식을 w로 미분한 값: 212.0\n",
      "수식을 w로 미분한 값: 214.0\n",
      "수식을 w로 미분한 값: 216.0\n",
      "수식을 w로 미분한 값: 218.0\n",
      "수식을 w로 미분한 값: 220.0\n",
      "수식을 w로 미분한 값: 222.0\n",
      "수식을 w로 미분한 값: 224.0\n",
      "수식을 w로 미분한 값: 226.0\n",
      "수식을 w로 미분한 값: 228.0\n",
      "수식을 w로 미분한 값: 230.0\n",
      "수식을 w로 미분한 값: 232.0\n",
      "수식을 w로 미분한 값: 234.0\n",
      "수식을 w로 미분한 값: 236.0\n",
      "수식을 w로 미분한 값: 238.0\n",
      "수식을 w로 미분한 값: 240.0\n",
      "수식을 w로 미분한 값: 242.0\n",
      "수식을 w로 미분한 값: 244.0\n",
      "수식을 w로 미분한 값: 246.0\n",
      "수식을 w로 미분한 값: 248.0\n",
      "수식을 w로 미분한 값: 250.0\n",
      "수식을 w로 미분한 값: 252.0\n",
      "수식을 w로 미분한 값: 254.0\n",
      "수식을 w로 미분한 값: 256.0\n",
      "수식을 w로 미분한 값: 258.0\n",
      "수식을 w로 미분한 값: 260.0\n",
      "수식을 w로 미분한 값: 262.0\n",
      "수식을 w로 미분한 값: 264.0\n",
      "수식을 w로 미분한 값: 266.0\n",
      "수식을 w로 미분한 값: 268.0\n",
      "수식을 w로 미분한 값: 270.0\n",
      "수식을 w로 미분한 값: 272.0\n",
      "수식을 w로 미분한 값: 274.0\n",
      "수식을 w로 미분한 값: 276.0\n",
      "수식을 w로 미분한 값: 278.0\n",
      "수식을 w로 미분한 값: 280.0\n",
      "수식을 w로 미분한 값: 282.0\n",
      "수식을 w로 미분한 값: 284.0\n",
      "수식을 w로 미분한 값: 286.0\n",
      "수식을 w로 미분한 값: 288.0\n",
      "수식을 w로 미분한 값: 290.0\n",
      "수식을 w로 미분한 값: 292.0\n",
      "수식을 w로 미분한 값: 294.0\n",
      "수식을 w로 미분한 값: 296.0\n",
      "수식을 w로 미분한 값: 298.0\n",
      "수식을 w로 미분한 값: 300.0\n",
      "수식을 w로 미분한 값: 302.0\n",
      "수식을 w로 미분한 값: 304.0\n",
      "수식을 w로 미분한 값: 306.0\n",
      "수식을 w로 미분한 값: 308.0\n",
      "수식을 w로 미분한 값: 310.0\n",
      "수식을 w로 미분한 값: 312.0\n",
      "수식을 w로 미분한 값: 314.0\n",
      "수식을 w로 미분한 값: 316.0\n",
      "수식을 w로 미분한 값: 318.0\n",
      "수식을 w로 미분한 값: 320.0\n",
      "수식을 w로 미분한 값: 322.0\n",
      "수식을 w로 미분한 값: 324.0\n",
      "수식을 w로 미분한 값: 326.0\n",
      "수식을 w로 미분한 값: 328.0\n",
      "수식을 w로 미분한 값: 330.0\n",
      "수식을 w로 미분한 값: 332.0\n",
      "수식을 w로 미분한 값: 334.0\n",
      "수식을 w로 미분한 값: 336.0\n",
      "수식을 w로 미분한 값: 338.0\n",
      "수식을 w로 미분한 값: 340.0\n",
      "수식을 w로 미분한 값: 342.0\n",
      "수식을 w로 미분한 값: 344.0\n",
      "수식을 w로 미분한 값: 346.0\n",
      "수식을 w로 미분한 값: 348.0\n",
      "수식을 w로 미분한 값: 350.0\n",
      "수식을 w로 미분한 값: 352.0\n",
      "수식을 w로 미분한 값: 354.0\n",
      "수식을 w로 미분한 값: 356.0\n",
      "수식을 w로 미분한 값: 358.0\n",
      "수식을 w로 미분한 값: 360.0\n",
      "수식을 w로 미분한 값: 362.0\n",
      "수식을 w로 미분한 값: 364.0\n",
      "수식을 w로 미분한 값: 366.0\n",
      "수식을 w로 미분한 값: 368.0\n",
      "수식을 w로 미분한 값: 370.0\n",
      "수식을 w로 미분한 값: 372.0\n",
      "수식을 w로 미분한 값: 374.0\n",
      "수식을 w로 미분한 값: 376.0\n",
      "수식을 w로 미분한 값: 378.0\n",
      "수식을 w로 미분한 값: 380.0\n",
      "수식을 w로 미분한 값: 382.0\n",
      "수식을 w로 미분한 값: 384.0\n",
      "수식을 w로 미분한 값: 386.0\n",
      "수식을 w로 미분한 값: 388.0\n",
      "수식을 w로 미분한 값: 390.0\n",
      "수식을 w로 미분한 값: 392.0\n",
      "수식을 w로 미분한 값: 394.0\n",
      "수식을 w로 미분한 값: 396.0\n",
      "수식을 w로 미분한 값: 398.0\n",
      "수식을 w로 미분한 값: 400.0\n",
      "수식을 w로 미분한 값: 402.0\n",
      "수식을 w로 미분한 값: 404.0\n",
      "수식을 w로 미분한 값: 406.0\n",
      "수식을 w로 미분한 값: 408.0\n",
      "수식을 w로 미분한 값: 410.0\n",
      "수식을 w로 미분한 값: 412.0\n",
      "수식을 w로 미분한 값: 414.0\n",
      "수식을 w로 미분한 값: 416.0\n",
      "수식을 w로 미분한 값: 418.0\n",
      "수식을 w로 미분한 값: 420.0\n",
      "수식을 w로 미분한 값: 422.0\n",
      "수식을 w로 미분한 값: 424.0\n",
      "수식을 w로 미분한 값: 426.0\n",
      "수식을 w로 미분한 값: 428.0\n",
      "수식을 w로 미분한 값: 430.0\n",
      "수식을 w로 미분한 값: 432.0\n",
      "수식을 w로 미분한 값: 434.0\n",
      "수식을 w로 미분한 값: 436.0\n",
      "수식을 w로 미분한 값: 438.0\n",
      "수식을 w로 미분한 값: 440.0\n",
      "수식을 w로 미분한 값: 442.0\n",
      "수식을 w로 미분한 값: 444.0\n",
      "수식을 w로 미분한 값: 446.0\n",
      "수식을 w로 미분한 값: 448.0\n",
      "수식을 w로 미분한 값: 450.0\n",
      "수식을 w로 미분한 값: 452.0\n",
      "수식을 w로 미분한 값: 454.0\n",
      "수식을 w로 미분한 값: 456.0\n",
      "수식을 w로 미분한 값: 458.0\n",
      "수식을 w로 미분한 값: 460.0\n",
      "수식을 w로 미분한 값: 462.0\n",
      "수식을 w로 미분한 값: 464.0\n",
      "수식을 w로 미분한 값: 466.0\n",
      "수식을 w로 미분한 값: 468.0\n",
      "수식을 w로 미분한 값: 470.0\n",
      "수식을 w로 미분한 값: 472.0\n",
      "수식을 w로 미분한 값: 474.0\n",
      "수식을 w로 미분한 값: 476.0\n",
      "수식을 w로 미분한 값: 478.0\n",
      "수식을 w로 미분한 값: 480.0\n",
      "수식을 w로 미분한 값: 482.0\n",
      "수식을 w로 미분한 값: 484.0\n",
      "수식을 w로 미분한 값: 486.0\n",
      "수식을 w로 미분한 값: 488.0\n",
      "수식을 w로 미분한 값: 490.0\n",
      "수식을 w로 미분한 값: 492.0\n",
      "수식을 w로 미분한 값: 494.0\n",
      "수식을 w로 미분한 값: 496.0\n",
      "수식을 w로 미분한 값: 498.0\n",
      "수식을 w로 미분한 값: 500.0\n",
      "수식을 w로 미분한 값: 502.0\n",
      "수식을 w로 미분한 값: 504.0\n",
      "수식을 w로 미분한 값: 506.0\n",
      "수식을 w로 미분한 값: 508.0\n",
      "수식을 w로 미분한 값: 510.0\n",
      "수식을 w로 미분한 값: 512.0\n",
      "수식을 w로 미분한 값: 514.0\n",
      "수식을 w로 미분한 값: 516.0\n",
      "수식을 w로 미분한 값: 518.0\n",
      "수식을 w로 미분한 값: 520.0\n",
      "수식을 w로 미분한 값: 522.0\n",
      "수식을 w로 미분한 값: 524.0\n",
      "수식을 w로 미분한 값: 526.0\n",
      "수식을 w로 미분한 값: 528.0\n",
      "수식을 w로 미분한 값: 530.0\n",
      "수식을 w로 미분한 값: 532.0\n",
      "수식을 w로 미분한 값: 534.0\n",
      "수식을 w로 미분한 값: 536.0\n",
      "수식을 w로 미분한 값: 538.0\n",
      "수식을 w로 미분한 값: 540.0\n",
      "수식을 w로 미분한 값: 542.0\n",
      "수식을 w로 미분한 값: 544.0\n",
      "수식을 w로 미분한 값: 546.0\n",
      "수식을 w로 미분한 값: 548.0\n",
      "수식을 w로 미분한 값: 550.0\n",
      "수식을 w로 미분한 값: 552.0\n",
      "수식을 w로 미분한 값: 554.0\n",
      "수식을 w로 미분한 값: 556.0\n",
      "수식을 w로 미분한 값: 558.0\n",
      "수식을 w로 미분한 값: 560.0\n",
      "수식을 w로 미분한 값: 562.0\n",
      "수식을 w로 미분한 값: 564.0\n",
      "수식을 w로 미분한 값: 566.0\n",
      "수식을 w로 미분한 값: 568.0\n",
      "수식을 w로 미분한 값: 570.0\n",
      "수식을 w로 미분한 값: 572.0\n",
      "수식을 w로 미분한 값: 574.0\n",
      "수식을 w로 미분한 값: 576.0\n",
      "수식을 w로 미분한 값: 578.0\n",
      "수식을 w로 미분한 값: 580.0\n",
      "수식을 w로 미분한 값: 582.0\n",
      "수식을 w로 미분한 값: 584.0\n",
      "수식을 w로 미분한 값: 586.0\n",
      "수식을 w로 미분한 값: 588.0\n",
      "수식을 w로 미분한 값: 590.0\n",
      "수식을 w로 미분한 값: 592.0\n",
      "수식을 w로 미분한 값: 594.0\n",
      "수식을 w로 미분한 값: 596.0\n",
      "수식을 w로 미분한 값: 598.0\n",
      "수식을 w로 미분한 값: 600.0\n",
      "수식을 w로 미분한 값: 602.0\n",
      "수식을 w로 미분한 값: 604.0\n",
      "수식을 w로 미분한 값: 606.0\n",
      "수식을 w로 미분한 값: 608.0\n",
      "수식을 w로 미분한 값: 610.0\n",
      "수식을 w로 미분한 값: 612.0\n",
      "수식을 w로 미분한 값: 614.0\n",
      "수식을 w로 미분한 값: 616.0\n",
      "수식을 w로 미분한 값: 618.0\n",
      "수식을 w로 미분한 값: 620.0\n",
      "수식을 w로 미분한 값: 622.0\n",
      "수식을 w로 미분한 값: 624.0\n",
      "수식을 w로 미분한 값: 626.0\n",
      "수식을 w로 미분한 값: 628.0\n",
      "수식을 w로 미분한 값: 630.0\n",
      "수식을 w로 미분한 값: 632.0\n",
      "수식을 w로 미분한 값: 634.0\n",
      "수식을 w로 미분한 값: 636.0\n",
      "수식을 w로 미분한 값: 638.0\n",
      "수식을 w로 미분한 값: 640.0\n",
      "수식을 w로 미분한 값: 642.0\n",
      "수식을 w로 미분한 값: 644.0\n",
      "수식을 w로 미분한 값: 646.0\n",
      "수식을 w로 미분한 값: 648.0\n",
      "수식을 w로 미분한 값: 650.0\n",
      "수식을 w로 미분한 값: 652.0\n",
      "수식을 w로 미분한 값: 654.0\n",
      "수식을 w로 미분한 값: 656.0\n",
      "수식을 w로 미분한 값: 658.0\n",
      "수식을 w로 미분한 값: 660.0\n",
      "수식을 w로 미분한 값: 662.0\n",
      "수식을 w로 미분한 값: 664.0\n",
      "수식을 w로 미분한 값: 666.0\n",
      "수식을 w로 미분한 값: 668.0\n",
      "수식을 w로 미분한 값: 670.0\n",
      "수식을 w로 미분한 값: 672.0\n",
      "수식을 w로 미분한 값: 674.0\n",
      "수식을 w로 미분한 값: 676.0\n",
      "수식을 w로 미분한 값: 678.0\n",
      "수식을 w로 미분한 값: 680.0\n",
      "수식을 w로 미분한 값: 682.0\n",
      "수식을 w로 미분한 값: 684.0\n",
      "수식을 w로 미분한 값: 686.0\n",
      "수식을 w로 미분한 값: 688.0\n",
      "수식을 w로 미분한 값: 690.0\n",
      "수식을 w로 미분한 값: 692.0\n",
      "수식을 w로 미분한 값: 694.0\n",
      "수식을 w로 미분한 값: 696.0\n",
      "수식을 w로 미분한 값: 698.0\n",
      "수식을 w로 미분한 값: 700.0\n",
      "수식을 w로 미분한 값: 702.0\n",
      "수식을 w로 미분한 값: 704.0\n",
      "수식을 w로 미분한 값: 706.0\n",
      "수식을 w로 미분한 값: 708.0\n",
      "수식을 w로 미분한 값: 710.0\n",
      "수식을 w로 미분한 값: 712.0\n",
      "수식을 w로 미분한 값: 714.0\n",
      "수식을 w로 미분한 값: 716.0\n",
      "수식을 w로 미분한 값: 718.0\n",
      "수식을 w로 미분한 값: 720.0\n",
      "수식을 w로 미분한 값: 722.0\n",
      "수식을 w로 미분한 값: 724.0\n",
      "수식을 w로 미분한 값: 726.0\n",
      "수식을 w로 미분한 값: 728.0\n",
      "수식을 w로 미분한 값: 730.0\n",
      "수식을 w로 미분한 값: 732.0\n",
      "수식을 w로 미분한 값: 734.0\n",
      "수식을 w로 미분한 값: 736.0\n",
      "수식을 w로 미분한 값: 738.0\n",
      "수식을 w로 미분한 값: 740.0\n",
      "수식을 w로 미분한 값: 742.0\n",
      "수식을 w로 미분한 값: 744.0\n",
      "수식을 w로 미분한 값: 746.0\n",
      "수식을 w로 미분한 값: 748.0\n",
      "수식을 w로 미분한 값: 750.0\n",
      "수식을 w로 미분한 값: 752.0\n",
      "수식을 w로 미분한 값: 754.0\n",
      "수식을 w로 미분한 값: 756.0\n",
      "수식을 w로 미분한 값: 758.0\n",
      "수식을 w로 미분한 값: 760.0\n",
      "수식을 w로 미분한 값: 762.0\n",
      "수식을 w로 미분한 값: 764.0\n",
      "수식을 w로 미분한 값: 766.0\n",
      "수식을 w로 미분한 값: 768.0\n",
      "수식을 w로 미분한 값: 770.0\n",
      "수식을 w로 미분한 값: 772.0\n",
      "수식을 w로 미분한 값: 774.0\n",
      "수식을 w로 미분한 값: 776.0\n",
      "수식을 w로 미분한 값: 778.0\n",
      "수식을 w로 미분한 값: 780.0\n",
      "수식을 w로 미분한 값: 782.0\n",
      "수식을 w로 미분한 값: 784.0\n",
      "수식을 w로 미분한 값: 786.0\n",
      "수식을 w로 미분한 값: 788.0\n",
      "수식을 w로 미분한 값: 790.0\n",
      "수식을 w로 미분한 값: 792.0\n",
      "수식을 w로 미분한 값: 794.0\n",
      "수식을 w로 미분한 값: 796.0\n",
      "수식을 w로 미분한 값: 798.0\n",
      "수식을 w로 미분한 값: 800.0\n",
      "수식을 w로 미분한 값: 802.0\n",
      "수식을 w로 미분한 값: 804.0\n",
      "수식을 w로 미분한 값: 806.0\n",
      "수식을 w로 미분한 값: 808.0\n",
      "수식을 w로 미분한 값: 810.0\n",
      "수식을 w로 미분한 값: 812.0\n",
      "수식을 w로 미분한 값: 814.0\n",
      "수식을 w로 미분한 값: 816.0\n",
      "수식을 w로 미분한 값: 818.0\n",
      "수식을 w로 미분한 값: 820.0\n",
      "수식을 w로 미분한 값: 822.0\n",
      "수식을 w로 미분한 값: 824.0\n",
      "수식을 w로 미분한 값: 826.0\n"
     ]
    },
    {
     "name": "stdout",
     "output_type": "stream",
     "text": [
      "수식을 w로 미분한 값: 828.0\n",
      "수식을 w로 미분한 값: 830.0\n",
      "수식을 w로 미분한 값: 832.0\n",
      "수식을 w로 미분한 값: 834.0\n",
      "수식을 w로 미분한 값: 836.0\n",
      "수식을 w로 미분한 값: 838.0\n",
      "수식을 w로 미분한 값: 840.0\n",
      "수식을 w로 미분한 값: 842.0\n",
      "수식을 w로 미분한 값: 844.0\n",
      "수식을 w로 미분한 값: 846.0\n",
      "수식을 w로 미분한 값: 848.0\n",
      "수식을 w로 미분한 값: 850.0\n",
      "수식을 w로 미분한 값: 852.0\n",
      "수식을 w로 미분한 값: 854.0\n",
      "수식을 w로 미분한 값: 856.0\n",
      "수식을 w로 미분한 값: 858.0\n",
      "수식을 w로 미분한 값: 860.0\n",
      "수식을 w로 미분한 값: 862.0\n",
      "수식을 w로 미분한 값: 864.0\n",
      "수식을 w로 미분한 값: 866.0\n",
      "수식을 w로 미분한 값: 868.0\n",
      "수식을 w로 미분한 값: 870.0\n",
      "수식을 w로 미분한 값: 872.0\n",
      "수식을 w로 미분한 값: 874.0\n",
      "수식을 w로 미분한 값: 876.0\n",
      "수식을 w로 미분한 값: 878.0\n",
      "수식을 w로 미분한 값: 880.0\n",
      "수식을 w로 미분한 값: 882.0\n",
      "수식을 w로 미분한 값: 884.0\n",
      "수식을 w로 미분한 값: 886.0\n",
      "수식을 w로 미분한 값: 888.0\n",
      "수식을 w로 미분한 값: 890.0\n",
      "수식을 w로 미분한 값: 892.0\n",
      "수식을 w로 미분한 값: 894.0\n",
      "수식을 w로 미분한 값: 896.0\n",
      "수식을 w로 미분한 값: 898.0\n",
      "수식을 w로 미분한 값: 900.0\n",
      "수식을 w로 미분한 값: 902.0\n",
      "수식을 w로 미분한 값: 904.0\n",
      "수식을 w로 미분한 값: 906.0\n",
      "수식을 w로 미분한 값: 908.0\n",
      "수식을 w로 미분한 값: 910.0\n",
      "수식을 w로 미분한 값: 912.0\n",
      "수식을 w로 미분한 값: 914.0\n",
      "수식을 w로 미분한 값: 916.0\n",
      "수식을 w로 미분한 값: 918.0\n",
      "수식을 w로 미분한 값: 920.0\n",
      "수식을 w로 미분한 값: 922.0\n",
      "수식을 w로 미분한 값: 924.0\n",
      "수식을 w로 미분한 값: 926.0\n",
      "수식을 w로 미분한 값: 928.0\n",
      "수식을 w로 미분한 값: 930.0\n",
      "수식을 w로 미분한 값: 932.0\n",
      "수식을 w로 미분한 값: 934.0\n",
      "수식을 w로 미분한 값: 936.0\n",
      "수식을 w로 미분한 값: 938.0\n",
      "수식을 w로 미분한 값: 940.0\n",
      "수식을 w로 미분한 값: 942.0\n",
      "수식을 w로 미분한 값: 944.0\n",
      "수식을 w로 미분한 값: 946.0\n",
      "수식을 w로 미분한 값: 948.0\n",
      "수식을 w로 미분한 값: 950.0\n",
      "수식을 w로 미분한 값: 952.0\n",
      "수식을 w로 미분한 값: 954.0\n",
      "수식을 w로 미분한 값: 956.0\n",
      "수식을 w로 미분한 값: 958.0\n",
      "수식을 w로 미분한 값: 960.0\n",
      "수식을 w로 미분한 값: 962.0\n",
      "수식을 w로 미분한 값: 964.0\n",
      "수식을 w로 미분한 값: 966.0\n",
      "수식을 w로 미분한 값: 968.0\n",
      "수식을 w로 미분한 값: 970.0\n",
      "수식을 w로 미분한 값: 972.0\n",
      "수식을 w로 미분한 값: 974.0\n",
      "수식을 w로 미분한 값: 976.0\n",
      "수식을 w로 미분한 값: 978.0\n",
      "수식을 w로 미분한 값: 980.0\n",
      "수식을 w로 미분한 값: 982.0\n",
      "수식을 w로 미분한 값: 984.0\n",
      "수식을 w로 미분한 값: 986.0\n",
      "수식을 w로 미분한 값: 988.0\n",
      "수식을 w로 미분한 값: 990.0\n",
      "수식을 w로 미분한 값: 992.0\n",
      "수식을 w로 미분한 값: 994.0\n",
      "수식을 w로 미분한 값: 996.0\n",
      "수식을 w로 미분한 값: 998.0\n",
      "수식을 w로 미분한 값: 1000.0\n",
      "수식을 w로 미분한 값: 1002.0\n",
      "수식을 w로 미분한 값: 1004.0\n",
      "수식을 w로 미분한 값: 1006.0\n",
      "수식을 w로 미분한 값: 1008.0\n",
      "수식을 w로 미분한 값: 1010.0\n",
      "수식을 w로 미분한 값: 1012.0\n",
      "수식을 w로 미분한 값: 1014.0\n",
      "수식을 w로 미분한 값: 1016.0\n",
      "수식을 w로 미분한 값: 1018.0\n",
      "수식을 w로 미분한 값: 1020.0\n",
      "수식을 w로 미분한 값: 1022.0\n",
      "수식을 w로 미분한 값: 1024.0\n",
      "수식을 w로 미분한 값: 1026.0\n",
      "수식을 w로 미분한 값: 1028.0\n",
      "수식을 w로 미분한 값: 1030.0\n",
      "수식을 w로 미분한 값: 1032.0\n",
      "수식을 w로 미분한 값: 1034.0\n",
      "수식을 w로 미분한 값: 1036.0\n",
      "수식을 w로 미분한 값: 1038.0\n",
      "수식을 w로 미분한 값: 1040.0\n",
      "수식을 w로 미분한 값: 1042.0\n",
      "수식을 w로 미분한 값: 1044.0\n",
      "수식을 w로 미분한 값: 1046.0\n",
      "수식을 w로 미분한 값: 1048.0\n",
      "수식을 w로 미분한 값: 1050.0\n",
      "수식을 w로 미분한 값: 1052.0\n",
      "수식을 w로 미분한 값: 1054.0\n",
      "수식을 w로 미분한 값: 1056.0\n",
      "수식을 w로 미분한 값: 1058.0\n",
      "수식을 w로 미분한 값: 1060.0\n",
      "수식을 w로 미분한 값: 1062.0\n",
      "수식을 w로 미분한 값: 1064.0\n",
      "수식을 w로 미분한 값: 1066.0\n",
      "수식을 w로 미분한 값: 1068.0\n",
      "수식을 w로 미분한 값: 1070.0\n",
      "수식을 w로 미분한 값: 1072.0\n",
      "수식을 w로 미분한 값: 1074.0\n",
      "수식을 w로 미분한 값: 1076.0\n",
      "수식을 w로 미분한 값: 1078.0\n",
      "수식을 w로 미분한 값: 1080.0\n",
      "수식을 w로 미분한 값: 1082.0\n",
      "수식을 w로 미분한 값: 1084.0\n",
      "수식을 w로 미분한 값: 1086.0\n",
      "수식을 w로 미분한 값: 1088.0\n",
      "수식을 w로 미분한 값: 1090.0\n",
      "수식을 w로 미분한 값: 1092.0\n",
      "수식을 w로 미분한 값: 1094.0\n",
      "수식을 w로 미분한 값: 1096.0\n",
      "수식을 w로 미분한 값: 1098.0\n",
      "수식을 w로 미분한 값: 1100.0\n",
      "수식을 w로 미분한 값: 1102.0\n",
      "수식을 w로 미분한 값: 1104.0\n",
      "수식을 w로 미분한 값: 1106.0\n",
      "수식을 w로 미분한 값: 1108.0\n",
      "수식을 w로 미분한 값: 1110.0\n",
      "수식을 w로 미분한 값: 1112.0\n",
      "수식을 w로 미분한 값: 1114.0\n",
      "수식을 w로 미분한 값: 1116.0\n",
      "수식을 w로 미분한 값: 1118.0\n",
      "수식을 w로 미분한 값: 1120.0\n",
      "수식을 w로 미분한 값: 1122.0\n",
      "수식을 w로 미분한 값: 1124.0\n",
      "수식을 w로 미분한 값: 1126.0\n",
      "수식을 w로 미분한 값: 1128.0\n",
      "수식을 w로 미분한 값: 1130.0\n",
      "수식을 w로 미분한 값: 1132.0\n",
      "수식을 w로 미분한 값: 1134.0\n",
      "수식을 w로 미분한 값: 1136.0\n",
      "수식을 w로 미분한 값: 1138.0\n",
      "수식을 w로 미분한 값: 1140.0\n",
      "수식을 w로 미분한 값: 1142.0\n",
      "수식을 w로 미분한 값: 1144.0\n",
      "수식을 w로 미분한 값: 1146.0\n",
      "수식을 w로 미분한 값: 1148.0\n",
      "수식을 w로 미분한 값: 1150.0\n",
      "수식을 w로 미분한 값: 1152.0\n",
      "수식을 w로 미분한 값: 1154.0\n",
      "수식을 w로 미분한 값: 1156.0\n",
      "수식을 w로 미분한 값: 1158.0\n",
      "수식을 w로 미분한 값: 1160.0\n",
      "수식을 w로 미분한 값: 1162.0\n",
      "수식을 w로 미분한 값: 1164.0\n",
      "수식을 w로 미분한 값: 1166.0\n",
      "수식을 w로 미분한 값: 1168.0\n",
      "수식을 w로 미분한 값: 1170.0\n",
      "수식을 w로 미분한 값: 1172.0\n",
      "수식을 w로 미분한 값: 1174.0\n",
      "수식을 w로 미분한 값: 1176.0\n",
      "수식을 w로 미분한 값: 1178.0\n",
      "수식을 w로 미분한 값: 1180.0\n",
      "수식을 w로 미분한 값: 1182.0\n",
      "수식을 w로 미분한 값: 1184.0\n",
      "수식을 w로 미분한 값: 1186.0\n",
      "수식을 w로 미분한 값: 1188.0\n",
      "수식을 w로 미분한 값: 1190.0\n",
      "수식을 w로 미분한 값: 1192.0\n",
      "수식을 w로 미분한 값: 1194.0\n",
      "수식을 w로 미분한 값: 1196.0\n",
      "수식을 w로 미분한 값: 1198.0\n",
      "수식을 w로 미분한 값: 1200.0\n",
      "수식을 w로 미분한 값: 1202.0\n",
      "수식을 w로 미분한 값: 1204.0\n",
      "수식을 w로 미분한 값: 1206.0\n",
      "수식을 w로 미분한 값: 1208.0\n",
      "수식을 w로 미분한 값: 1210.0\n",
      "수식을 w로 미분한 값: 1212.0\n",
      "수식을 w로 미분한 값: 1214.0\n",
      "수식을 w로 미분한 값: 1216.0\n",
      "수식을 w로 미분한 값: 1218.0\n",
      "수식을 w로 미분한 값: 1220.0\n",
      "수식을 w로 미분한 값: 1222.0\n",
      "수식을 w로 미분한 값: 1224.0\n",
      "수식을 w로 미분한 값: 1226.0\n",
      "수식을 w로 미분한 값: 1228.0\n",
      "수식을 w로 미분한 값: 1230.0\n",
      "수식을 w로 미분한 값: 1232.0\n",
      "수식을 w로 미분한 값: 1234.0\n",
      "수식을 w로 미분한 값: 1236.0\n",
      "수식을 w로 미분한 값: 1238.0\n",
      "수식을 w로 미분한 값: 1240.0\n",
      "수식을 w로 미분한 값: 1242.0\n",
      "수식을 w로 미분한 값: 1244.0\n",
      "수식을 w로 미분한 값: 1246.0\n",
      "수식을 w로 미분한 값: 1248.0\n",
      "수식을 w로 미분한 값: 1250.0\n",
      "수식을 w로 미분한 값: 1252.0\n",
      "수식을 w로 미분한 값: 1254.0\n",
      "수식을 w로 미분한 값: 1256.0\n",
      "수식을 w로 미분한 값: 1258.0\n",
      "수식을 w로 미분한 값: 1260.0\n",
      "수식을 w로 미분한 값: 1262.0\n",
      "수식을 w로 미분한 값: 1264.0\n",
      "수식을 w로 미분한 값: 1266.0\n",
      "수식을 w로 미분한 값: 1268.0\n",
      "수식을 w로 미분한 값: 1270.0\n",
      "수식을 w로 미분한 값: 1272.0\n",
      "수식을 w로 미분한 값: 1274.0\n",
      "수식을 w로 미분한 값: 1276.0\n",
      "수식을 w로 미분한 값: 1278.0\n",
      "수식을 w로 미분한 값: 1280.0\n",
      "수식을 w로 미분한 값: 1282.0\n",
      "수식을 w로 미분한 값: 1284.0\n",
      "수식을 w로 미분한 값: 1286.0\n",
      "수식을 w로 미분한 값: 1288.0\n",
      "수식을 w로 미분한 값: 1290.0\n",
      "수식을 w로 미분한 값: 1292.0\n",
      "수식을 w로 미분한 값: 1294.0\n",
      "수식을 w로 미분한 값: 1296.0\n",
      "수식을 w로 미분한 값: 1298.0\n",
      "수식을 w로 미분한 값: 1300.0\n",
      "수식을 w로 미분한 값: 1302.0\n",
      "수식을 w로 미분한 값: 1304.0\n",
      "수식을 w로 미분한 값: 1306.0\n",
      "수식을 w로 미분한 값: 1308.0\n",
      "수식을 w로 미분한 값: 1310.0\n",
      "수식을 w로 미분한 값: 1312.0\n",
      "수식을 w로 미분한 값: 1314.0\n",
      "수식을 w로 미분한 값: 1316.0\n",
      "수식을 w로 미분한 값: 1318.0\n",
      "수식을 w로 미분한 값: 1320.0\n",
      "수식을 w로 미분한 값: 1322.0\n",
      "수식을 w로 미분한 값: 1324.0\n",
      "수식을 w로 미분한 값: 1326.0\n",
      "수식을 w로 미분한 값: 1328.0\n",
      "수식을 w로 미분한 값: 1330.0\n",
      "수식을 w로 미분한 값: 1332.0\n",
      "수식을 w로 미분한 값: 1334.0\n",
      "수식을 w로 미분한 값: 1336.0\n",
      "수식을 w로 미분한 값: 1338.0\n",
      "수식을 w로 미분한 값: 1340.0\n",
      "수식을 w로 미분한 값: 1342.0\n",
      "수식을 w로 미분한 값: 1344.0\n",
      "수식을 w로 미분한 값: 1346.0\n",
      "수식을 w로 미분한 값: 1348.0\n",
      "수식을 w로 미분한 값: 1350.0\n",
      "수식을 w로 미분한 값: 1352.0\n",
      "수식을 w로 미분한 값: 1354.0\n",
      "수식을 w로 미분한 값: 1356.0\n",
      "수식을 w로 미분한 값: 1358.0\n",
      "수식을 w로 미분한 값: 1360.0\n",
      "수식을 w로 미분한 값: 1362.0\n",
      "수식을 w로 미분한 값: 1364.0\n",
      "수식을 w로 미분한 값: 1366.0\n",
      "수식을 w로 미분한 값: 1368.0\n",
      "수식을 w로 미분한 값: 1370.0\n",
      "수식을 w로 미분한 값: 1372.0\n",
      "수식을 w로 미분한 값: 1374.0\n",
      "수식을 w로 미분한 값: 1376.0\n",
      "수식을 w로 미분한 값: 1378.0\n",
      "수식을 w로 미분한 값: 1380.0\n",
      "수식을 w로 미분한 값: 1382.0\n",
      "수식을 w로 미분한 값: 1384.0\n",
      "수식을 w로 미분한 값: 1386.0\n",
      "수식을 w로 미분한 값: 1388.0\n",
      "수식을 w로 미분한 값: 1390.0\n",
      "수식을 w로 미분한 값: 1392.0\n",
      "수식을 w로 미분한 값: 1394.0\n",
      "수식을 w로 미분한 값: 1396.0\n",
      "수식을 w로 미분한 값: 1398.0\n",
      "수식을 w로 미분한 값: 1400.0\n",
      "수식을 w로 미분한 값: 1402.0\n",
      "수식을 w로 미분한 값: 1404.0\n",
      "수식을 w로 미분한 값: 1406.0\n",
      "수식을 w로 미분한 값: 1408.0\n",
      "수식을 w로 미분한 값: 1410.0\n",
      "수식을 w로 미분한 값: 1412.0\n",
      "수식을 w로 미분한 값: 1414.0\n",
      "수식을 w로 미분한 값: 1416.0\n",
      "수식을 w로 미분한 값: 1418.0\n",
      "수식을 w로 미분한 값: 1420.0\n",
      "수식을 w로 미분한 값: 1422.0\n",
      "수식을 w로 미분한 값: 1424.0\n",
      "수식을 w로 미분한 값: 1426.0\n",
      "수식을 w로 미분한 값: 1428.0\n",
      "수식을 w로 미분한 값: 1430.0\n",
      "수식을 w로 미분한 값: 1432.0\n",
      "수식을 w로 미분한 값: 1434.0\n",
      "수식을 w로 미분한 값: 1436.0\n",
      "수식을 w로 미분한 값: 1438.0\n",
      "수식을 w로 미분한 값: 1440.0\n",
      "수식을 w로 미분한 값: 1442.0\n",
      "수식을 w로 미분한 값: 1444.0\n",
      "수식을 w로 미분한 값: 1446.0\n",
      "수식을 w로 미분한 값: 1448.0\n",
      "수식을 w로 미분한 값: 1450.0\n",
      "수식을 w로 미분한 값: 1452.0\n",
      "수식을 w로 미분한 값: 1454.0\n",
      "수식을 w로 미분한 값: 1456.0\n",
      "수식을 w로 미분한 값: 1458.0\n",
      "수식을 w로 미분한 값: 1460.0\n",
      "수식을 w로 미분한 값: 1462.0\n",
      "수식을 w로 미분한 값: 1464.0\n",
      "수식을 w로 미분한 값: 1466.0\n",
      "수식을 w로 미분한 값: 1468.0\n",
      "수식을 w로 미분한 값: 1470.0\n",
      "수식을 w로 미분한 값: 1472.0\n",
      "수식을 w로 미분한 값: 1474.0\n",
      "수식을 w로 미분한 값: 1476.0\n",
      "수식을 w로 미분한 값: 1478.0\n",
      "수식을 w로 미분한 값: 1480.0\n",
      "수식을 w로 미분한 값: 1482.0\n",
      "수식을 w로 미분한 값: 1484.0\n",
      "수식을 w로 미분한 값: 1486.0\n",
      "수식을 w로 미분한 값: 1488.0\n",
      "수식을 w로 미분한 값: 1490.0\n",
      "수식을 w로 미분한 값: 1492.0\n",
      "수식을 w로 미분한 값: 1494.0\n",
      "수식을 w로 미분한 값: 1496.0\n",
      "수식을 w로 미분한 값: 1498.0\n",
      "수식을 w로 미분한 값: 1500.0\n",
      "수식을 w로 미분한 값: 1502.0\n",
      "수식을 w로 미분한 값: 1504.0\n",
      "수식을 w로 미분한 값: 1506.0\n",
      "수식을 w로 미분한 값: 1508.0\n",
      "수식을 w로 미분한 값: 1510.0\n",
      "수식을 w로 미분한 값: 1512.0\n",
      "수식을 w로 미분한 값: 1514.0\n",
      "수식을 w로 미분한 값: 1516.0\n",
      "수식을 w로 미분한 값: 1518.0\n",
      "수식을 w로 미분한 값: 1520.0\n",
      "수식을 w로 미분한 값: 1522.0\n",
      "수식을 w로 미분한 값: 1524.0\n",
      "수식을 w로 미분한 값: 1526.0\n",
      "수식을 w로 미분한 값: 1528.0\n",
      "수식을 w로 미분한 값: 1530.0\n",
      "수식을 w로 미분한 값: 1532.0\n",
      "수식을 w로 미분한 값: 1534.0\n",
      "수식을 w로 미분한 값: 1536.0\n",
      "수식을 w로 미분한 값: 1538.0\n",
      "수식을 w로 미분한 값: 1540.0\n",
      "수식을 w로 미분한 값: 1542.0\n",
      "수식을 w로 미분한 값: 1544.0\n",
      "수식을 w로 미분한 값: 1546.0\n",
      "수식을 w로 미분한 값: 1548.0\n",
      "수식을 w로 미분한 값: 1550.0\n",
      "수식을 w로 미분한 값: 1552.0\n",
      "수식을 w로 미분한 값: 1554.0\n",
      "수식을 w로 미분한 값: 1556.0\n",
      "수식을 w로 미분한 값: 1558.0\n",
      "수식을 w로 미분한 값: 1560.0\n",
      "수식을 w로 미분한 값: 1562.0\n",
      "수식을 w로 미분한 값: 1564.0\n",
      "수식을 w로 미분한 값: 1566.0\n",
      "수식을 w로 미분한 값: 1568.0\n",
      "수식을 w로 미분한 값: 1570.0\n",
      "수식을 w로 미분한 값: 1572.0\n",
      "수식을 w로 미분한 값: 1574.0\n",
      "수식을 w로 미분한 값: 1576.0\n",
      "수식을 w로 미분한 값: 1578.0\n",
      "수식을 w로 미분한 값: 1580.0\n",
      "수식을 w로 미분한 값: 1582.0\n",
      "수식을 w로 미분한 값: 1584.0\n",
      "수식을 w로 미분한 값: 1586.0\n",
      "수식을 w로 미분한 값: 1588.0\n",
      "수식을 w로 미분한 값: 1590.0\n",
      "수식을 w로 미분한 값: 1592.0\n",
      "수식을 w로 미분한 값: 1594.0\n",
      "수식을 w로 미분한 값: 1596.0\n",
      "수식을 w로 미분한 값: 1598.0\n",
      "수식을 w로 미분한 값: 1600.0\n",
      "수식을 w로 미분한 값: 1602.0\n",
      "수식을 w로 미분한 값: 1604.0\n",
      "수식을 w로 미분한 값: 1606.0\n",
      "수식을 w로 미분한 값: 1608.0\n",
      "수식을 w로 미분한 값: 1610.0\n",
      "수식을 w로 미분한 값: 1612.0\n",
      "수식을 w로 미분한 값: 1614.0\n",
      "수식을 w로 미분한 값: 1616.0\n",
      "수식을 w로 미분한 값: 1618.0\n",
      "수식을 w로 미분한 값: 1620.0\n",
      "수식을 w로 미분한 값: 1622.0\n",
      "수식을 w로 미분한 값: 1624.0\n",
      "수식을 w로 미분한 값: 1626.0\n",
      "수식을 w로 미분한 값: 1628.0\n",
      "수식을 w로 미분한 값: 1630.0\n",
      "수식을 w로 미분한 값: 1632.0\n",
      "수식을 w로 미분한 값: 1634.0\n",
      "수식을 w로 미분한 값: 1636.0\n",
      "수식을 w로 미분한 값: 1638.0\n",
      "수식을 w로 미분한 값: 1640.0\n",
      "수식을 w로 미분한 값: 1642.0\n",
      "수식을 w로 미분한 값: 1644.0\n",
      "수식을 w로 미분한 값: 1646.0\n",
      "수식을 w로 미분한 값: 1648.0\n",
      "수식을 w로 미분한 값: 1650.0\n",
      "수식을 w로 미분한 값: 1652.0\n",
      "수식을 w로 미분한 값: 1654.0\n",
      "수식을 w로 미분한 값: 1656.0\n",
      "수식을 w로 미분한 값: 1658.0\n",
      "수식을 w로 미분한 값: 1660.0\n",
      "수식을 w로 미분한 값: 1662.0\n",
      "수식을 w로 미분한 값: 1664.0\n",
      "수식을 w로 미분한 값: 1666.0\n",
      "수식을 w로 미분한 값: 1668.0\n",
      "수식을 w로 미분한 값: 1670.0\n",
      "수식을 w로 미분한 값: 1672.0\n",
      "수식을 w로 미분한 값: 1674.0\n",
      "수식을 w로 미분한 값: 1676.0\n",
      "수식을 w로 미분한 값: 1678.0\n",
      "수식을 w로 미분한 값: 1680.0\n",
      "수식을 w로 미분한 값: 1682.0\n",
      "수식을 w로 미분한 값: 1684.0\n",
      "수식을 w로 미분한 값: 1686.0\n",
      "수식을 w로 미분한 값: 1688.0\n",
      "수식을 w로 미분한 값: 1690.0\n",
      "수식을 w로 미분한 값: 1692.0\n",
      "수식을 w로 미분한 값: 1694.0\n",
      "수식을 w로 미분한 값: 1696.0\n",
      "수식을 w로 미분한 값: 1698.0\n",
      "수식을 w로 미분한 값: 1700.0\n",
      "수식을 w로 미분한 값: 1702.0\n",
      "수식을 w로 미분한 값: 1704.0\n",
      "수식을 w로 미분한 값: 1706.0\n",
      "수식을 w로 미분한 값: 1708.0\n"
     ]
    },
    {
     "name": "stdout",
     "output_type": "stream",
     "text": [
      "수식을 w로 미분한 값: 1710.0\n",
      "수식을 w로 미분한 값: 1712.0\n",
      "수식을 w로 미분한 값: 1714.0\n",
      "수식을 w로 미분한 값: 1716.0\n",
      "수식을 w로 미분한 값: 1718.0\n",
      "수식을 w로 미분한 값: 1720.0\n",
      "수식을 w로 미분한 값: 1722.0\n",
      "수식을 w로 미분한 값: 1724.0\n",
      "수식을 w로 미분한 값: 1726.0\n",
      "수식을 w로 미분한 값: 1728.0\n",
      "수식을 w로 미분한 값: 1730.0\n",
      "수식을 w로 미분한 값: 1732.0\n",
      "수식을 w로 미분한 값: 1734.0\n",
      "수식을 w로 미분한 값: 1736.0\n",
      "수식을 w로 미분한 값: 1738.0\n",
      "수식을 w로 미분한 값: 1740.0\n",
      "수식을 w로 미분한 값: 1742.0\n",
      "수식을 w로 미분한 값: 1744.0\n",
      "수식을 w로 미분한 값: 1746.0\n",
      "수식을 w로 미분한 값: 1748.0\n",
      "수식을 w로 미분한 값: 1750.0\n",
      "수식을 w로 미분한 값: 1752.0\n",
      "수식을 w로 미분한 값: 1754.0\n",
      "수식을 w로 미분한 값: 1756.0\n",
      "수식을 w로 미분한 값: 1758.0\n",
      "수식을 w로 미분한 값: 1760.0\n",
      "수식을 w로 미분한 값: 1762.0\n",
      "수식을 w로 미분한 값: 1764.0\n",
      "수식을 w로 미분한 값: 1766.0\n",
      "수식을 w로 미분한 값: 1768.0\n",
      "수식을 w로 미분한 값: 1770.0\n",
      "수식을 w로 미분한 값: 1772.0\n",
      "수식을 w로 미분한 값: 1774.0\n",
      "수식을 w로 미분한 값: 1776.0\n",
      "수식을 w로 미분한 값: 1778.0\n",
      "수식을 w로 미분한 값: 1780.0\n",
      "수식을 w로 미분한 값: 1782.0\n",
      "수식을 w로 미분한 값: 1784.0\n",
      "수식을 w로 미분한 값: 1786.0\n",
      "수식을 w로 미분한 값: 1788.0\n",
      "수식을 w로 미분한 값: 1790.0\n",
      "수식을 w로 미분한 값: 1792.0\n",
      "수식을 w로 미분한 값: 1794.0\n",
      "수식을 w로 미분한 값: 1796.0\n",
      "수식을 w로 미분한 값: 1798.0\n",
      "수식을 w로 미분한 값: 1800.0\n",
      "수식을 w로 미분한 값: 1802.0\n",
      "수식을 w로 미분한 값: 1804.0\n",
      "수식을 w로 미분한 값: 1806.0\n",
      "수식을 w로 미분한 값: 1808.0\n",
      "수식을 w로 미분한 값: 1810.0\n",
      "수식을 w로 미분한 값: 1812.0\n",
      "수식을 w로 미분한 값: 1814.0\n",
      "수식을 w로 미분한 값: 1816.0\n",
      "수식을 w로 미분한 값: 1818.0\n",
      "수식을 w로 미분한 값: 1820.0\n",
      "수식을 w로 미분한 값: 1822.0\n",
      "수식을 w로 미분한 값: 1824.0\n",
      "수식을 w로 미분한 값: 1826.0\n",
      "수식을 w로 미분한 값: 1828.0\n",
      "수식을 w로 미분한 값: 1830.0\n",
      "수식을 w로 미분한 값: 1832.0\n",
      "수식을 w로 미분한 값: 1834.0\n",
      "수식을 w로 미분한 값: 1836.0\n",
      "수식을 w로 미분한 값: 1838.0\n",
      "수식을 w로 미분한 값: 1840.0\n",
      "수식을 w로 미분한 값: 1842.0\n",
      "수식을 w로 미분한 값: 1844.0\n",
      "수식을 w로 미분한 값: 1846.0\n",
      "수식을 w로 미분한 값: 1848.0\n",
      "수식을 w로 미분한 값: 1850.0\n",
      "수식을 w로 미분한 값: 1852.0\n",
      "수식을 w로 미분한 값: 1854.0\n",
      "수식을 w로 미분한 값: 1856.0\n",
      "수식을 w로 미분한 값: 1858.0\n",
      "수식을 w로 미분한 값: 1860.0\n",
      "수식을 w로 미분한 값: 1862.0\n",
      "수식을 w로 미분한 값: 1864.0\n",
      "수식을 w로 미분한 값: 1866.0\n",
      "수식을 w로 미분한 값: 1868.0\n",
      "수식을 w로 미분한 값: 1870.0\n",
      "수식을 w로 미분한 값: 1872.0\n",
      "수식을 w로 미분한 값: 1874.0\n",
      "수식을 w로 미분한 값: 1876.0\n",
      "수식을 w로 미분한 값: 1878.0\n",
      "수식을 w로 미분한 값: 1880.0\n",
      "수식을 w로 미분한 값: 1882.0\n",
      "수식을 w로 미분한 값: 1884.0\n",
      "수식을 w로 미분한 값: 1886.0\n",
      "수식을 w로 미분한 값: 1888.0\n",
      "수식을 w로 미분한 값: 1890.0\n",
      "수식을 w로 미분한 값: 1892.0\n",
      "수식을 w로 미분한 값: 1894.0\n",
      "수식을 w로 미분한 값: 1896.0\n",
      "수식을 w로 미분한 값: 1898.0\n",
      "수식을 w로 미분한 값: 1900.0\n",
      "수식을 w로 미분한 값: 1902.0\n",
      "수식을 w로 미분한 값: 1904.0\n",
      "수식을 w로 미분한 값: 1906.0\n",
      "수식을 w로 미분한 값: 1908.0\n",
      "수식을 w로 미분한 값: 1910.0\n",
      "수식을 w로 미분한 값: 1912.0\n",
      "수식을 w로 미분한 값: 1914.0\n",
      "수식을 w로 미분한 값: 1916.0\n",
      "수식을 w로 미분한 값: 1918.0\n",
      "수식을 w로 미분한 값: 1920.0\n",
      "수식을 w로 미분한 값: 1922.0\n",
      "수식을 w로 미분한 값: 1924.0\n",
      "수식을 w로 미분한 값: 1926.0\n",
      "수식을 w로 미분한 값: 1928.0\n",
      "수식을 w로 미분한 값: 1930.0\n",
      "수식을 w로 미분한 값: 1932.0\n",
      "수식을 w로 미분한 값: 1934.0\n",
      "수식을 w로 미분한 값: 1936.0\n",
      "수식을 w로 미분한 값: 1938.0\n",
      "수식을 w로 미분한 값: 1940.0\n",
      "수식을 w로 미분한 값: 1942.0\n",
      "수식을 w로 미분한 값: 1944.0\n",
      "수식을 w로 미분한 값: 1946.0\n",
      "수식을 w로 미분한 값: 1948.0\n",
      "수식을 w로 미분한 값: 1950.0\n",
      "수식을 w로 미분한 값: 1952.0\n",
      "수식을 w로 미분한 값: 1954.0\n",
      "수식을 w로 미분한 값: 1956.0\n",
      "수식을 w로 미분한 값: 1958.0\n",
      "수식을 w로 미분한 값: 1960.0\n",
      "수식을 w로 미분한 값: 1962.0\n",
      "수식을 w로 미분한 값: 1964.0\n",
      "수식을 w로 미분한 값: 1966.0\n",
      "수식을 w로 미분한 값: 1968.0\n",
      "수식을 w로 미분한 값: 1970.0\n",
      "수식을 w로 미분한 값: 1972.0\n",
      "수식을 w로 미분한 값: 1974.0\n",
      "수식을 w로 미분한 값: 1976.0\n",
      "수식을 w로 미분한 값: 1978.0\n",
      "수식을 w로 미분한 값: 1980.0\n",
      "수식을 w로 미분한 값: 1982.0\n",
      "수식을 w로 미분한 값: 1984.0\n",
      "수식을 w로 미분한 값: 1986.0\n",
      "수식을 w로 미분한 값: 1988.0\n",
      "수식을 w로 미분한 값: 1990.0\n",
      "수식을 w로 미분한 값: 1992.0\n",
      "수식을 w로 미분한 값: 1994.0\n",
      "수식을 w로 미분한 값: 1996.0\n",
      "수식을 w로 미분한 값: 1998.0\n",
      "수식을 w로 미분한 값: 2000.0\n",
      "수식을 w로 미분한 값: 2002.0\n",
      "수식을 w로 미분한 값: 2004.0\n",
      "수식을 w로 미분한 값: 2006.0\n",
      "수식을 w로 미분한 값: 2008.0\n",
      "수식을 w로 미분한 값: 2010.0\n",
      "수식을 w로 미분한 값: 2012.0\n",
      "수식을 w로 미분한 값: 2014.0\n",
      "수식을 w로 미분한 값: 2016.0\n",
      "수식을 w로 미분한 값: 2018.0\n",
      "수식을 w로 미분한 값: 2020.0\n",
      "수식을 w로 미분한 값: 2022.0\n",
      "수식을 w로 미분한 값: 2024.0\n",
      "수식을 w로 미분한 값: 2026.0\n",
      "수식을 w로 미분한 값: 2028.0\n",
      "수식을 w로 미분한 값: 2030.0\n",
      "수식을 w로 미분한 값: 2032.0\n",
      "수식을 w로 미분한 값: 2034.0\n",
      "수식을 w로 미분한 값: 2036.0\n",
      "수식을 w로 미분한 값: 2038.0\n",
      "수식을 w로 미분한 값: 2040.0\n",
      "수식을 w로 미분한 값: 2042.0\n",
      "수식을 w로 미분한 값: 2044.0\n",
      "수식을 w로 미분한 값: 2046.0\n",
      "수식을 w로 미분한 값: 2048.0\n",
      "수식을 w로 미분한 값: 2050.0\n",
      "수식을 w로 미분한 값: 2052.0\n",
      "수식을 w로 미분한 값: 2054.0\n",
      "수식을 w로 미분한 값: 2056.0\n",
      "수식을 w로 미분한 값: 2058.0\n",
      "수식을 w로 미분한 값: 2060.0\n",
      "수식을 w로 미분한 값: 2062.0\n",
      "수식을 w로 미분한 값: 2064.0\n",
      "수식을 w로 미분한 값: 2066.0\n",
      "수식을 w로 미분한 값: 2068.0\n",
      "수식을 w로 미분한 값: 2070.0\n",
      "수식을 w로 미분한 값: 2072.0\n",
      "수식을 w로 미분한 값: 2074.0\n",
      "수식을 w로 미분한 값: 2076.0\n",
      "수식을 w로 미분한 값: 2078.0\n",
      "수식을 w로 미분한 값: 2080.0\n",
      "수식을 w로 미분한 값: 2082.0\n",
      "수식을 w로 미분한 값: 2084.0\n",
      "수식을 w로 미분한 값: 2086.0\n",
      "수식을 w로 미분한 값: 2088.0\n",
      "수식을 w로 미분한 값: 2090.0\n",
      "수식을 w로 미분한 값: 2092.0\n",
      "수식을 w로 미분한 값: 2094.0\n",
      "수식을 w로 미분한 값: 2096.0\n",
      "수식을 w로 미분한 값: 2098.0\n",
      "수식을 w로 미분한 값: 2100.0\n",
      "수식을 w로 미분한 값: 2102.0\n",
      "수식을 w로 미분한 값: 2104.0\n",
      "수식을 w로 미분한 값: 2106.0\n",
      "수식을 w로 미분한 값: 2108.0\n",
      "수식을 w로 미분한 값: 2110.0\n",
      "수식을 w로 미분한 값: 2112.0\n",
      "수식을 w로 미분한 값: 2114.0\n",
      "수식을 w로 미분한 값: 2116.0\n",
      "수식을 w로 미분한 값: 2118.0\n",
      "수식을 w로 미분한 값: 2120.0\n",
      "수식을 w로 미분한 값: 2122.0\n",
      "수식을 w로 미분한 값: 2124.0\n",
      "수식을 w로 미분한 값: 2126.0\n",
      "수식을 w로 미분한 값: 2128.0\n",
      "수식을 w로 미분한 값: 2130.0\n",
      "수식을 w로 미분한 값: 2132.0\n",
      "수식을 w로 미분한 값: 2134.0\n",
      "수식을 w로 미분한 값: 2136.0\n",
      "수식을 w로 미분한 값: 2138.0\n",
      "수식을 w로 미분한 값: 2140.0\n",
      "수식을 w로 미분한 값: 2142.0\n",
      "수식을 w로 미분한 값: 2144.0\n",
      "수식을 w로 미분한 값: 2146.0\n",
      "수식을 w로 미분한 값: 2148.0\n",
      "수식을 w로 미분한 값: 2150.0\n",
      "수식을 w로 미분한 값: 2152.0\n",
      "수식을 w로 미분한 값: 2154.0\n",
      "수식을 w로 미분한 값: 2156.0\n",
      "수식을 w로 미분한 값: 2158.0\n",
      "수식을 w로 미분한 값: 2160.0\n",
      "수식을 w로 미분한 값: 2162.0\n",
      "수식을 w로 미분한 값: 2164.0\n",
      "수식을 w로 미분한 값: 2166.0\n",
      "수식을 w로 미분한 값: 2168.0\n",
      "수식을 w로 미분한 값: 2170.0\n",
      "수식을 w로 미분한 값: 2172.0\n",
      "수식을 w로 미분한 값: 2174.0\n",
      "수식을 w로 미분한 값: 2176.0\n",
      "수식을 w로 미분한 값: 2178.0\n",
      "수식을 w로 미분한 값: 2180.0\n",
      "수식을 w로 미분한 값: 2182.0\n",
      "수식을 w로 미분한 값: 2184.0\n",
      "수식을 w로 미분한 값: 2186.0\n",
      "수식을 w로 미분한 값: 2188.0\n",
      "수식을 w로 미분한 값: 2190.0\n",
      "수식을 w로 미분한 값: 2192.0\n",
      "수식을 w로 미분한 값: 2194.0\n",
      "수식을 w로 미분한 값: 2196.0\n",
      "수식을 w로 미분한 값: 2198.0\n",
      "수식을 w로 미분한 값: 2200.0\n",
      "수식을 w로 미분한 값: 2202.0\n",
      "수식을 w로 미분한 값: 2204.0\n",
      "수식을 w로 미분한 값: 2206.0\n",
      "수식을 w로 미분한 값: 2208.0\n",
      "수식을 w로 미분한 값: 2210.0\n",
      "수식을 w로 미분한 값: 2212.0\n",
      "수식을 w로 미분한 값: 2214.0\n",
      "수식을 w로 미분한 값: 2216.0\n",
      "수식을 w로 미분한 값: 2218.0\n",
      "수식을 w로 미분한 값: 2220.0\n",
      "수식을 w로 미분한 값: 2222.0\n",
      "수식을 w로 미분한 값: 2224.0\n",
      "수식을 w로 미분한 값: 2226.0\n",
      "수식을 w로 미분한 값: 2228.0\n",
      "수식을 w로 미분한 값: 2230.0\n",
      "수식을 w로 미분한 값: 2232.0\n",
      "수식을 w로 미분한 값: 2234.0\n",
      "수식을 w로 미분한 값: 2236.0\n",
      "수식을 w로 미분한 값: 2238.0\n",
      "수식을 w로 미분한 값: 2240.0\n",
      "수식을 w로 미분한 값: 2242.0\n",
      "수식을 w로 미분한 값: 2244.0\n",
      "수식을 w로 미분한 값: 2246.0\n",
      "수식을 w로 미분한 값: 2248.0\n",
      "수식을 w로 미분한 값: 2250.0\n",
      "수식을 w로 미분한 값: 2252.0\n",
      "수식을 w로 미분한 값: 2254.0\n",
      "수식을 w로 미분한 값: 2256.0\n",
      "수식을 w로 미분한 값: 2258.0\n",
      "수식을 w로 미분한 값: 2260.0\n",
      "수식을 w로 미분한 값: 2262.0\n",
      "수식을 w로 미분한 값: 2264.0\n",
      "수식을 w로 미분한 값: 2266.0\n",
      "수식을 w로 미분한 값: 2268.0\n",
      "수식을 w로 미분한 값: 2270.0\n",
      "수식을 w로 미분한 값: 2272.0\n",
      "수식을 w로 미분한 값: 2274.0\n",
      "수식을 w로 미분한 값: 2276.0\n",
      "수식을 w로 미분한 값: 2278.0\n",
      "수식을 w로 미분한 값: 2280.0\n",
      "수식을 w로 미분한 값: 2282.0\n",
      "수식을 w로 미분한 값: 2284.0\n",
      "수식을 w로 미분한 값: 2286.0\n",
      "수식을 w로 미분한 값: 2288.0\n",
      "수식을 w로 미분한 값: 2290.0\n",
      "수식을 w로 미분한 값: 2292.0\n",
      "수식을 w로 미분한 값: 2294.0\n",
      "수식을 w로 미분한 값: 2296.0\n",
      "수식을 w로 미분한 값: 2298.0\n",
      "수식을 w로 미분한 값: 2300.0\n",
      "수식을 w로 미분한 값: 2302.0\n",
      "수식을 w로 미분한 값: 2304.0\n",
      "수식을 w로 미분한 값: 2306.0\n",
      "수식을 w로 미분한 값: 2308.0\n",
      "수식을 w로 미분한 값: 2310.0\n",
      "수식을 w로 미분한 값: 2312.0\n",
      "수식을 w로 미분한 값: 2314.0\n",
      "수식을 w로 미분한 값: 2316.0\n",
      "수식을 w로 미분한 값: 2318.0\n",
      "수식을 w로 미분한 값: 2320.0\n",
      "수식을 w로 미분한 값: 2322.0\n",
      "수식을 w로 미분한 값: 2324.0\n",
      "수식을 w로 미분한 값: 2326.0\n",
      "수식을 w로 미분한 값: 2328.0\n",
      "수식을 w로 미분한 값: 2330.0\n",
      "수식을 w로 미분한 값: 2332.0\n",
      "수식을 w로 미분한 값: 2334.0\n",
      "수식을 w로 미분한 값: 2336.0\n",
      "수식을 w로 미분한 값: 2338.0\n",
      "수식을 w로 미분한 값: 2340.0\n",
      "수식을 w로 미분한 값: 2342.0\n",
      "수식을 w로 미분한 값: 2344.0\n",
      "수식을 w로 미분한 값: 2346.0\n",
      "수식을 w로 미분한 값: 2348.0\n",
      "수식을 w로 미분한 값: 2350.0\n",
      "수식을 w로 미분한 값: 2352.0\n",
      "수식을 w로 미분한 값: 2354.0\n",
      "수식을 w로 미분한 값: 2356.0\n",
      "수식을 w로 미분한 값: 2358.0\n",
      "수식을 w로 미분한 값: 2360.0\n",
      "수식을 w로 미분한 값: 2362.0\n",
      "수식을 w로 미분한 값: 2364.0\n",
      "수식을 w로 미분한 값: 2366.0\n",
      "수식을 w로 미분한 값: 2368.0\n",
      "수식을 w로 미분한 값: 2370.0\n",
      "수식을 w로 미분한 값: 2372.0\n",
      "수식을 w로 미분한 값: 2374.0\n",
      "수식을 w로 미분한 값: 2376.0\n",
      "수식을 w로 미분한 값: 2378.0\n",
      "수식을 w로 미분한 값: 2380.0\n",
      "수식을 w로 미분한 값: 2382.0\n",
      "수식을 w로 미분한 값: 2384.0\n",
      "수식을 w로 미분한 값: 2386.0\n",
      "수식을 w로 미분한 값: 2388.0\n",
      "수식을 w로 미분한 값: 2390.0\n",
      "수식을 w로 미분한 값: 2392.0\n",
      "수식을 w로 미분한 값: 2394.0\n",
      "수식을 w로 미분한 값: 2396.0\n",
      "수식을 w로 미분한 값: 2398.0\n",
      "수식을 w로 미분한 값: 2400.0\n",
      "수식을 w로 미분한 값: 2402.0\n",
      "수식을 w로 미분한 값: 2404.0\n",
      "수식을 w로 미분한 값: 2406.0\n",
      "수식을 w로 미분한 값: 2408.0\n",
      "수식을 w로 미분한 값: 2410.0\n",
      "수식을 w로 미분한 값: 2412.0\n",
      "수식을 w로 미분한 값: 2414.0\n",
      "수식을 w로 미분한 값: 2416.0\n",
      "수식을 w로 미분한 값: 2418.0\n",
      "수식을 w로 미분한 값: 2420.0\n",
      "수식을 w로 미분한 값: 2422.0\n",
      "수식을 w로 미분한 값: 2424.0\n",
      "수식을 w로 미분한 값: 2426.0\n",
      "수식을 w로 미분한 값: 2428.0\n",
      "수식을 w로 미분한 값: 2430.0\n",
      "수식을 w로 미분한 값: 2432.0\n",
      "수식을 w로 미분한 값: 2434.0\n",
      "수식을 w로 미분한 값: 2436.0\n",
      "수식을 w로 미분한 값: 2438.0\n",
      "수식을 w로 미분한 값: 2440.0\n",
      "수식을 w로 미분한 값: 2442.0\n",
      "수식을 w로 미분한 값: 2444.0\n",
      "수식을 w로 미분한 값: 2446.0\n",
      "수식을 w로 미분한 값: 2448.0\n",
      "수식을 w로 미분한 값: 2450.0\n",
      "수식을 w로 미분한 값: 2452.0\n",
      "수식을 w로 미분한 값: 2454.0\n",
      "수식을 w로 미분한 값: 2456.0\n",
      "수식을 w로 미분한 값: 2458.0\n",
      "수식을 w로 미분한 값: 2460.0\n",
      "수식을 w로 미분한 값: 2462.0\n",
      "수식을 w로 미분한 값: 2464.0\n",
      "수식을 w로 미분한 값: 2466.0\n",
      "수식을 w로 미분한 값: 2468.0\n",
      "수식을 w로 미분한 값: 2470.0\n",
      "수식을 w로 미분한 값: 2472.0\n",
      "수식을 w로 미분한 값: 2474.0\n",
      "수식을 w로 미분한 값: 2476.0\n",
      "수식을 w로 미분한 값: 2478.0\n",
      "수식을 w로 미분한 값: 2480.0\n",
      "수식을 w로 미분한 값: 2482.0\n",
      "수식을 w로 미분한 값: 2484.0\n",
      "수식을 w로 미분한 값: 2486.0\n",
      "수식을 w로 미분한 값: 2488.0\n",
      "수식을 w로 미분한 값: 2490.0\n",
      "수식을 w로 미분한 값: 2492.0\n",
      "수식을 w로 미분한 값: 2494.0\n",
      "수식을 w로 미분한 값: 2496.0\n",
      "수식을 w로 미분한 값: 2498.0\n",
      "수식을 w로 미분한 값: 2500.0\n",
      "수식을 w로 미분한 값: 2502.0\n",
      "수식을 w로 미분한 값: 2504.0\n",
      "수식을 w로 미분한 값: 2506.0\n",
      "수식을 w로 미분한 값: 2508.0\n",
      "수식을 w로 미분한 값: 2510.0\n",
      "수식을 w로 미분한 값: 2512.0\n",
      "수식을 w로 미분한 값: 2514.0\n",
      "수식을 w로 미분한 값: 2516.0\n",
      "수식을 w로 미분한 값: 2518.0\n",
      "수식을 w로 미분한 값: 2520.0\n",
      "수식을 w로 미분한 값: 2522.0\n",
      "수식을 w로 미분한 값: 2524.0\n",
      "수식을 w로 미분한 값: 2526.0\n",
      "수식을 w로 미분한 값: 2528.0\n",
      "수식을 w로 미분한 값: 2530.0\n",
      "수식을 w로 미분한 값: 2532.0\n",
      "수식을 w로 미분한 값: 2534.0\n",
      "수식을 w로 미분한 값: 2536.0\n",
      "수식을 w로 미분한 값: 2538.0\n",
      "수식을 w로 미분한 값: 2540.0\n",
      "수식을 w로 미분한 값: 2542.0\n",
      "수식을 w로 미분한 값: 2544.0\n",
      "수식을 w로 미분한 값: 2546.0\n",
      "수식을 w로 미분한 값: 2548.0\n",
      "수식을 w로 미분한 값: 2550.0\n",
      "수식을 w로 미분한 값: 2552.0\n",
      "수식을 w로 미분한 값: 2554.0\n",
      "수식을 w로 미분한 값: 2556.0\n",
      "수식을 w로 미분한 값: 2558.0\n",
      "수식을 w로 미분한 값: 2560.0\n",
      "수식을 w로 미분한 값: 2562.0\n",
      "수식을 w로 미분한 값: 2564.0\n",
      "수식을 w로 미분한 값: 2566.0\n",
      "수식을 w로 미분한 값: 2568.0\n",
      "수식을 w로 미분한 값: 2570.0\n",
      "수식을 w로 미분한 값: 2572.0\n",
      "수식을 w로 미분한 값: 2574.0\n",
      "수식을 w로 미분한 값: 2576.0\n",
      "수식을 w로 미분한 값: 2578.0\n",
      "수식을 w로 미분한 값: 2580.0\n",
      "수식을 w로 미분한 값: 2582.0\n",
      "수식을 w로 미분한 값: 2584.0\n",
      "수식을 w로 미분한 값: 2586.0\n",
      "수식을 w로 미분한 값: 2588.0\n"
     ]
    },
    {
     "name": "stdout",
     "output_type": "stream",
     "text": [
      "수식을 w로 미분한 값: 2590.0\n",
      "수식을 w로 미분한 값: 2592.0\n",
      "수식을 w로 미분한 값: 2594.0\n",
      "수식을 w로 미분한 값: 2596.0\n",
      "수식을 w로 미분한 값: 2598.0\n",
      "수식을 w로 미분한 값: 2600.0\n",
      "수식을 w로 미분한 값: 2602.0\n",
      "수식을 w로 미분한 값: 2604.0\n",
      "수식을 w로 미분한 값: 2606.0\n",
      "수식을 w로 미분한 값: 2608.0\n",
      "수식을 w로 미분한 값: 2610.0\n",
      "수식을 w로 미분한 값: 2612.0\n",
      "수식을 w로 미분한 값: 2614.0\n",
      "수식을 w로 미분한 값: 2616.0\n",
      "수식을 w로 미분한 값: 2618.0\n",
      "수식을 w로 미분한 값: 2620.0\n",
      "수식을 w로 미분한 값: 2622.0\n",
      "수식을 w로 미분한 값: 2624.0\n",
      "수식을 w로 미분한 값: 2626.0\n",
      "수식을 w로 미분한 값: 2628.0\n",
      "수식을 w로 미분한 값: 2630.0\n",
      "수식을 w로 미분한 값: 2632.0\n",
      "수식을 w로 미분한 값: 2634.0\n",
      "수식을 w로 미분한 값: 2636.0\n",
      "수식을 w로 미분한 값: 2638.0\n",
      "수식을 w로 미분한 값: 2640.0\n",
      "수식을 w로 미분한 값: 2642.0\n",
      "수식을 w로 미분한 값: 2644.0\n",
      "수식을 w로 미분한 값: 2646.0\n",
      "수식을 w로 미분한 값: 2648.0\n",
      "수식을 w로 미분한 값: 2650.0\n",
      "수식을 w로 미분한 값: 2652.0\n",
      "수식을 w로 미분한 값: 2654.0\n",
      "수식을 w로 미분한 값: 2656.0\n",
      "수식을 w로 미분한 값: 2658.0\n",
      "수식을 w로 미분한 값: 2660.0\n",
      "수식을 w로 미분한 값: 2662.0\n",
      "수식을 w로 미분한 값: 2664.0\n",
      "수식을 w로 미분한 값: 2666.0\n",
      "수식을 w로 미분한 값: 2668.0\n",
      "수식을 w로 미분한 값: 2670.0\n",
      "수식을 w로 미분한 값: 2672.0\n",
      "수식을 w로 미분한 값: 2674.0\n",
      "수식을 w로 미분한 값: 2676.0\n",
      "수식을 w로 미분한 값: 2678.0\n",
      "수식을 w로 미분한 값: 2680.0\n",
      "수식을 w로 미분한 값: 2682.0\n",
      "수식을 w로 미분한 값: 2684.0\n",
      "수식을 w로 미분한 값: 2686.0\n",
      "수식을 w로 미분한 값: 2688.0\n",
      "수식을 w로 미분한 값: 2690.0\n",
      "수식을 w로 미분한 값: 2692.0\n",
      "수식을 w로 미분한 값: 2694.0\n",
      "수식을 w로 미분한 값: 2696.0\n",
      "수식을 w로 미분한 값: 2698.0\n",
      "수식을 w로 미분한 값: 2700.0\n",
      "수식을 w로 미분한 값: 2702.0\n",
      "수식을 w로 미분한 값: 2704.0\n",
      "수식을 w로 미분한 값: 2706.0\n",
      "수식을 w로 미분한 값: 2708.0\n",
      "수식을 w로 미분한 값: 2710.0\n",
      "수식을 w로 미분한 값: 2712.0\n",
      "수식을 w로 미분한 값: 2714.0\n",
      "수식을 w로 미분한 값: 2716.0\n",
      "수식을 w로 미분한 값: 2718.0\n",
      "수식을 w로 미분한 값: 2720.0\n",
      "수식을 w로 미분한 값: 2722.0\n",
      "수식을 w로 미분한 값: 2724.0\n",
      "수식을 w로 미분한 값: 2726.0\n",
      "수식을 w로 미분한 값: 2728.0\n",
      "수식을 w로 미분한 값: 2730.0\n",
      "수식을 w로 미분한 값: 2732.0\n",
      "수식을 w로 미분한 값: 2734.0\n",
      "수식을 w로 미분한 값: 2736.0\n",
      "수식을 w로 미분한 값: 2738.0\n",
      "수식을 w로 미분한 값: 2740.0\n",
      "수식을 w로 미분한 값: 2742.0\n",
      "수식을 w로 미분한 값: 2744.0\n",
      "수식을 w로 미분한 값: 2746.0\n",
      "수식을 w로 미분한 값: 2748.0\n",
      "수식을 w로 미분한 값: 2750.0\n",
      "수식을 w로 미분한 값: 2752.0\n",
      "수식을 w로 미분한 값: 2754.0\n",
      "수식을 w로 미분한 값: 2756.0\n",
      "수식을 w로 미분한 값: 2758.0\n",
      "수식을 w로 미분한 값: 2760.0\n",
      "수식을 w로 미분한 값: 2762.0\n",
      "수식을 w로 미분한 값: 2764.0\n",
      "수식을 w로 미분한 값: 2766.0\n",
      "수식을 w로 미분한 값: 2768.0\n",
      "수식을 w로 미분한 값: 2770.0\n",
      "수식을 w로 미분한 값: 2772.0\n",
      "수식을 w로 미분한 값: 2774.0\n",
      "수식을 w로 미분한 값: 2776.0\n",
      "수식을 w로 미분한 값: 2778.0\n",
      "수식을 w로 미분한 값: 2780.0\n",
      "수식을 w로 미분한 값: 2782.0\n",
      "수식을 w로 미분한 값: 2784.0\n",
      "수식을 w로 미분한 값: 2786.0\n",
      "수식을 w로 미분한 값: 2788.0\n",
      "수식을 w로 미분한 값: 2790.0\n",
      "수식을 w로 미분한 값: 2792.0\n",
      "수식을 w로 미분한 값: 2794.0\n",
      "수식을 w로 미분한 값: 2796.0\n",
      "수식을 w로 미분한 값: 2798.0\n",
      "수식을 w로 미분한 값: 2800.0\n",
      "수식을 w로 미분한 값: 2802.0\n",
      "수식을 w로 미분한 값: 2804.0\n",
      "수식을 w로 미분한 값: 2806.0\n",
      "수식을 w로 미분한 값: 2808.0\n",
      "수식을 w로 미분한 값: 2810.0\n",
      "수식을 w로 미분한 값: 2812.0\n",
      "수식을 w로 미분한 값: 2814.0\n",
      "수식을 w로 미분한 값: 2816.0\n",
      "수식을 w로 미분한 값: 2818.0\n",
      "수식을 w로 미분한 값: 2820.0\n",
      "수식을 w로 미분한 값: 2822.0\n",
      "수식을 w로 미분한 값: 2824.0\n",
      "수식을 w로 미분한 값: 2826.0\n",
      "수식을 w로 미분한 값: 2828.0\n",
      "수식을 w로 미분한 값: 2830.0\n",
      "수식을 w로 미분한 값: 2832.0\n",
      "수식을 w로 미분한 값: 2834.0\n",
      "수식을 w로 미분한 값: 2836.0\n",
      "수식을 w로 미분한 값: 2838.0\n",
      "수식을 w로 미분한 값: 2840.0\n",
      "수식을 w로 미분한 값: 2842.0\n",
      "수식을 w로 미분한 값: 2844.0\n",
      "수식을 w로 미분한 값: 2846.0\n",
      "수식을 w로 미분한 값: 2848.0\n",
      "수식을 w로 미분한 값: 2850.0\n",
      "수식을 w로 미분한 값: 2852.0\n",
      "수식을 w로 미분한 값: 2854.0\n",
      "수식을 w로 미분한 값: 2856.0\n",
      "수식을 w로 미분한 값: 2858.0\n",
      "수식을 w로 미분한 값: 2860.0\n",
      "수식을 w로 미분한 값: 2862.0\n",
      "수식을 w로 미분한 값: 2864.0\n",
      "수식을 w로 미분한 값: 2866.0\n",
      "수식을 w로 미분한 값: 2868.0\n",
      "수식을 w로 미분한 값: 2870.0\n",
      "수식을 w로 미분한 값: 2872.0\n",
      "수식을 w로 미분한 값: 2874.0\n",
      "수식을 w로 미분한 값: 2876.0\n",
      "수식을 w로 미분한 값: 2878.0\n",
      "수식을 w로 미분한 값: 2880.0\n",
      "수식을 w로 미분한 값: 2882.0\n",
      "수식을 w로 미분한 값: 2884.0\n",
      "수식을 w로 미분한 값: 2886.0\n",
      "수식을 w로 미분한 값: 2888.0\n",
      "수식을 w로 미분한 값: 2890.0\n",
      "수식을 w로 미분한 값: 2892.0\n",
      "수식을 w로 미분한 값: 2894.0\n",
      "수식을 w로 미분한 값: 2896.0\n",
      "수식을 w로 미분한 값: 2898.0\n",
      "수식을 w로 미분한 값: 2900.0\n",
      "수식을 w로 미분한 값: 2902.0\n",
      "수식을 w로 미분한 값: 2904.0\n",
      "수식을 w로 미분한 값: 2906.0\n",
      "수식을 w로 미분한 값: 2908.0\n",
      "수식을 w로 미분한 값: 2910.0\n",
      "수식을 w로 미분한 값: 2912.0\n",
      "수식을 w로 미분한 값: 2914.0\n",
      "수식을 w로 미분한 값: 2916.0\n",
      "수식을 w로 미분한 값: 2918.0\n",
      "수식을 w로 미분한 값: 2920.0\n",
      "수식을 w로 미분한 값: 2922.0\n",
      "수식을 w로 미분한 값: 2924.0\n",
      "수식을 w로 미분한 값: 2926.0\n",
      "수식을 w로 미분한 값: 2928.0\n",
      "수식을 w로 미분한 값: 2930.0\n",
      "수식을 w로 미분한 값: 2932.0\n",
      "수식을 w로 미분한 값: 2934.0\n",
      "수식을 w로 미분한 값: 2936.0\n",
      "수식을 w로 미분한 값: 2938.0\n",
      "수식을 w로 미분한 값: 2940.0\n",
      "수식을 w로 미분한 값: 2942.0\n",
      "수식을 w로 미분한 값: 2944.0\n",
      "수식을 w로 미분한 값: 2946.0\n",
      "수식을 w로 미분한 값: 2948.0\n",
      "수식을 w로 미분한 값: 2950.0\n",
      "수식을 w로 미분한 값: 2952.0\n",
      "수식을 w로 미분한 값: 2954.0\n",
      "수식을 w로 미분한 값: 2956.0\n",
      "수식을 w로 미분한 값: 2958.0\n",
      "수식을 w로 미분한 값: 2960.0\n",
      "수식을 w로 미분한 값: 2962.0\n",
      "수식을 w로 미분한 값: 2964.0\n",
      "수식을 w로 미분한 값: 2966.0\n",
      "수식을 w로 미분한 값: 2968.0\n",
      "수식을 w로 미분한 값: 2970.0\n",
      "수식을 w로 미분한 값: 2972.0\n",
      "수식을 w로 미분한 값: 2974.0\n",
      "수식을 w로 미분한 값: 2976.0\n",
      "수식을 w로 미분한 값: 2978.0\n",
      "수식을 w로 미분한 값: 2980.0\n",
      "수식을 w로 미분한 값: 2982.0\n",
      "수식을 w로 미분한 값: 2984.0\n",
      "수식을 w로 미분한 값: 2986.0\n",
      "수식을 w로 미분한 값: 2988.0\n",
      "수식을 w로 미분한 값: 2990.0\n",
      "수식을 w로 미분한 값: 2992.0\n",
      "수식을 w로 미분한 값: 2994.0\n",
      "수식을 w로 미분한 값: 2996.0\n",
      "수식을 w로 미분한 값: 2998.0\n",
      "수식을 w로 미분한 값: 3000.0\n",
      "수식을 w로 미분한 값: 3002.0\n",
      "수식을 w로 미분한 값: 3004.0\n",
      "수식을 w로 미분한 값: 3006.0\n",
      "수식을 w로 미분한 값: 3008.0\n",
      "수식을 w로 미분한 값: 3010.0\n",
      "수식을 w로 미분한 값: 3012.0\n",
      "수식을 w로 미분한 값: 3014.0\n",
      "수식을 w로 미분한 값: 3016.0\n",
      "수식을 w로 미분한 값: 3018.0\n",
      "수식을 w로 미분한 값: 3020.0\n",
      "수식을 w로 미분한 값: 3022.0\n",
      "수식을 w로 미분한 값: 3024.0\n",
      "수식을 w로 미분한 값: 3026.0\n",
      "수식을 w로 미분한 값: 3028.0\n",
      "수식을 w로 미분한 값: 3030.0\n",
      "수식을 w로 미분한 값: 3032.0\n",
      "수식을 w로 미분한 값: 3034.0\n",
      "수식을 w로 미분한 값: 3036.0\n",
      "수식을 w로 미분한 값: 3038.0\n",
      "수식을 w로 미분한 값: 3040.0\n",
      "수식을 w로 미분한 값: 3042.0\n",
      "수식을 w로 미분한 값: 3044.0\n",
      "수식을 w로 미분한 값: 3046.0\n",
      "수식을 w로 미분한 값: 3048.0\n",
      "수식을 w로 미분한 값: 3050.0\n",
      "수식을 w로 미분한 값: 3052.0\n",
      "수식을 w로 미분한 값: 3054.0\n",
      "수식을 w로 미분한 값: 3056.0\n",
      "수식을 w로 미분한 값: 3058.0\n",
      "수식을 w로 미분한 값: 3060.0\n",
      "수식을 w로 미분한 값: 3062.0\n",
      "수식을 w로 미분한 값: 3064.0\n",
      "수식을 w로 미분한 값: 3066.0\n",
      "수식을 w로 미분한 값: 3068.0\n",
      "수식을 w로 미분한 값: 3070.0\n",
      "수식을 w로 미분한 값: 3072.0\n",
      "수식을 w로 미분한 값: 3074.0\n",
      "수식을 w로 미분한 값: 3076.0\n",
      "수식을 w로 미분한 값: 3078.0\n",
      "수식을 w로 미분한 값: 3080.0\n",
      "수식을 w로 미분한 값: 3082.0\n",
      "수식을 w로 미분한 값: 3084.0\n",
      "수식을 w로 미분한 값: 3086.0\n",
      "수식을 w로 미분한 값: 3088.0\n",
      "수식을 w로 미분한 값: 3090.0\n",
      "수식을 w로 미분한 값: 3092.0\n",
      "수식을 w로 미분한 값: 3094.0\n",
      "수식을 w로 미분한 값: 3096.0\n",
      "수식을 w로 미분한 값: 3098.0\n",
      "수식을 w로 미분한 값: 3100.0\n",
      "수식을 w로 미분한 값: 3102.0\n",
      "수식을 w로 미분한 값: 3104.0\n",
      "수식을 w로 미분한 값: 3106.0\n",
      "수식을 w로 미분한 값: 3108.0\n",
      "수식을 w로 미분한 값: 3110.0\n",
      "수식을 w로 미분한 값: 3112.0\n",
      "수식을 w로 미분한 값: 3114.0\n",
      "수식을 w로 미분한 값: 3116.0\n",
      "수식을 w로 미분한 값: 3118.0\n",
      "수식을 w로 미분한 값: 3120.0\n",
      "수식을 w로 미분한 값: 3122.0\n",
      "수식을 w로 미분한 값: 3124.0\n",
      "수식을 w로 미분한 값: 3126.0\n",
      "수식을 w로 미분한 값: 3128.0\n",
      "수식을 w로 미분한 값: 3130.0\n",
      "수식을 w로 미분한 값: 3132.0\n",
      "수식을 w로 미분한 값: 3134.0\n",
      "수식을 w로 미분한 값: 3136.0\n",
      "수식을 w로 미분한 값: 3138.0\n",
      "수식을 w로 미분한 값: 3140.0\n",
      "수식을 w로 미분한 값: 3142.0\n",
      "수식을 w로 미분한 값: 3144.0\n",
      "수식을 w로 미분한 값: 3146.0\n",
      "수식을 w로 미분한 값: 3148.0\n",
      "수식을 w로 미분한 값: 3150.0\n",
      "수식을 w로 미분한 값: 3152.0\n",
      "수식을 w로 미분한 값: 3154.0\n",
      "수식을 w로 미분한 값: 3156.0\n",
      "수식을 w로 미분한 값: 3158.0\n",
      "수식을 w로 미분한 값: 3160.0\n",
      "수식을 w로 미분한 값: 3162.0\n",
      "수식을 w로 미분한 값: 3164.0\n",
      "수식을 w로 미분한 값: 3166.0\n",
      "수식을 w로 미분한 값: 3168.0\n",
      "수식을 w로 미분한 값: 3170.0\n",
      "수식을 w로 미분한 값: 3172.0\n",
      "수식을 w로 미분한 값: 3174.0\n",
      "수식을 w로 미분한 값: 3176.0\n",
      "수식을 w로 미분한 값: 3178.0\n",
      "수식을 w로 미분한 값: 3180.0\n",
      "수식을 w로 미분한 값: 3182.0\n",
      "수식을 w로 미분한 값: 3184.0\n",
      "수식을 w로 미분한 값: 3186.0\n",
      "수식을 w로 미분한 값: 3188.0\n",
      "수식을 w로 미분한 값: 3190.0\n",
      "수식을 w로 미분한 값: 3192.0\n",
      "수식을 w로 미분한 값: 3194.0\n",
      "수식을 w로 미분한 값: 3196.0\n",
      "수식을 w로 미분한 값: 3198.0\n",
      "수식을 w로 미분한 값: 3200.0\n",
      "수식을 w로 미분한 값: 3202.0\n",
      "수식을 w로 미분한 값: 3204.0\n",
      "수식을 w로 미분한 값: 3206.0\n",
      "수식을 w로 미분한 값: 3208.0\n",
      "수식을 w로 미분한 값: 3210.0\n",
      "수식을 w로 미분한 값: 3212.0\n",
      "수식을 w로 미분한 값: 3214.0\n",
      "수식을 w로 미분한 값: 3216.0\n",
      "수식을 w로 미분한 값: 3218.0\n",
      "수식을 w로 미분한 값: 3220.0\n",
      "수식을 w로 미분한 값: 3222.0\n",
      "수식을 w로 미분한 값: 3224.0\n",
      "수식을 w로 미분한 값: 3226.0\n",
      "수식을 w로 미분한 값: 3228.0\n",
      "수식을 w로 미분한 값: 3230.0\n",
      "수식을 w로 미분한 값: 3232.0\n",
      "수식을 w로 미분한 값: 3234.0\n",
      "수식을 w로 미분한 값: 3236.0\n",
      "수식을 w로 미분한 값: 3238.0\n",
      "수식을 w로 미분한 값: 3240.0\n",
      "수식을 w로 미분한 값: 3242.0\n",
      "수식을 w로 미분한 값: 3244.0\n",
      "수식을 w로 미분한 값: 3246.0\n",
      "수식을 w로 미분한 값: 3248.0\n",
      "수식을 w로 미분한 값: 3250.0\n",
      "수식을 w로 미분한 값: 3252.0\n",
      "수식을 w로 미분한 값: 3254.0\n",
      "수식을 w로 미분한 값: 3256.0\n",
      "수식을 w로 미분한 값: 3258.0\n",
      "수식을 w로 미분한 값: 3260.0\n",
      "수식을 w로 미분한 값: 3262.0\n",
      "수식을 w로 미분한 값: 3264.0\n",
      "수식을 w로 미분한 값: 3266.0\n",
      "수식을 w로 미분한 값: 3268.0\n",
      "수식을 w로 미분한 값: 3270.0\n",
      "수식을 w로 미분한 값: 3272.0\n",
      "수식을 w로 미분한 값: 3274.0\n",
      "수식을 w로 미분한 값: 3276.0\n",
      "수식을 w로 미분한 값: 3278.0\n",
      "수식을 w로 미분한 값: 3280.0\n",
      "수식을 w로 미분한 값: 3282.0\n",
      "수식을 w로 미분한 값: 3284.0\n",
      "수식을 w로 미분한 값: 3286.0\n",
      "수식을 w로 미분한 값: 3288.0\n",
      "수식을 w로 미분한 값: 3290.0\n",
      "수식을 w로 미분한 값: 3292.0\n",
      "수식을 w로 미분한 값: 3294.0\n",
      "수식을 w로 미분한 값: 3296.0\n",
      "수식을 w로 미분한 값: 3298.0\n",
      "수식을 w로 미분한 값: 3300.0\n",
      "수식을 w로 미분한 값: 3302.0\n",
      "수식을 w로 미분한 값: 3304.0\n",
      "수식을 w로 미분한 값: 3306.0\n",
      "수식을 w로 미분한 값: 3308.0\n",
      "수식을 w로 미분한 값: 3310.0\n",
      "수식을 w로 미분한 값: 3312.0\n",
      "수식을 w로 미분한 값: 3314.0\n",
      "수식을 w로 미분한 값: 3316.0\n",
      "수식을 w로 미분한 값: 3318.0\n",
      "수식을 w로 미분한 값: 3320.0\n",
      "수식을 w로 미분한 값: 3322.0\n",
      "수식을 w로 미분한 값: 3324.0\n",
      "수식을 w로 미분한 값: 3326.0\n",
      "수식을 w로 미분한 값: 3328.0\n",
      "수식을 w로 미분한 값: 3330.0\n",
      "수식을 w로 미분한 값: 3332.0\n",
      "수식을 w로 미분한 값: 3334.0\n",
      "수식을 w로 미분한 값: 3336.0\n",
      "수식을 w로 미분한 값: 3338.0\n",
      "수식을 w로 미분한 값: 3340.0\n",
      "수식을 w로 미분한 값: 3342.0\n",
      "수식을 w로 미분한 값: 3344.0\n",
      "수식을 w로 미분한 값: 3346.0\n",
      "수식을 w로 미분한 값: 3348.0\n",
      "수식을 w로 미분한 값: 3350.0\n",
      "수식을 w로 미분한 값: 3352.0\n",
      "수식을 w로 미분한 값: 3354.0\n",
      "수식을 w로 미분한 값: 3356.0\n",
      "수식을 w로 미분한 값: 3358.0\n",
      "수식을 w로 미분한 값: 3360.0\n",
      "수식을 w로 미분한 값: 3362.0\n",
      "수식을 w로 미분한 값: 3364.0\n",
      "수식을 w로 미분한 값: 3366.0\n",
      "수식을 w로 미분한 값: 3368.0\n",
      "수식을 w로 미분한 값: 3370.0\n",
      "수식을 w로 미분한 값: 3372.0\n",
      "수식을 w로 미분한 값: 3374.0\n",
      "수식을 w로 미분한 값: 3376.0\n",
      "수식을 w로 미분한 값: 3378.0\n",
      "수식을 w로 미분한 값: 3380.0\n",
      "수식을 w로 미분한 값: 3382.0\n",
      "수식을 w로 미분한 값: 3384.0\n",
      "수식을 w로 미분한 값: 3386.0\n",
      "수식을 w로 미분한 값: 3388.0\n",
      "수식을 w로 미분한 값: 3390.0\n",
      "수식을 w로 미분한 값: 3392.0\n",
      "수식을 w로 미분한 값: 3394.0\n",
      "수식을 w로 미분한 값: 3396.0\n",
      "수식을 w로 미분한 값: 3398.0\n",
      "수식을 w로 미분한 값: 3400.0\n",
      "수식을 w로 미분한 값: 3402.0\n",
      "수식을 w로 미분한 값: 3404.0\n",
      "수식을 w로 미분한 값: 3406.0\n",
      "수식을 w로 미분한 값: 3408.0\n",
      "수식을 w로 미분한 값: 3410.0\n",
      "수식을 w로 미분한 값: 3412.0\n",
      "수식을 w로 미분한 값: 3414.0\n",
      "수식을 w로 미분한 값: 3416.0\n",
      "수식을 w로 미분한 값: 3418.0\n",
      "수식을 w로 미분한 값: 3420.0\n",
      "수식을 w로 미분한 값: 3422.0\n",
      "수식을 w로 미분한 값: 3424.0\n",
      "수식을 w로 미분한 값: 3426.0\n",
      "수식을 w로 미분한 값: 3428.0\n",
      "수식을 w로 미분한 값: 3430.0\n",
      "수식을 w로 미분한 값: 3432.0\n",
      "수식을 w로 미분한 값: 3434.0\n",
      "수식을 w로 미분한 값: 3436.0\n",
      "수식을 w로 미분한 값: 3438.0\n",
      "수식을 w로 미분한 값: 3440.0\n",
      "수식을 w로 미분한 값: 3442.0\n",
      "수식을 w로 미분한 값: 3444.0\n",
      "수식을 w로 미분한 값: 3446.0\n",
      "수식을 w로 미분한 값: 3448.0\n",
      "수식을 w로 미분한 값: 3450.0\n",
      "수식을 w로 미분한 값: 3452.0\n",
      "수식을 w로 미분한 값: 3454.0\n",
      "수식을 w로 미분한 값: 3456.0\n",
      "수식을 w로 미분한 값: 3458.0\n",
      "수식을 w로 미분한 값: 3460.0\n",
      "수식을 w로 미분한 값: 3462.0\n",
      "수식을 w로 미분한 값: 3464.0\n",
      "수식을 w로 미분한 값: 3466.0\n",
      "수식을 w로 미분한 값: 3468.0\n",
      "수식을 w로 미분한 값: 3470.0\n",
      "수식을 w로 미분한 값: 3472.0\n",
      "수식을 w로 미분한 값: 3474.0\n"
     ]
    },
    {
     "name": "stdout",
     "output_type": "stream",
     "text": [
      "수식을 w로 미분한 값: 3476.0\n",
      "수식을 w로 미분한 값: 3478.0\n",
      "수식을 w로 미분한 값: 3480.0\n",
      "수식을 w로 미분한 값: 3482.0\n",
      "수식을 w로 미분한 값: 3484.0\n",
      "수식을 w로 미분한 값: 3486.0\n",
      "수식을 w로 미분한 값: 3488.0\n",
      "수식을 w로 미분한 값: 3490.0\n",
      "수식을 w로 미분한 값: 3492.0\n",
      "수식을 w로 미분한 값: 3494.0\n",
      "수식을 w로 미분한 값: 3496.0\n",
      "수식을 w로 미분한 값: 3498.0\n",
      "수식을 w로 미분한 값: 3500.0\n",
      "수식을 w로 미분한 값: 3502.0\n",
      "수식을 w로 미분한 값: 3504.0\n",
      "수식을 w로 미분한 값: 3506.0\n",
      "수식을 w로 미분한 값: 3508.0\n",
      "수식을 w로 미분한 값: 3510.0\n",
      "수식을 w로 미분한 값: 3512.0\n",
      "수식을 w로 미분한 값: 3514.0\n",
      "수식을 w로 미분한 값: 3516.0\n",
      "수식을 w로 미분한 값: 3518.0\n",
      "수식을 w로 미분한 값: 3520.0\n",
      "수식을 w로 미분한 값: 3522.0\n",
      "수식을 w로 미분한 값: 3524.0\n",
      "수식을 w로 미분한 값: 3526.0\n",
      "수식을 w로 미분한 값: 3528.0\n",
      "수식을 w로 미분한 값: 3530.0\n",
      "수식을 w로 미분한 값: 3532.0\n",
      "수식을 w로 미분한 값: 3534.0\n",
      "수식을 w로 미분한 값: 3536.0\n",
      "수식을 w로 미분한 값: 3538.0\n",
      "수식을 w로 미분한 값: 3540.0\n",
      "수식을 w로 미분한 값: 3542.0\n",
      "수식을 w로 미분한 값: 3544.0\n",
      "수식을 w로 미분한 값: 3546.0\n",
      "수식을 w로 미분한 값: 3548.0\n",
      "수식을 w로 미분한 값: 3550.0\n",
      "수식을 w로 미분한 값: 3552.0\n",
      "수식을 w로 미분한 값: 3554.0\n",
      "수식을 w로 미분한 값: 3556.0\n",
      "수식을 w로 미분한 값: 3558.0\n",
      "수식을 w로 미분한 값: 3560.0\n",
      "수식을 w로 미분한 값: 3562.0\n",
      "수식을 w로 미분한 값: 3564.0\n",
      "수식을 w로 미분한 값: 3566.0\n",
      "수식을 w로 미분한 값: 3568.0\n",
      "수식을 w로 미분한 값: 3570.0\n",
      "수식을 w로 미분한 값: 3572.0\n",
      "수식을 w로 미분한 값: 3574.0\n",
      "수식을 w로 미분한 값: 3576.0\n",
      "수식을 w로 미분한 값: 3578.0\n",
      "수식을 w로 미분한 값: 3580.0\n",
      "수식을 w로 미분한 값: 3582.0\n",
      "수식을 w로 미분한 값: 3584.0\n",
      "수식을 w로 미분한 값: 3586.0\n",
      "수식을 w로 미분한 값: 3588.0\n",
      "수식을 w로 미분한 값: 3590.0\n",
      "수식을 w로 미분한 값: 3592.0\n",
      "수식을 w로 미분한 값: 3594.0\n",
      "수식을 w로 미분한 값: 3596.0\n",
      "수식을 w로 미분한 값: 3598.0\n",
      "수식을 w로 미분한 값: 3600.0\n",
      "수식을 w로 미분한 값: 3602.0\n",
      "수식을 w로 미분한 값: 3604.0\n",
      "수식을 w로 미분한 값: 3606.0\n",
      "수식을 w로 미분한 값: 3608.0\n",
      "수식을 w로 미분한 값: 3610.0\n",
      "수식을 w로 미분한 값: 3612.0\n",
      "수식을 w로 미분한 값: 3614.0\n",
      "수식을 w로 미분한 값: 3616.0\n",
      "수식을 w로 미분한 값: 3618.0\n",
      "수식을 w로 미분한 값: 3620.0\n",
      "수식을 w로 미분한 값: 3622.0\n",
      "수식을 w로 미분한 값: 3624.0\n",
      "수식을 w로 미분한 값: 3626.0\n",
      "수식을 w로 미분한 값: 3628.0\n",
      "수식을 w로 미분한 값: 3630.0\n",
      "수식을 w로 미분한 값: 3632.0\n",
      "수식을 w로 미분한 값: 3634.0\n",
      "수식을 w로 미분한 값: 3636.0\n",
      "수식을 w로 미분한 값: 3638.0\n",
      "수식을 w로 미분한 값: 3640.0\n",
      "수식을 w로 미분한 값: 3642.0\n",
      "수식을 w로 미분한 값: 3644.0\n",
      "수식을 w로 미분한 값: 3646.0\n",
      "수식을 w로 미분한 값: 3648.0\n",
      "수식을 w로 미분한 값: 3650.0\n",
      "수식을 w로 미분한 값: 3652.0\n",
      "수식을 w로 미분한 값: 3654.0\n",
      "수식을 w로 미분한 값: 3656.0\n",
      "수식을 w로 미분한 값: 3658.0\n",
      "수식을 w로 미분한 값: 3660.0\n",
      "수식을 w로 미분한 값: 3662.0\n",
      "수식을 w로 미분한 값: 3664.0\n",
      "수식을 w로 미분한 값: 3666.0\n",
      "수식을 w로 미분한 값: 3668.0\n",
      "수식을 w로 미분한 값: 3670.0\n",
      "수식을 w로 미분한 값: 3672.0\n",
      "수식을 w로 미분한 값: 3674.0\n",
      "수식을 w로 미분한 값: 3676.0\n",
      "수식을 w로 미분한 값: 3678.0\n",
      "수식을 w로 미분한 값: 3680.0\n",
      "수식을 w로 미분한 값: 3682.0\n",
      "수식을 w로 미분한 값: 3684.0\n",
      "수식을 w로 미분한 값: 3686.0\n",
      "수식을 w로 미분한 값: 3688.0\n",
      "수식을 w로 미분한 값: 3690.0\n",
      "수식을 w로 미분한 값: 3692.0\n",
      "수식을 w로 미분한 값: 3694.0\n",
      "수식을 w로 미분한 값: 3696.0\n",
      "수식을 w로 미분한 값: 3698.0\n",
      "수식을 w로 미분한 값: 3700.0\n",
      "수식을 w로 미분한 값: 3702.0\n",
      "수식을 w로 미분한 값: 3704.0\n",
      "수식을 w로 미분한 값: 3706.0\n",
      "수식을 w로 미분한 값: 3708.0\n",
      "수식을 w로 미분한 값: 3710.0\n",
      "수식을 w로 미분한 값: 3712.0\n",
      "수식을 w로 미분한 값: 3714.0\n",
      "수식을 w로 미분한 값: 3716.0\n",
      "수식을 w로 미분한 값: 3718.0\n",
      "수식을 w로 미분한 값: 3720.0\n",
      "수식을 w로 미분한 값: 3722.0\n",
      "수식을 w로 미분한 값: 3724.0\n",
      "수식을 w로 미분한 값: 3726.0\n",
      "수식을 w로 미분한 값: 3728.0\n",
      "수식을 w로 미분한 값: 3730.0\n",
      "수식을 w로 미분한 값: 3732.0\n",
      "수식을 w로 미분한 값: 3734.0\n",
      "수식을 w로 미분한 값: 3736.0\n",
      "수식을 w로 미분한 값: 3738.0\n",
      "수식을 w로 미분한 값: 3740.0\n",
      "수식을 w로 미분한 값: 3742.0\n",
      "수식을 w로 미분한 값: 3744.0\n",
      "수식을 w로 미분한 값: 3746.0\n",
      "수식을 w로 미분한 값: 3748.0\n",
      "수식을 w로 미분한 값: 3750.0\n",
      "수식을 w로 미분한 값: 3752.0\n",
      "수식을 w로 미분한 값: 3754.0\n",
      "수식을 w로 미분한 값: 3756.0\n",
      "수식을 w로 미분한 값: 3758.0\n",
      "수식을 w로 미분한 값: 3760.0\n",
      "수식을 w로 미분한 값: 3762.0\n",
      "수식을 w로 미분한 값: 3764.0\n",
      "수식을 w로 미분한 값: 3766.0\n",
      "수식을 w로 미분한 값: 3768.0\n",
      "수식을 w로 미분한 값: 3770.0\n",
      "수식을 w로 미분한 값: 3772.0\n",
      "수식을 w로 미분한 값: 3774.0\n",
      "수식을 w로 미분한 값: 3776.0\n",
      "수식을 w로 미분한 값: 3778.0\n",
      "수식을 w로 미분한 값: 3780.0\n",
      "수식을 w로 미분한 값: 3782.0\n",
      "수식을 w로 미분한 값: 3784.0\n",
      "수식을 w로 미분한 값: 3786.0\n",
      "수식을 w로 미분한 값: 3788.0\n",
      "수식을 w로 미분한 값: 3790.0\n",
      "수식을 w로 미분한 값: 3792.0\n",
      "수식을 w로 미분한 값: 3794.0\n",
      "수식을 w로 미분한 값: 3796.0\n",
      "수식을 w로 미분한 값: 3798.0\n",
      "수식을 w로 미분한 값: 3800.0\n",
      "수식을 w로 미분한 값: 3802.0\n",
      "수식을 w로 미분한 값: 3804.0\n",
      "수식을 w로 미분한 값: 3806.0\n",
      "수식을 w로 미분한 값: 3808.0\n",
      "수식을 w로 미분한 값: 3810.0\n",
      "수식을 w로 미분한 값: 3812.0\n",
      "수식을 w로 미분한 값: 3814.0\n",
      "수식을 w로 미분한 값: 3816.0\n",
      "수식을 w로 미분한 값: 3818.0\n",
      "수식을 w로 미분한 값: 3820.0\n",
      "수식을 w로 미분한 값: 3822.0\n",
      "수식을 w로 미분한 값: 3824.0\n",
      "수식을 w로 미분한 값: 3826.0\n",
      "수식을 w로 미분한 값: 3828.0\n",
      "수식을 w로 미분한 값: 3830.0\n",
      "수식을 w로 미분한 값: 3832.0\n",
      "수식을 w로 미분한 값: 3834.0\n",
      "수식을 w로 미분한 값: 3836.0\n",
      "수식을 w로 미분한 값: 3838.0\n",
      "수식을 w로 미분한 값: 3840.0\n",
      "수식을 w로 미분한 값: 3842.0\n",
      "수식을 w로 미분한 값: 3844.0\n",
      "수식을 w로 미분한 값: 3846.0\n",
      "수식을 w로 미분한 값: 3848.0\n",
      "수식을 w로 미분한 값: 3850.0\n",
      "수식을 w로 미분한 값: 3852.0\n",
      "수식을 w로 미분한 값: 3854.0\n",
      "수식을 w로 미분한 값: 3856.0\n",
      "수식을 w로 미분한 값: 3858.0\n",
      "수식을 w로 미분한 값: 3860.0\n",
      "수식을 w로 미분한 값: 3862.0\n",
      "수식을 w로 미분한 값: 3864.0\n",
      "수식을 w로 미분한 값: 3866.0\n",
      "수식을 w로 미분한 값: 3868.0\n",
      "수식을 w로 미분한 값: 3870.0\n",
      "수식을 w로 미분한 값: 3872.0\n",
      "수식을 w로 미분한 값: 3874.0\n",
      "수식을 w로 미분한 값: 3876.0\n",
      "수식을 w로 미분한 값: 3878.0\n",
      "수식을 w로 미분한 값: 3880.0\n",
      "수식을 w로 미분한 값: 3882.0\n",
      "수식을 w로 미분한 값: 3884.0\n",
      "수식을 w로 미분한 값: 3886.0\n",
      "수식을 w로 미분한 값: 3888.0\n",
      "수식을 w로 미분한 값: 3890.0\n",
      "수식을 w로 미분한 값: 3892.0\n",
      "수식을 w로 미분한 값: 3894.0\n",
      "수식을 w로 미분한 값: 3896.0\n",
      "수식을 w로 미분한 값: 3898.0\n",
      "수식을 w로 미분한 값: 3900.0\n",
      "수식을 w로 미분한 값: 3902.0\n",
      "수식을 w로 미분한 값: 3904.0\n",
      "수식을 w로 미분한 값: 3906.0\n",
      "수식을 w로 미분한 값: 3908.0\n",
      "수식을 w로 미분한 값: 3910.0\n",
      "수식을 w로 미분한 값: 3912.0\n",
      "수식을 w로 미분한 값: 3914.0\n",
      "수식을 w로 미분한 값: 3916.0\n",
      "수식을 w로 미분한 값: 3918.0\n",
      "수식을 w로 미분한 값: 3920.0\n",
      "수식을 w로 미분한 값: 3922.0\n",
      "수식을 w로 미분한 값: 3924.0\n",
      "수식을 w로 미분한 값: 3926.0\n",
      "수식을 w로 미분한 값: 3928.0\n",
      "수식을 w로 미분한 값: 3930.0\n",
      "수식을 w로 미분한 값: 3932.0\n",
      "수식을 w로 미분한 값: 3934.0\n",
      "수식을 w로 미분한 값: 3936.0\n",
      "수식을 w로 미분한 값: 3938.0\n",
      "수식을 w로 미분한 값: 3940.0\n",
      "수식을 w로 미분한 값: 3942.0\n",
      "수식을 w로 미분한 값: 3944.0\n",
      "수식을 w로 미분한 값: 3946.0\n",
      "수식을 w로 미분한 값: 3948.0\n",
      "수식을 w로 미분한 값: 3950.0\n",
      "수식을 w로 미분한 값: 3952.0\n",
      "수식을 w로 미분한 값: 3954.0\n",
      "수식을 w로 미분한 값: 3956.0\n",
      "수식을 w로 미분한 값: 3958.0\n",
      "수식을 w로 미분한 값: 3960.0\n",
      "수식을 w로 미분한 값: 3962.0\n",
      "수식을 w로 미분한 값: 3964.0\n",
      "수식을 w로 미분한 값: 3966.0\n",
      "수식을 w로 미분한 값: 3968.0\n",
      "수식을 w로 미분한 값: 3970.0\n",
      "수식을 w로 미분한 값: 3972.0\n",
      "수식을 w로 미분한 값: 3974.0\n",
      "수식을 w로 미분한 값: 3976.0\n",
      "수식을 w로 미분한 값: 3978.0\n",
      "수식을 w로 미분한 값: 3980.0\n",
      "수식을 w로 미분한 값: 3982.0\n",
      "수식을 w로 미분한 값: 3984.0\n",
      "수식을 w로 미분한 값: 3986.0\n",
      "수식을 w로 미분한 값: 3988.0\n",
      "수식을 w로 미분한 값: 3990.0\n",
      "수식을 w로 미분한 값: 3992.0\n",
      "수식을 w로 미분한 값: 3994.0\n",
      "수식을 w로 미분한 값: 3996.0\n",
      "수식을 w로 미분한 값: 3998.0\n",
      "수식을 w로 미분한 값: 4000.0\n"
     ]
    }
   ],
   "source": [
    "for epoch in range(nb_epochs + 1):\n",
    "    z = 2*w\n",
    "    z.backward()\n",
    "    print(f'수식을 w로 미분한 값: {w.grad}')"
   ]
  },
  {
   "cell_type": "markdown",
   "id": "1c8eee22",
   "metadata": {
    "pycharm": {
     "name": "#%% md\n"
    }
   },
   "source": [
    "### 2. 자동 미분(Autograd) 실습하기"
   ]
  },
  {
   "cell_type": "code",
   "execution_count": 84,
   "id": "441559ae",
   "metadata": {
    "pycharm": {
     "name": "#%%\n"
    }
   },
   "outputs": [],
   "source": [
    "w = torch.tensor(2., requires_grad=True)"
   ]
  },
  {
   "cell_type": "code",
   "execution_count": 85,
   "id": "9442869a",
   "metadata": {
    "pycharm": {
     "name": "#%%\n"
    }
   },
   "outputs": [],
   "source": [
    "y = w**2\n",
    "z = 2*y + 5"
   ]
  },
  {
   "cell_type": "code",
   "execution_count": 86,
   "id": "cb1a1be4",
   "metadata": {
    "pycharm": {
     "name": "#%%\n"
    }
   },
   "outputs": [],
   "source": [
    "z.backward()"
   ]
  },
  {
   "cell_type": "code",
   "execution_count": 87,
   "id": "7ec15737",
   "metadata": {
    "pycharm": {
     "name": "#%%\n"
    }
   },
   "outputs": [
    {
     "data": {
      "text/plain": [
       "tensor(8.)"
      ]
     },
     "execution_count": 87,
     "metadata": {},
     "output_type": "execute_result"
    }
   ],
   "source": [
    "w.grad"
   ]
  },
  {
   "cell_type": "markdown",
   "id": "0ef056d2",
   "metadata": {
    "pycharm": {
     "name": "#%% md\n"
    }
   },
   "source": [
    "### 다중선형회쉬"
   ]
  },
  {
   "cell_type": "code",
   "execution_count": 88,
   "id": "90a8db92",
   "metadata": {
    "pycharm": {
     "name": "#%%\n"
    }
   },
   "outputs": [
    {
     "data": {
      "text/plain": [
       "<torch._C.Generator at 0x7f3b1c0d13d0>"
      ]
     },
     "execution_count": 88,
     "metadata": {},
     "output_type": "execute_result"
    }
   ],
   "source": [
    "torch.manual_seed(1)"
   ]
  },
  {
   "cell_type": "code",
   "execution_count": 89,
   "id": "8cd4e3a9",
   "metadata": {
    "pycharm": {
     "name": "#%%\n"
    }
   },
   "outputs": [],
   "source": [
    "x1_train = torch.FloatTensor([[73], [93], [89], [96], [73]])\n",
    "x2_train = torch.FloatTensor([[80], [88], [91], [98], [66]])\n",
    "x3_train = torch.FloatTensor([[75], [93], [90], [100], [70]])\n",
    "y_train = torch.FloatTensor([[152], [185], [180], [196], [142]])"
   ]
  },
  {
   "cell_type": "code",
   "execution_count": 90,
   "id": "7f381726",
   "metadata": {
    "pycharm": {
     "name": "#%%\n"
    }
   },
   "outputs": [],
   "source": [
    "w1 = torch.zeros(1, requires_grad=True)\n",
    "w2 = torch.zeros(1, requires_grad=True)\n",
    "w3 = torch.zeros(1, requires_grad=True)\n",
    "b = torch.zeros(1, requires_grad=True)"
   ]
  },
  {
   "cell_type": "code",
   "execution_count": 92,
   "id": "d0ccd3e5",
   "metadata": {
    "pycharm": {
     "name": "#%%\n"
    }
   },
   "outputs": [],
   "source": [
    "optimizer = optim.SGD([w1, w2, w3, b], lr=1e-5)"
   ]
  },
  {
   "cell_type": "code",
   "execution_count": 93,
   "id": "8c905126",
   "metadata": {
    "pycharm": {
     "name": "#%%\n"
    }
   },
   "outputs": [],
   "source": [
    "n_epochs = 10000"
   ]
  },
  {
   "cell_type": "code",
   "execution_count": 94,
   "id": "d779e8c0",
   "metadata": {
    "pycharm": {
     "name": "#%%\n"
    }
   },
   "outputs": [
    {
     "name": "stdout",
     "output_type": "stream",
     "text": [
      "Epoch    0/1999 w1: 0.294 w2: 0.294 w3: 0.297 b: 0.003 Cost: 29661.800781\n",
      "Epoch  100/1999 w1: 0.674 w2: 0.661 w3: 0.676 b: 0.008 Cost: 1.563628\n",
      "Epoch  200/1999 w1: 0.679 w2: 0.655 w3: 0.677 b: 0.008 Cost: 1.497595\n",
      "Epoch  300/1999 w1: 0.684 w2: 0.649 w3: 0.677 b: 0.008 Cost: 1.435044\n",
      "Epoch  400/1999 w1: 0.689 w2: 0.643 w3: 0.678 b: 0.008 Cost: 1.375726\n",
      "Epoch  500/1999 w1: 0.694 w2: 0.638 w3: 0.678 b: 0.009 Cost: 1.319507\n",
      "Epoch  600/1999 w1: 0.699 w2: 0.633 w3: 0.679 b: 0.009 Cost: 1.266222\n",
      "Epoch  700/1999 w1: 0.704 w2: 0.627 w3: 0.679 b: 0.009 Cost: 1.215703\n",
      "Epoch  800/1999 w1: 0.709 w2: 0.622 w3: 0.679 b: 0.009 Cost: 1.167810\n",
      "Epoch  900/1999 w1: 0.713 w2: 0.617 w3: 0.680 b: 0.009 Cost: 1.122429\n",
      "Epoch 1000/1999 w1: 0.718 w2: 0.613 w3: 0.680 b: 0.009 Cost: 1.079390\n",
      "Epoch 1100/1999 w1: 0.722 w2: 0.608 w3: 0.680 b: 0.009 Cost: 1.038574\n",
      "Epoch 1200/1999 w1: 0.727 w2: 0.603 w3: 0.681 b: 0.010 Cost: 0.999884\n",
      "Epoch 1300/1999 w1: 0.731 w2: 0.599 w3: 0.681 b: 0.010 Cost: 0.963217\n",
      "Epoch 1400/1999 w1: 0.735 w2: 0.595 w3: 0.681 b: 0.010 Cost: 0.928427\n",
      "Epoch 1500/1999 w1: 0.739 w2: 0.591 w3: 0.681 b: 0.010 Cost: 0.895448\n",
      "Epoch 1600/1999 w1: 0.743 w2: 0.586 w3: 0.682 b: 0.010 Cost: 0.864169\n",
      "Epoch 1700/1999 w1: 0.746 w2: 0.583 w3: 0.682 b: 0.010 Cost: 0.834509\n",
      "Epoch 1800/1999 w1: 0.750 w2: 0.579 w3: 0.682 b: 0.010 Cost: 0.806380\n",
      "Epoch 1900/1999 w1: 0.754 w2: 0.575 w3: 0.682 b: 0.010 Cost: 0.779696\n",
      "Epoch 2000/1999 w1: 0.757 w2: 0.571 w3: 0.682 b: 0.011 Cost: 0.754379\n",
      "Epoch 2100/1999 w1: 0.760 w2: 0.568 w3: 0.682 b: 0.011 Cost: 0.730373\n",
      "Epoch 2200/1999 w1: 0.764 w2: 0.564 w3: 0.682 b: 0.011 Cost: 0.707601\n",
      "Epoch 2300/1999 w1: 0.767 w2: 0.561 w3: 0.682 b: 0.011 Cost: 0.685991\n",
      "Epoch 2400/1999 w1: 0.770 w2: 0.558 w3: 0.682 b: 0.011 Cost: 0.665485\n",
      "Epoch 2500/1999 w1: 0.773 w2: 0.555 w3: 0.682 b: 0.011 Cost: 0.646028\n",
      "Epoch 2600/1999 w1: 0.776 w2: 0.552 w3: 0.682 b: 0.011 Cost: 0.627574\n",
      "Epoch 2700/1999 w1: 0.779 w2: 0.549 w3: 0.682 b: 0.012 Cost: 0.610050\n",
      "Epoch 2800/1999 w1: 0.782 w2: 0.546 w3: 0.682 b: 0.012 Cost: 0.593426\n",
      "Epoch 2900/1999 w1: 0.785 w2: 0.543 w3: 0.682 b: 0.012 Cost: 0.577643\n",
      "Epoch 3000/1999 w1: 0.788 w2: 0.541 w3: 0.682 b: 0.012 Cost: 0.562653\n",
      "Epoch 3100/1999 w1: 0.791 w2: 0.538 w3: 0.682 b: 0.012 Cost: 0.548430\n",
      "Epoch 3200/1999 w1: 0.793 w2: 0.535 w3: 0.682 b: 0.012 Cost: 0.534914\n",
      "Epoch 3300/1999 w1: 0.796 w2: 0.533 w3: 0.682 b: 0.012 Cost: 0.522085\n",
      "Epoch 3400/1999 w1: 0.798 w2: 0.530 w3: 0.682 b: 0.012 Cost: 0.509902\n",
      "Epoch 3500/1999 w1: 0.801 w2: 0.528 w3: 0.682 b: 0.012 Cost: 0.498333\n",
      "Epoch 3600/1999 w1: 0.803 w2: 0.526 w3: 0.681 b: 0.013 Cost: 0.487337\n",
      "Epoch 3700/1999 w1: 0.806 w2: 0.524 w3: 0.681 b: 0.013 Cost: 0.476889\n",
      "Epoch 3800/1999 w1: 0.808 w2: 0.522 w3: 0.681 b: 0.013 Cost: 0.466959\n",
      "Epoch 3900/1999 w1: 0.810 w2: 0.519 w3: 0.681 b: 0.013 Cost: 0.457530\n",
      "Epoch 4000/1999 w1: 0.812 w2: 0.517 w3: 0.681 b: 0.013 Cost: 0.448557\n",
      "Epoch 4100/1999 w1: 0.814 w2: 0.515 w3: 0.681 b: 0.013 Cost: 0.440033\n",
      "Epoch 4200/1999 w1: 0.817 w2: 0.514 w3: 0.680 b: 0.013 Cost: 0.431924\n",
      "Epoch 4300/1999 w1: 0.819 w2: 0.512 w3: 0.680 b: 0.013 Cost: 0.424211\n",
      "Epoch 4400/1999 w1: 0.821 w2: 0.510 w3: 0.680 b: 0.014 Cost: 0.416875\n",
      "Epoch 4500/1999 w1: 0.823 w2: 0.508 w3: 0.680 b: 0.014 Cost: 0.409904\n",
      "Epoch 4600/1999 w1: 0.825 w2: 0.507 w3: 0.679 b: 0.014 Cost: 0.403257\n",
      "Epoch 4700/1999 w1: 0.826 w2: 0.505 w3: 0.679 b: 0.014 Cost: 0.396936\n",
      "Epoch 4800/1999 w1: 0.828 w2: 0.503 w3: 0.679 b: 0.014 Cost: 0.390922\n",
      "Epoch 4900/1999 w1: 0.830 w2: 0.502 w3: 0.679 b: 0.014 Cost: 0.385190\n",
      "Epoch 5000/1999 w1: 0.832 w2: 0.500 w3: 0.678 b: 0.014 Cost: 0.379739\n",
      "Epoch 5100/1999 w1: 0.834 w2: 0.499 w3: 0.678 b: 0.014 Cost: 0.374529\n",
      "Epoch 5200/1999 w1: 0.835 w2: 0.497 w3: 0.678 b: 0.014 Cost: 0.369581\n",
      "Epoch 5300/1999 w1: 0.837 w2: 0.496 w3: 0.677 b: 0.015 Cost: 0.364861\n",
      "Epoch 5400/1999 w1: 0.839 w2: 0.495 w3: 0.677 b: 0.015 Cost: 0.360358\n",
      "Epoch 5500/1999 w1: 0.840 w2: 0.493 w3: 0.677 b: 0.015 Cost: 0.356061\n",
      "Epoch 5600/1999 w1: 0.842 w2: 0.492 w3: 0.676 b: 0.015 Cost: 0.351962\n",
      "Epoch 5700/1999 w1: 0.843 w2: 0.491 w3: 0.676 b: 0.015 Cost: 0.348053\n",
      "Epoch 5800/1999 w1: 0.845 w2: 0.490 w3: 0.676 b: 0.015 Cost: 0.344324\n",
      "Epoch 5900/1999 w1: 0.846 w2: 0.489 w3: 0.675 b: 0.015 Cost: 0.340758\n",
      "Epoch 6000/1999 w1: 0.848 w2: 0.488 w3: 0.675 b: 0.015 Cost: 0.337360\n",
      "Epoch 6100/1999 w1: 0.849 w2: 0.487 w3: 0.675 b: 0.016 Cost: 0.334102\n",
      "Epoch 6200/1999 w1: 0.851 w2: 0.486 w3: 0.674 b: 0.016 Cost: 0.330996\n",
      "Epoch 6300/1999 w1: 0.852 w2: 0.485 w3: 0.674 b: 0.016 Cost: 0.328027\n",
      "Epoch 6400/1999 w1: 0.853 w2: 0.484 w3: 0.674 b: 0.016 Cost: 0.325185\n",
      "Epoch 6500/1999 w1: 0.854 w2: 0.483 w3: 0.673 b: 0.016 Cost: 0.322460\n",
      "Epoch 6600/1999 w1: 0.856 w2: 0.482 w3: 0.673 b: 0.016 Cost: 0.319853\n",
      "Epoch 6700/1999 w1: 0.857 w2: 0.481 w3: 0.673 b: 0.016 Cost: 0.317363\n",
      "Epoch 6800/1999 w1: 0.858 w2: 0.480 w3: 0.672 b: 0.016 Cost: 0.314965\n",
      "Epoch 6900/1999 w1: 0.859 w2: 0.479 w3: 0.672 b: 0.016 Cost: 0.312670\n",
      "Epoch 7000/1999 w1: 0.861 w2: 0.478 w3: 0.671 b: 0.016 Cost: 0.310474\n",
      "Epoch 7100/1999 w1: 0.862 w2: 0.478 w3: 0.671 b: 0.017 Cost: 0.308366\n",
      "Epoch 7200/1999 w1: 0.863 w2: 0.477 w3: 0.671 b: 0.017 Cost: 0.306338\n",
      "Epoch 7300/1999 w1: 0.864 w2: 0.476 w3: 0.670 b: 0.017 Cost: 0.304399\n",
      "Epoch 7400/1999 w1: 0.865 w2: 0.476 w3: 0.670 b: 0.017 Cost: 0.302535\n",
      "Epoch 7500/1999 w1: 0.866 w2: 0.475 w3: 0.669 b: 0.017 Cost: 0.300727\n",
      "Epoch 7600/1999 w1: 0.867 w2: 0.474 w3: 0.669 b: 0.017 Cost: 0.299006\n",
      "Epoch 7700/1999 w1: 0.868 w2: 0.474 w3: 0.668 b: 0.017 Cost: 0.297340\n",
      "Epoch 7800/1999 w1: 0.869 w2: 0.473 w3: 0.668 b: 0.017 Cost: 0.295739\n",
      "Epoch 7900/1999 w1: 0.870 w2: 0.472 w3: 0.668 b: 0.017 Cost: 0.294207\n",
      "Epoch 8000/1999 w1: 0.871 w2: 0.472 w3: 0.667 b: 0.018 Cost: 0.292709\n",
      "Epoch 8100/1999 w1: 0.872 w2: 0.471 w3: 0.667 b: 0.018 Cost: 0.291278\n",
      "Epoch 8200/1999 w1: 0.873 w2: 0.471 w3: 0.666 b: 0.018 Cost: 0.289889\n",
      "Epoch 8300/1999 w1: 0.874 w2: 0.470 w3: 0.666 b: 0.018 Cost: 0.288560\n",
      "Epoch 8400/1999 w1: 0.875 w2: 0.470 w3: 0.665 b: 0.018 Cost: 0.287265\n",
      "Epoch 8500/1999 w1: 0.876 w2: 0.469 w3: 0.665 b: 0.018 Cost: 0.286019\n",
      "Epoch 8600/1999 w1: 0.877 w2: 0.469 w3: 0.665 b: 0.018 Cost: 0.284810\n",
      "Epoch 8700/1999 w1: 0.878 w2: 0.469 w3: 0.664 b: 0.018 Cost: 0.283639\n",
      "Epoch 8800/1999 w1: 0.879 w2: 0.468 w3: 0.664 b: 0.018 Cost: 0.282506\n",
      "Epoch 8900/1999 w1: 0.880 w2: 0.468 w3: 0.663 b: 0.018 Cost: 0.281414\n",
      "Epoch 9000/1999 w1: 0.880 w2: 0.467 w3: 0.663 b: 0.019 Cost: 0.280348\n",
      "Epoch 9100/1999 w1: 0.881 w2: 0.467 w3: 0.662 b: 0.019 Cost: 0.279318\n",
      "Epoch 9200/1999 w1: 0.882 w2: 0.467 w3: 0.662 b: 0.019 Cost: 0.278315\n",
      "Epoch 9300/1999 w1: 0.883 w2: 0.466 w3: 0.661 b: 0.019 Cost: 0.277347\n",
      "Epoch 9400/1999 w1: 0.884 w2: 0.466 w3: 0.661 b: 0.019 Cost: 0.276400\n",
      "Epoch 9500/1999 w1: 0.884 w2: 0.466 w3: 0.661 b: 0.019 Cost: 0.275474\n",
      "Epoch 9600/1999 w1: 0.885 w2: 0.465 w3: 0.660 b: 0.019 Cost: 0.274581\n",
      "Epoch 9700/1999 w1: 0.886 w2: 0.465 w3: 0.660 b: 0.019 Cost: 0.273714\n",
      "Epoch 9800/1999 w1: 0.887 w2: 0.465 w3: 0.659 b: 0.019 Cost: 0.272860\n",
      "Epoch 9900/1999 w1: 0.887 w2: 0.464 w3: 0.659 b: 0.019 Cost: 0.272035\n"
     ]
    }
   ],
   "source": [
    "for epoch in range(n_epochs):\n",
    "    hypo = x1_train * w1 + x2_train * w2 + x3_train * w3 + b\n",
    "    cost = torch.mean((hypo - y_train) ** 2)\n",
    "    \n",
    "    # cost로 H(x) 개선\n",
    "    optimizer.zero_grad()\n",
    "    cost.backward()\n",
    "    optimizer.step()\n",
    "\n",
    "    # 100번마다 로그 출력\n",
    "    if epoch % 100 == 0:\n",
    "        print('Epoch {:4d}/{} w1: {:.3f} w2: {:.3f} w3: {:.3f} b: {:.3f} Cost: {:.6f}'.format(\n",
    "            epoch, nb_epochs, w1.item(), w2.item(), w3.item(), b.item(), cost.item()\n",
    "        ))"
   ]
  },
  {
   "cell_type": "markdown",
   "id": "194cdfa2",
   "metadata": {
    "pycharm": {
     "name": "#%% md\n"
    }
   },
   "source": [
    "## 04. nn.Module로 구현하는 선현회귀"
   ]
  },
  {
   "cell_type": "code",
   "execution_count": 133,
   "id": "7631063b",
   "metadata": {
    "pycharm": {
     "name": "#%%\n"
    }
   },
   "outputs": [],
   "source": [
    "import torch.nn.functional as F"
   ]
  },
  {
   "cell_type": "code",
   "execution_count": 134,
   "id": "153cea5f",
   "metadata": {
    "pycharm": {
     "name": "#%%\n"
    }
   },
   "outputs": [
    {
     "data": {
      "text/plain": [
       "<torch._C.Generator at 0x7f3b1c0d13d0>"
      ]
     },
     "execution_count": 134,
     "metadata": {},
     "output_type": "execute_result"
    }
   ],
   "source": [
    "torch.manual_seed(1)"
   ]
  },
  {
   "cell_type": "code",
   "execution_count": 135,
   "id": "f3f48f10",
   "metadata": {
    "pycharm": {
     "name": "#%%\n"
    }
   },
   "outputs": [],
   "source": [
    "# 데이터\n",
    "x_train = torch.FloatTensor([[1], [2], [3]])\n",
    "y_train = torch.FloatTensor([[2], [4], [6]])"
   ]
  },
  {
   "cell_type": "code",
   "execution_count": 136,
   "id": "eace0911",
   "metadata": {
    "pycharm": {
     "name": "#%%\n"
    }
   },
   "outputs": [],
   "source": [
    "model = nn.Linear(1,1)"
   ]
  },
  {
   "cell_type": "code",
   "execution_count": 137,
   "id": "fb385397",
   "metadata": {
    "pycharm": {
     "name": "#%%\n"
    }
   },
   "outputs": [
    {
     "name": "stdout",
     "output_type": "stream",
     "text": [
      "[Parameter containing:\n",
      "tensor([[0.5153]], requires_grad=True), Parameter containing:\n",
      "tensor([-0.4414], requires_grad=True)]\n"
     ]
    }
   ],
   "source": [
    "# 처음이 W, 두번쨰가 b\n",
    "print(list(model.parameters()))"
   ]
  },
  {
   "cell_type": "code",
   "execution_count": 138,
   "id": "7eea59a1",
   "metadata": {
    "pycharm": {
     "name": "#%%\n"
    }
   },
   "outputs": [],
   "source": [
    "optimizer = optim.SGD(model.parameters(), lr=.001)"
   ]
  },
  {
   "cell_type": "code",
   "execution_count": 139,
   "id": "5e1f321e",
   "metadata": {
    "pycharm": {
     "name": "#%%\n"
    }
   },
   "outputs": [
    {
     "name": "stdout",
     "output_type": "stream",
     "text": [
      "Epoch    0/2000 Cost: 13.103541\n",
      "Epoch  100/2000 Cost: 1.411435\n",
      "Epoch  200/2000 Cost: 0.155259\n",
      "Epoch  300/2000 Cost: 0.020147\n",
      "Epoch  400/2000 Cost: 0.005470\n",
      "Epoch  500/2000 Cost: 0.003738\n",
      "Epoch  600/2000 Cost: 0.003404\n",
      "Epoch  700/2000 Cost: 0.003227\n",
      "Epoch  800/2000 Cost: 0.003074\n",
      "Epoch  900/2000 Cost: 0.002930\n",
      "Epoch 1000/2000 Cost: 0.002792\n",
      "Epoch 1100/2000 Cost: 0.002661\n",
      "Epoch 1200/2000 Cost: 0.002536\n",
      "Epoch 1300/2000 Cost: 0.002417\n",
      "Epoch 1400/2000 Cost: 0.002304\n",
      "Epoch 1500/2000 Cost: 0.002195\n",
      "Epoch 1600/2000 Cost: 0.002092\n",
      "Epoch 1700/2000 Cost: 0.001994\n",
      "Epoch 1800/2000 Cost: 0.001901\n",
      "Epoch 1900/2000 Cost: 0.001811\n",
      "Epoch 2000/2000 Cost: 0.001726\n"
     ]
    }
   ],
   "source": [
    "n_epochs = 2000\n",
    "for epoch in range(n_epochs+1):\n",
    "    prediction = model(x_train)\n",
    "    \n",
    "    cost = F.mse_loss(prediction, y_train)\n",
    "    \n",
    "    optimizer.zero_grad()\n",
    "    cost.backward()\n",
    "    optimizer.step()\n",
    "    \n",
    "    if epoch % 100 == 0:\n",
    "    # 100번마다 로그 출력\n",
    "      print('Epoch {:4d}/{} Cost: {:.6f}'.format(\n",
    "          epoch, nb_epochs, cost.item()\n",
    "      ))"
   ]
  },
  {
   "cell_type": "code",
   "execution_count": 140,
   "id": "2100c952",
   "metadata": {
    "pycharm": {
     "name": "#%%\n"
    }
   },
   "outputs": [],
   "source": [
    "new_var = torch.FloatTensor([[4.]])"
   ]
  },
  {
   "cell_type": "code",
   "execution_count": 141,
   "id": "c27f8ae3",
   "metadata": {
    "pycharm": {
     "name": "#%%\n"
    }
   },
   "outputs": [],
   "source": [
    "predict = model(new_var)"
   ]
  },
  {
   "cell_type": "code",
   "execution_count": 142,
   "id": "7c0a35e3",
   "metadata": {
    "pycharm": {
     "name": "#%%\n"
    }
   },
   "outputs": [
    {
     "name": "stdout",
     "output_type": "stream",
     "text": [
      "[Parameter containing:\n",
      "tensor([[1.9518]], requires_grad=True), Parameter containing:\n",
      "tensor([0.1097], requires_grad=True)]\n"
     ]
    }
   ],
   "source": [
    "print(list(model.parameters()))"
   ]
  },
  {
   "cell_type": "markdown",
   "id": "c68a9e9a",
   "metadata": {
    "pycharm": {
     "name": "#%% md\n"
    }
   },
   "source": [
    "### 2. 다중 선형 회귀 구현하기"
   ]
  },
  {
   "cell_type": "code",
   "execution_count": 143,
   "id": "dda41269",
   "metadata": {
    "pycharm": {
     "name": "#%%\n"
    }
   },
   "outputs": [
    {
     "data": {
      "text/plain": [
       "<torch._C.Generator at 0x7f3b1c0d13d0>"
      ]
     },
     "execution_count": 143,
     "metadata": {},
     "output_type": "execute_result"
    }
   ],
   "source": [
    "torch.manual_seed(1)"
   ]
  },
  {
   "cell_type": "code",
   "execution_count": 144,
   "id": "34e73e92",
   "metadata": {
    "pycharm": {
     "name": "#%%\n"
    }
   },
   "outputs": [],
   "source": [
    "x_train = torch.FloatTensor([[73, 80, 75],\n",
    "                             [93, 88, 93],\n",
    "                             [89, 91, 90],\n",
    "                             [96, 98, 100],\n",
    "                             [73, 66, 70]])\n",
    "y_train = torch.FloatTensor([[152], [185], [180], [196], [142]])\n"
   ]
  },
  {
   "cell_type": "code",
   "execution_count": 145,
   "id": "30c99ed8",
   "metadata": {
    "pycharm": {
     "name": "#%%\n"
    }
   },
   "outputs": [
    {
     "data": {
      "text/plain": [
       "torch.Size([5, 3])"
      ]
     },
     "execution_count": 145,
     "metadata": {},
     "output_type": "execute_result"
    }
   ],
   "source": [
    "x_train.shape"
   ]
  },
  {
   "cell_type": "code",
   "execution_count": 146,
   "id": "dfda4376",
   "metadata": {
    "pycharm": {
     "name": "#%%\n"
    }
   },
   "outputs": [],
   "source": [
    "model = nn.Linear(3, 1)"
   ]
  },
  {
   "cell_type": "code",
   "execution_count": 148,
   "id": "cb4d24d5",
   "metadata": {
    "pycharm": {
     "name": "#%%\n"
    }
   },
   "outputs": [],
   "source": [
    "optimizer = torch.optim.SGD(model.parameters(), lr=1e-5) "
   ]
  },
  {
   "cell_type": "code",
   "execution_count": 149,
   "id": "0f0ffcd6",
   "metadata": {
    "pycharm": {
     "name": "#%%\n"
    }
   },
   "outputs": [
    {
     "name": "stdout",
     "output_type": "stream",
     "text": [
      "Epoch    0/2000 Cost: 31667.597656\n",
      "Epoch  100/2000 Cost: 0.225993\n",
      "Epoch  200/2000 Cost: 0.223911\n",
      "Epoch  300/2000 Cost: 0.221941\n",
      "Epoch  400/2000 Cost: 0.220059\n",
      "Epoch  500/2000 Cost: 0.218271\n",
      "Epoch  600/2000 Cost: 0.216575\n",
      "Epoch  700/2000 Cost: 0.214950\n",
      "Epoch  800/2000 Cost: 0.213413\n",
      "Epoch  900/2000 Cost: 0.211952\n",
      "Epoch 1000/2000 Cost: 0.210560\n",
      "Epoch 1100/2000 Cost: 0.209232\n",
      "Epoch 1200/2000 Cost: 0.207967\n",
      "Epoch 1300/2000 Cost: 0.206761\n",
      "Epoch 1400/2000 Cost: 0.205619\n",
      "Epoch 1500/2000 Cost: 0.204522\n",
      "Epoch 1600/2000 Cost: 0.203484\n",
      "Epoch 1700/2000 Cost: 0.202485\n",
      "Epoch 1800/2000 Cost: 0.201542\n",
      "Epoch 1900/2000 Cost: 0.200635\n",
      "Epoch 2000/2000 Cost: 0.199769\n"
     ]
    }
   ],
   "source": [
    "nb_epochs = 2000\n",
    "for epoch in range(nb_epochs+1):\n",
    "\n",
    "    # H(x) 계산\n",
    "    prediction = model(x_train)\n",
    "    # model(x_train)은 model.forward(x_train)와 동일함.\n",
    "\n",
    "    # cost 계산\n",
    "    cost = F.mse_loss(prediction, y_train) # <== 파이토치에서 제공하는 평균 제곱 오차 함수\n",
    "\n",
    "    # cost로 H(x) 개선하는 부분\n",
    "    # gradient를 0으로 초기화\n",
    "    optimizer.zero_grad()\n",
    "    # 비용 함수를 미분하여 gradient 계산\n",
    "    cost.backward()\n",
    "    # W와 b를 업데이트\n",
    "    optimizer.step()\n",
    "\n",
    "    if epoch % 100 == 0:\n",
    "    # 100번마다 로그 출력\n",
    "      print('Epoch {:4d}/{} Cost: {:.6f}'.format(\n",
    "          epoch, nb_epochs, cost.item()\n",
    "      ))"
   ]
  },
  {
   "cell_type": "code",
   "execution_count": 150,
   "id": "941384ec",
   "metadata": {
    "pycharm": {
     "name": "#%%\n"
    }
   },
   "outputs": [
    {
     "name": "stdout",
     "output_type": "stream",
     "text": [
      "훈련 후 입력이 73, 80, 75일 때의 예측값 : tensor([[151.2305]], grad_fn=<AddmmBackward0>)\n"
     ]
    }
   ],
   "source": [
    "# 임의의 입력 [73, 80, 75]를 선언\n",
    "new_var =  torch.FloatTensor([[73, 80, 75]]) \n",
    "# 입력한 값 [73, 80, 75]에 대해서 예측값 y를 리턴받아서 pred_y에 저장\n",
    "pred_y = model(new_var) \n",
    "print(\"훈련 후 입력이 73, 80, 75일 때의 예측값 :\", pred_y) "
   ]
  },
  {
   "cell_type": "markdown",
   "id": "f73cac7f",
   "metadata": {
    "pycharm": {
     "name": "#%% md\n"
    }
   },
   "source": [
    "## 05. 클래스로 파이토치 모델 구현하기"
   ]
  },
  {
   "cell_type": "markdown",
   "id": "0cb78838",
   "metadata": {
    "pycharm": {
     "name": "#%% md\n"
    }
   },
   "source": [
    "### 1. 모델을 클래스로 구현하기"
   ]
  },
  {
   "cell_type": "code",
   "execution_count": 151,
   "id": "94c8b4ee",
   "metadata": {
    "pycharm": {
     "name": "#%%\n"
    }
   },
   "outputs": [],
   "source": [
    "class LinearRegressionModel(nn.Module):\n",
    "    def __init__(self):\n",
    "        super().__init__()\n",
    "        self.linear = nn.Linear(1,1)\n",
    "        \n",
    "    def forward(self, x):\n",
    "        return self.linear(x)"
   ]
  },
  {
   "cell_type": "code",
   "execution_count": 158,
   "id": "e07c21e9",
   "metadata": {
    "pycharm": {
     "name": "#%%\n"
    }
   },
   "outputs": [],
   "source": [
    "model = LinearRegressionModel()"
   ]
  },
  {
   "cell_type": "code",
   "execution_count": 159,
   "id": "753bf055",
   "metadata": {
    "pycharm": {
     "name": "#%%\n"
    }
   },
   "outputs": [],
   "source": [
    "torch.manual_seed(1)\n",
    "# 데이터\n",
    "x_train = torch.FloatTensor([[1], [2], [3]])\n",
    "y_train = torch.FloatTensor([[2], [4], [6]])"
   ]
  },
  {
   "cell_type": "code",
   "execution_count": 160,
   "id": "b31277a0",
   "metadata": {
    "pycharm": {
     "name": "#%%\n"
    }
   },
   "outputs": [
    {
     "name": "stdout",
     "output_type": "stream",
     "text": [
      "Epoch    0/2000 Cost: 13.103541\n",
      "Epoch  100/2000 Cost: 0.002791\n",
      "Epoch  200/2000 Cost: 0.001724\n",
      "Epoch  300/2000 Cost: 0.001066\n",
      "Epoch  400/2000 Cost: 0.000658\n",
      "Epoch  500/2000 Cost: 0.000407\n",
      "Epoch  600/2000 Cost: 0.000251\n",
      "Epoch  700/2000 Cost: 0.000155\n",
      "Epoch  800/2000 Cost: 0.000096\n",
      "Epoch  900/2000 Cost: 0.000059\n",
      "Epoch 1000/2000 Cost: 0.000037\n",
      "Epoch 1100/2000 Cost: 0.000023\n",
      "Epoch 1200/2000 Cost: 0.000014\n",
      "Epoch 1300/2000 Cost: 0.000009\n",
      "Epoch 1400/2000 Cost: 0.000005\n",
      "Epoch 1500/2000 Cost: 0.000003\n",
      "Epoch 1600/2000 Cost: 0.000002\n",
      "Epoch 1700/2000 Cost: 0.000001\n",
      "Epoch 1800/2000 Cost: 0.000001\n",
      "Epoch 1900/2000 Cost: 0.000000\n",
      "Epoch 2000/2000 Cost: 0.000000\n"
     ]
    }
   ],
   "source": [
    "optimizer = torch.optim.SGD(model.parameters(), lr=0.01) \n",
    "# 전체 훈련 데이터에 대해 경사 하강법을 2,000회 반복\n",
    "nb_epochs = 2000\n",
    "for epoch in range(nb_epochs+1):\n",
    "\n",
    "    # H(x) 계산\n",
    "    prediction = model(x_train)\n",
    "\n",
    "    # cost 계산\n",
    "    cost = F.mse_loss(prediction, y_train) # <== 파이토치에서 제공하는 평균 제곱 오차 함수\n",
    "\n",
    "    # cost로 H(x) 개선하는 부분\n",
    "    # gradient를 0으로 초기화\n",
    "    optimizer.zero_grad()\n",
    "    # 비용 함수를 미분하여 gradient 계산\n",
    "    cost.backward() # backward 연산\n",
    "    # W와 b를 업데이트\n",
    "    optimizer.step()\n",
    "\n",
    "    if epoch % 100 == 0:\n",
    "    # 100번마다 로그 출력\n",
    "      print('Epoch {:4d}/{} Cost: {:.6f}'.format(\n",
    "          epoch, nb_epochs, cost.item()\n",
    "      ))"
   ]
  },
  {
   "cell_type": "code",
   "execution_count": 168,
   "id": "e5d1ef28",
   "metadata": {
    "pycharm": {
     "name": "#%%\n"
    }
   },
   "outputs": [],
   "source": [
    "torch.manual_seed(1)\n",
    "# 데이터\n",
    "x_train = torch.FloatTensor([[73, 80, 75],\n",
    "                             [93, 88, 93],\n",
    "                             [89, 91, 90],\n",
    "                             [96, 98, 100],\n",
    "                             [73, 66, 70]])\n",
    "y_train = torch.FloatTensor([[152], [185], [180], [196], [142]])\n"
   ]
  },
  {
   "cell_type": "code",
   "execution_count": 169,
   "id": "370b3e82",
   "metadata": {
    "pycharm": {
     "name": "#%%\n"
    }
   },
   "outputs": [],
   "source": [
    "class MultivariateLinearRegressionModel(nn.Module):\n",
    "    def __init__(self):\n",
    "        super().__init__()\n",
    "        self.linear = nn.Linear(3, 1) # 다중 선형 회귀이므로 input_dim=3, output_dim=1.\n",
    "\n",
    "    def forward(self, x):\n",
    "        return self.linear(x)"
   ]
  },
  {
   "cell_type": "code",
   "execution_count": 170,
   "id": "99dcba9e",
   "metadata": {
    "pycharm": {
     "name": "#%%\n"
    }
   },
   "outputs": [],
   "source": [
    "model = MultivariateLinearRegressionModel()"
   ]
  },
  {
   "cell_type": "markdown",
   "id": "5e5f78d8",
   "metadata": {
    "pycharm": {
     "name": "#%% md\n"
    }
   },
   "source": [
    "W, b를 최적화해야 되므로 SGD에 넣어준다."
   ]
  },
  {
   "cell_type": "code",
   "execution_count": 171,
   "id": "cbb495e7",
   "metadata": {
    "pycharm": {
     "name": "#%%\n"
    }
   },
   "outputs": [],
   "source": [
    "optimizer = torch.optim.SGD(model.parameters(), lr=1e-5) "
   ]
  },
  {
   "cell_type": "code",
   "execution_count": 172,
   "id": "59bd3a8a",
   "metadata": {
    "pycharm": {
     "name": "#%%\n"
    }
   },
   "outputs": [
    {
     "name": "stdout",
     "output_type": "stream",
     "text": [
      "Epoch    0/2000 Cost: 31667.597656\n",
      "Epoch  100/2000 Cost: 0.225993\n",
      "Epoch  200/2000 Cost: 0.223911\n",
      "Epoch  300/2000 Cost: 0.221941\n",
      "Epoch  400/2000 Cost: 0.220059\n",
      "Epoch  500/2000 Cost: 0.218271\n",
      "Epoch  600/2000 Cost: 0.216575\n",
      "Epoch  700/2000 Cost: 0.214950\n",
      "Epoch  800/2000 Cost: 0.213413\n",
      "Epoch  900/2000 Cost: 0.211952\n",
      "Epoch 1000/2000 Cost: 0.210560\n",
      "Epoch 1100/2000 Cost: 0.209232\n",
      "Epoch 1200/2000 Cost: 0.207967\n",
      "Epoch 1300/2000 Cost: 0.206761\n",
      "Epoch 1400/2000 Cost: 0.205619\n",
      "Epoch 1500/2000 Cost: 0.204522\n",
      "Epoch 1600/2000 Cost: 0.203484\n",
      "Epoch 1700/2000 Cost: 0.202485\n",
      "Epoch 1800/2000 Cost: 0.201542\n",
      "Epoch 1900/2000 Cost: 0.200635\n",
      "Epoch 2000/2000 Cost: 0.199769\n"
     ]
    }
   ],
   "source": [
    "n_epochs = 2000\n",
    "for epoch in range(n_epochs+1):\n",
    "    prediction = model(x_train)\n",
    "    cost = F.mse_loss(prediction, y_train)\n",
    "    \n",
    "    optimizer.zero_grad()\n",
    "    # 실제 y와 y 예측의 차이를 알아야지 수렴시킬 수 있어서 작성해준다.\n",
    "    cost.backward()\n",
    "    optimizer.step()\n",
    "    \n",
    "    if epoch % 100 == 0:\n",
    "    # 100번마다 로그 출력\n",
    "      print('Epoch {:4d}/{} Cost: {:.6f}'.format(\n",
    "          epoch, nb_epochs, cost.item()\n",
    "      ))"
   ]
  },
  {
   "cell_type": "markdown",
   "id": "3dabe474",
   "metadata": {
    "pycharm": {
     "name": "#%% md\n"
    }
   },
   "source": [
    "## 06. 미니 배치와 데이터 로드"
   ]
  },
  {
   "cell_type": "markdown",
   "id": "6df667f0",
   "metadata": {
    "pycharm": {
     "name": "#%% md\n"
    }
   },
   "source": [
    "### 1. 미니 배치와 배치 크기"
   ]
  },
  {
   "cell_type": "code",
   "execution_count": 173,
   "id": "dc766226",
   "metadata": {
    "pycharm": {
     "name": "#%%\n"
    }
   },
   "outputs": [],
   "source": [
    "from torch.utils.data import TensorDataset\n",
    "from torch.utils.data import DataLoader"
   ]
  },
  {
   "cell_type": "code",
   "execution_count": 174,
   "id": "26c78267",
   "metadata": {
    "pycharm": {
     "name": "#%%\n"
    }
   },
   "outputs": [],
   "source": [
    "dataset = TensorDataset(x_train, y_train)"
   ]
  },
  {
   "cell_type": "code",
   "execution_count": 175,
   "id": "a51a37b2",
   "metadata": {
    "pycharm": {
     "name": "#%%\n"
    }
   },
   "outputs": [],
   "source": [
    "dataloader = DataLoader(dataset, batch_size=2, shuffle=True)"
   ]
  },
  {
   "cell_type": "code",
   "execution_count": 176,
   "id": "903dccc3",
   "metadata": {
    "pycharm": {
     "name": "#%%\n"
    }
   },
   "outputs": [],
   "source": [
    "model = nn.Linear(3, 1)\n",
    "optimizer = optim.SGD(model.parameters(), lr=1e-5)"
   ]
  },
  {
   "cell_type": "code",
   "execution_count": 177,
   "id": "f942c66b",
   "metadata": {
    "pycharm": {
     "name": "#%%\n"
    }
   },
   "outputs": [
    {
     "name": "stdout",
     "output_type": "stream",
     "text": [
      "Epoch    0/20 Batch 1/3 Cost: 40394.078125\n",
      "Epoch    0/20 Batch 2/3 Cost: 10625.847656\n",
      "Epoch    0/20 Batch 3/3 Cost: 5451.569824\n",
      "Epoch    1/20 Batch 1/3 Cost: 937.502686\n",
      "Epoch    1/20 Batch 2/3 Cost: 265.944641\n",
      "Epoch    1/20 Batch 3/3 Cost: 244.422516\n",
      "Epoch    2/20 Batch 1/3 Cost: 3.523124\n",
      "Epoch    2/20 Batch 2/3 Cost: 55.838848\n",
      "Epoch    2/20 Batch 3/3 Cost: 2.371109\n",
      "Epoch    3/20 Batch 1/3 Cost: 21.615038\n",
      "Epoch    3/20 Batch 2/3 Cost: 1.536160\n",
      "Epoch    3/20 Batch 3/3 Cost: 23.620941\n",
      "Epoch    4/20 Batch 1/3 Cost: 12.848326\n",
      "Epoch    4/20 Batch 2/3 Cost: 17.578579\n",
      "Epoch    4/20 Batch 3/3 Cost: 18.382185\n",
      "Epoch    5/20 Batch 1/3 Cost: 11.401794\n",
      "Epoch    5/20 Batch 2/3 Cost: 20.961008\n",
      "Epoch    5/20 Batch 3/3 Cost: 28.939528\n",
      "Epoch    6/20 Batch 1/3 Cost: 14.807928\n",
      "Epoch    6/20 Batch 2/3 Cost: 2.599214\n",
      "Epoch    6/20 Batch 3/3 Cost: 33.501408\n",
      "Epoch    7/20 Batch 1/3 Cost: 16.869902\n",
      "Epoch    7/20 Batch 2/3 Cost: 24.529007\n",
      "Epoch    7/20 Batch 3/3 Cost: 10.461083\n",
      "Epoch    8/20 Batch 1/3 Cost: 8.686938\n",
      "Epoch    8/20 Batch 2/3 Cost: 30.927563\n",
      "Epoch    8/20 Batch 3/3 Cost: 7.897373\n",
      "Epoch    9/20 Batch 1/3 Cost: 7.612912\n",
      "Epoch    9/20 Batch 2/3 Cost: 18.703302\n",
      "Epoch    9/20 Batch 3/3 Cost: 16.064274\n",
      "Epoch   10/20 Batch 1/3 Cost: 12.797729\n",
      "Epoch   10/20 Batch 2/3 Cost: 8.214152\n",
      "Epoch   10/20 Batch 3/3 Cost: 23.461618\n",
      "Epoch   11/20 Batch 1/3 Cost: 16.458567\n",
      "Epoch   11/20 Batch 2/3 Cost: 8.302089\n",
      "Epoch   11/20 Batch 3/3 Cost: 18.300760\n",
      "Epoch   12/20 Batch 1/3 Cost: 3.977037\n",
      "Epoch   12/20 Batch 2/3 Cost: 16.020422\n",
      "Epoch   12/20 Batch 3/3 Cost: 29.221930\n",
      "Epoch   13/20 Batch 1/3 Cost: 13.251001\n",
      "Epoch   13/20 Batch 2/3 Cost: 15.146610\n",
      "Epoch   13/20 Batch 3/3 Cost: 6.902967\n",
      "Epoch   14/20 Batch 1/3 Cost: 20.339699\n",
      "Epoch   14/20 Batch 2/3 Cost: 8.538606\n",
      "Epoch   14/20 Batch 3/3 Cost: 4.506875\n",
      "Epoch   15/20 Batch 1/3 Cost: 9.943653\n",
      "Epoch   15/20 Batch 2/3 Cost: 13.766188\n",
      "Epoch   15/20 Batch 3/3 Cost: 19.031033\n",
      "Epoch   16/20 Batch 1/3 Cost: 29.411713\n",
      "Epoch   16/20 Batch 2/3 Cost: 15.633725\n",
      "Epoch   16/20 Batch 3/3 Cost: 1.366826\n",
      "Epoch   17/20 Batch 1/3 Cost: 29.227428\n",
      "Epoch   17/20 Batch 2/3 Cost: 8.651312\n",
      "Epoch   17/20 Batch 3/3 Cost: 12.546141\n",
      "Epoch   18/20 Batch 1/3 Cost: 2.676948\n",
      "Epoch   18/20 Batch 2/3 Cost: 23.020742\n",
      "Epoch   18/20 Batch 3/3 Cost: 20.121801\n",
      "Epoch   19/20 Batch 1/3 Cost: 18.024099\n",
      "Epoch   19/20 Batch 2/3 Cost: 9.444228\n",
      "Epoch   19/20 Batch 3/3 Cost: 23.168087\n",
      "Epoch   20/20 Batch 1/3 Cost: 21.232851\n",
      "Epoch   20/20 Batch 2/3 Cost: 11.280956\n",
      "Epoch   20/20 Batch 3/3 Cost: 14.621032\n"
     ]
    }
   ],
   "source": [
    "nb_epochs = 20\n",
    "for epoch in range(nb_epochs + 1):\n",
    "    for batch_idx, samples in enumerate(dataloader):\n",
    "        # print(batch_idx)\n",
    "        # print(samples)\n",
    "        x_train, y_train = samples\n",
    "        # H(x) 계산\n",
    "        prediction = model(x_train)\n",
    "\n",
    "        # cost 계산\n",
    "        cost = F.mse_loss(prediction, y_train)\n",
    "\n",
    "        # cost로 H(x) 계산\n",
    "        optimizer.zero_grad()\n",
    "        cost.backward()\n",
    "        optimizer.step()\n",
    "\n",
    "        print('Epoch {:4d}/{} Batch {}/{} Cost: {:.6f}'.format(\n",
    "            epoch, nb_epochs, batch_idx+1, len(dataloader),\n",
    "            cost.item()\n",
    "            ))"
   ]
  },
  {
   "cell_type": "markdown",
   "id": "a686383a",
   "metadata": {
    "pycharm": {
     "name": "#%% md\n"
    }
   },
   "source": [
    "## 07. Custom Dataset"
   ]
  },
  {
   "cell_type": "markdown",
   "id": "16dd98ff",
   "metadata": {
    "pycharm": {
     "name": "#%% md\n"
    }
   },
   "source": [
    "### 1. Custom Dataset으로 선형회귀 구현"
   ]
  },
  {
   "cell_type": "code",
   "execution_count": 178,
   "id": "b8712068",
   "metadata": {
    "pycharm": {
     "name": "#%%\n"
    }
   },
   "outputs": [],
   "source": [
    "from torch.utils.data import Dataset"
   ]
  },
  {
   "cell_type": "code",
   "execution_count": 181,
   "id": "e61d20b7",
   "metadata": {
    "pycharm": {
     "name": "#%%\n"
    }
   },
   "outputs": [],
   "source": [
    "class CustomDataset(Dataset):\n",
    "    def __init__(self):\n",
    "        self.x_data = [[73, 80, 75],\n",
    "                   [93, 88, 93],\n",
    "                   [89, 91, 90],\n",
    "                   [96, 98, 100],\n",
    "                   [73, 66, 70]]\n",
    "        self.y_data = [[152], [185], [180], [196], [142]]\n",
    "    \n",
    "    def __len__(self):\n",
    "        return len(self.x_data)\n",
    "    \n",
    "    def __getitem__(self, idx):\n",
    "        x = torch.FloatTensor(self.x_data[idx])\n",
    "        y = torch.FloatTensor(self.y_data[idx])\n",
    "        return x, y"
   ]
  },
  {
   "cell_type": "code",
   "execution_count": 182,
   "id": "65612f9f",
   "metadata": {
    "pycharm": {
     "name": "#%%\n"
    }
   },
   "outputs": [],
   "source": [
    "dataset = CustomDataset()\n",
    "dataloader = DataLoader(dataset, batch_size=2, shuffle=True)"
   ]
  },
  {
   "cell_type": "code",
   "execution_count": 183,
   "id": "61f2e396",
   "metadata": {
    "pycharm": {
     "name": "#%%\n"
    }
   },
   "outputs": [],
   "source": [
    "model = torch.nn.Linear(3,1)\n",
    "optimizer = torch.optim.SGD(model.parameters(), lr=1e-5) "
   ]
  },
  {
   "cell_type": "code",
   "execution_count": 184,
   "id": "27e08cb1",
   "metadata": {
    "pycharm": {
     "name": "#%%\n"
    }
   },
   "outputs": [
    {
     "name": "stdout",
     "output_type": "stream",
     "text": [
      "Epoch    0/20 Batch 1/3 Cost: 40548.742188\n",
      "Epoch    0/20 Batch 2/3 Cost: 7291.494629\n",
      "Epoch    0/20 Batch 3/3 Cost: 1811.472290\n",
      "Epoch    1/20 Batch 1/3 Cost: 1189.893066\n",
      "Epoch    1/20 Batch 2/3 Cost: 401.466431\n",
      "Epoch    1/20 Batch 3/3 Cost: 98.862206\n",
      "Epoch    2/20 Batch 1/3 Cost: 59.924492\n",
      "Epoch    2/20 Batch 2/3 Cost: 5.559007\n",
      "Epoch    2/20 Batch 3/3 Cost: 0.005015\n",
      "Epoch    3/20 Batch 1/3 Cost: 7.238708\n",
      "Epoch    3/20 Batch 2/3 Cost: 0.579787\n",
      "Epoch    3/20 Batch 3/3 Cost: 9.432348\n",
      "Epoch    4/20 Batch 1/3 Cost: 2.596285\n",
      "Epoch    4/20 Batch 2/3 Cost: 6.112614\n",
      "Epoch    4/20 Batch 3/3 Cost: 0.173577\n",
      "Epoch    5/20 Batch 1/3 Cost: 0.585848\n",
      "Epoch    5/20 Batch 2/3 Cost: 3.764531\n",
      "Epoch    5/20 Batch 3/3 Cost: 4.496256\n",
      "Epoch    6/20 Batch 1/3 Cost: 1.750809\n",
      "Epoch    6/20 Batch 2/3 Cost: 2.692096\n",
      "Epoch    6/20 Batch 3/3 Cost: 4.092447\n",
      "Epoch    7/20 Batch 1/3 Cost: 0.873122\n",
      "Epoch    7/20 Batch 2/3 Cost: 3.545633\n",
      "Epoch    7/20 Batch 3/3 Cost: 4.466667\n",
      "Epoch    8/20 Batch 1/3 Cost: 2.943422\n",
      "Epoch    8/20 Batch 2/3 Cost: 2.787029\n",
      "Epoch    8/20 Batch 3/3 Cost: 3.619434\n",
      "Epoch    9/20 Batch 1/3 Cost: 3.126629\n",
      "Epoch    9/20 Batch 2/3 Cost: 3.285140\n",
      "Epoch    9/20 Batch 3/3 Cost: 3.671642\n",
      "Epoch   10/20 Batch 1/3 Cost: 4.018428\n",
      "Epoch   10/20 Batch 2/3 Cost: 3.578519\n",
      "Epoch   10/20 Batch 3/3 Cost: 4.788361\n",
      "Epoch   11/20 Batch 1/3 Cost: 2.840890\n",
      "Epoch   11/20 Batch 2/3 Cost: 1.529948\n",
      "Epoch   11/20 Batch 3/3 Cost: 5.260715\n",
      "Epoch   12/20 Batch 1/3 Cost: 2.605295\n",
      "Epoch   12/20 Batch 2/3 Cost: 2.249573\n",
      "Epoch   12/20 Batch 3/3 Cost: 4.657314\n",
      "Epoch   13/20 Batch 1/3 Cost: 2.926564\n",
      "Epoch   13/20 Batch 2/3 Cost: 1.515777\n",
      "Epoch   13/20 Batch 3/3 Cost: 4.302320\n",
      "Epoch   14/20 Batch 1/3 Cost: 0.500350\n",
      "Epoch   14/20 Batch 2/3 Cost: 6.037333\n",
      "Epoch   14/20 Batch 3/3 Cost: 4.123126\n",
      "Epoch   15/20 Batch 1/3 Cost: 1.343163\n",
      "Epoch   15/20 Batch 2/3 Cost: 3.552392\n",
      "Epoch   15/20 Batch 3/3 Cost: 4.573134\n",
      "Epoch   16/20 Batch 1/3 Cost: 3.172132\n",
      "Epoch   16/20 Batch 2/3 Cost: 3.901104\n",
      "Epoch   16/20 Batch 3/3 Cost: 5.279982\n",
      "Epoch   17/20 Batch 1/3 Cost: 2.121084\n",
      "Epoch   17/20 Batch 2/3 Cost: 3.004867\n",
      "Epoch   17/20 Batch 3/3 Cost: 5.418177\n",
      "Epoch   18/20 Batch 1/3 Cost: 2.273882\n",
      "Epoch   18/20 Batch 2/3 Cost: 2.860928\n",
      "Epoch   18/20 Batch 3/3 Cost: 3.722516\n",
      "Epoch   19/20 Batch 1/3 Cost: 3.066788\n",
      "Epoch   19/20 Batch 2/3 Cost: 3.034832\n",
      "Epoch   19/20 Batch 3/3 Cost: 0.832834\n",
      "Epoch   20/20 Batch 1/3 Cost: 2.018387\n",
      "Epoch   20/20 Batch 2/3 Cost: 6.400998\n",
      "Epoch   20/20 Batch 3/3 Cost: 0.817560\n"
     ]
    }
   ],
   "source": [
    "nb_epochs = 20\n",
    "for epoch in range(nb_epochs + 1):\n",
    "    for batch_idx, samples in enumerate(dataloader):\n",
    "        # print(batch_idx)\n",
    "        # print(samples)\n",
    "        x_train, y_train = samples\n",
    "        # H(x) 계산\n",
    "        prediction = model(x_train)\n",
    "\n",
    "        # cost 계산\n",
    "        cost = F.mse_loss(prediction, y_train)\n",
    "\n",
    "        # cost로 H(x) 계산\n",
    "        optimizer.zero_grad()\n",
    "        cost.backward()\n",
    "        optimizer.step()\n",
    "\n",
    "        print('Epoch {:4d}/{} Batch {}/{} Cost: {:.6f}'.format(\n",
    "            epoch, nb_epochs, batch_idx+1, len(dataloader),\n",
    "            cost.item()\n",
    "            ))"
   ]
  },
  {
   "cell_type": "markdown",
   "id": "a7d6fbeb",
   "metadata": {
    "pycharm": {
     "name": "#%% md\n"
    }
   },
   "source": [
    "## 04. 로지스틱 회귀"
   ]
  },
  {
   "cell_type": "code",
   "execution_count": 185,
   "id": "946a5323",
   "metadata": {
    "pycharm": {
     "name": "#%%\n"
    }
   },
   "outputs": [],
   "source": [
    "%matplotlib inline\n",
    "import matplotlib.pyplot as plt"
   ]
  },
  {
   "cell_type": "code",
   "execution_count": 186,
   "id": "15f817a0",
   "metadata": {
    "pycharm": {
     "name": "#%%\n"
    }
   },
   "outputs": [],
   "source": [
    "def sigmoid(x):\n",
    "    return 1/(1+np.exp(-x))"
   ]
  },
  {
   "cell_type": "code",
   "execution_count": 187,
   "id": "ef54c24c",
   "metadata": {
    "pycharm": {
     "name": "#%%\n"
    }
   },
   "outputs": [],
   "source": [
    "x = np.arange(-5. , 5., .1)\n",
    "y = sigmoid(x)"
   ]
  },
  {
   "cell_type": "code",
   "execution_count": 188,
   "id": "f010f4bb",
   "metadata": {
    "pycharm": {
     "name": "#%%\n"
    }
   },
   "outputs": [
    {
     "data": {
      "image/png": "[encoded data removed]",
      "text/plain": [
       "<Figure size 432x288 with 1 Axes>"
      ]
     },
     "metadata": {
      "needs_background": "light"
     },
     "output_type": "display_data"
    }
   ],
   "source": [
    "plt.plot(x, y, 'g')\n",
    "plt.plot([0,0], [1.,0], \":\")\n",
    "plt.show()"
   ]
  },
  {
   "cell_type": "code",
   "execution_count": 189,
   "id": "91c0842d",
   "metadata": {
    "pycharm": {
     "name": "#%%\n"
    }
   },
   "outputs": [
    {
     "data": {
      "image/png": "[encoded data removed]",
      "text/plain": [
       "<Figure size 432x288 with 1 Axes>"
      ]
     },
     "metadata": {
      "needs_background": "light"
     },
     "output_type": "display_data"
    }
   ],
   "source": [
    "x = np.arange(-5.0, 5.0, 0.1)\n",
    "y1 = sigmoid(0.5*x)\n",
    "y2 = sigmoid(x)\n",
    "y3 = sigmoid(2*x)\n",
    "\n",
    "plt.plot(x, y1, 'r', linestyle='--') # W의 값이 0.5일때\n",
    "plt.plot(x, y2, 'g') # W의 값이 1일때\n",
    "plt.plot(x, y3, 'b', linestyle='--') # W의 값이 2일때\n",
    "plt.plot([0,0],[1.0,0.0], ':') # 가운데 점선 추가\n",
    "plt.title('Sigmoid Function')\n",
    "plt.show()"
   ]
  },
  {
   "cell_type": "code",
   "execution_count": 190,
   "id": "8397f4ae",
   "metadata": {
    "pycharm": {
     "name": "#%%\n"
    }
   },
   "outputs": [
    {
     "data": {
      "text/plain": [
       "<torch._C.Generator at 0x7f3b1c0d13d0>"
      ]
     },
     "execution_count": 190,
     "metadata": {},
     "output_type": "execute_result"
    }
   ],
   "source": [
    "torch.manual_seed(1)"
   ]
  },
  {
   "cell_type": "code",
   "execution_count": 191,
   "id": "db76f051",
   "metadata": {
    "pycharm": {
     "name": "#%%\n"
    }
   },
   "outputs": [],
   "source": [
    "x_data = [[1, 2], [2, 3], [3, 1], [4, 3], [5, 3], [6, 2]]\n",
    "y_data = [[0], [0], [0], [1], [1], [1]]\n",
    "x_train = torch.FloatTensor(x_data)\n",
    "y_train = torch.FloatTensor(y_data)"
   ]
  },
  {
   "cell_type": "code",
   "execution_count": 192,
   "id": "78d202ed",
   "metadata": {
    "pycharm": {
     "name": "#%%\n"
    }
   },
   "outputs": [
    {
     "data": {
      "text/plain": [
       "torch.Size([6, 2])"
      ]
     },
     "execution_count": 192,
     "metadata": {},
     "output_type": "execute_result"
    }
   ],
   "source": [
    "x_train.shape"
   ]
  },
  {
   "cell_type": "code",
   "execution_count": 193,
   "id": "ce9902c3",
   "metadata": {
    "pycharm": {
     "name": "#%%\n"
    }
   },
   "outputs": [
    {
     "data": {
      "text/plain": [
       "torch.Size([6, 1])"
      ]
     },
     "execution_count": 193,
     "metadata": {},
     "output_type": "execute_result"
    }
   ],
   "source": [
    "y_train.shape"
   ]
  },
  {
   "cell_type": "code",
   "execution_count": 194,
   "id": "1cf1f6e8",
   "metadata": {
    "pycharm": {
     "name": "#%%\n"
    }
   },
   "outputs": [],
   "source": [
    "W = torch.zeros((2, 1), requires_grad=True) # 크기는 2 x 1\n",
    "b = torch.zeros(1, requires_grad=True)"
   ]
  },
  {
   "cell_type": "code",
   "execution_count": 196,
   "id": "7408f005",
   "metadata": {
    "pycharm": {
     "name": "#%%\n"
    }
   },
   "outputs": [],
   "source": [
    "hypothesis = 1 / (1 + torch.exp(-(x_train.matmul(W) + b)))"
   ]
  },
  {
   "cell_type": "code",
   "execution_count": 198,
   "id": "869bddcb",
   "metadata": {
    "pycharm": {
     "name": "#%%\n"
    }
   },
   "outputs": [
    {
     "name": "stdout",
     "output_type": "stream",
     "text": [
      "tensor([[0.5000],\n",
      "        [0.5000],\n",
      "        [0.5000],\n",
      "        [0.5000],\n",
      "        [0.5000],\n",
      "        [0.5000]], grad_fn=<MulBackward0>)\n"
     ]
    }
   ],
   "source": [
    "print(hypothesis)"
   ]
  },
  {
   "cell_type": "code",
   "execution_count": 199,
   "id": "79b31075",
   "metadata": {
    "pycharm": {
     "name": "#%%\n"
    }
   },
   "outputs": [
    {
     "name": "stdout",
     "output_type": "stream",
     "text": [
      "tensor([[0.6931],\n",
      "        [0.6931],\n",
      "        [0.6931],\n",
      "        [0.6931],\n",
      "        [0.6931],\n",
      "        [0.6931]], grad_fn=<NegBackward0>)\n"
     ]
    }
   ],
   "source": [
    "losses = -(y_train * torch.log(hypothesis) + \n",
    "           (1 - y_train) * torch.log(1 - hypothesis))\n",
    "print(losses)"
   ]
  },
  {
   "cell_type": "code",
   "execution_count": 200,
   "id": "720e076d",
   "metadata": {
    "pycharm": {
     "name": "#%%\n"
    }
   },
   "outputs": [
    {
     "name": "stdout",
     "output_type": "stream",
     "text": [
      "tensor(0.6931, grad_fn=<MeanBackward0>)\n"
     ]
    }
   ],
   "source": [
    "cost = losses.mean()\n",
    "print(cost)"
   ]
  },
  {
   "cell_type": "code",
   "execution_count": 201,
   "id": "e9424ff0",
   "metadata": {
    "pycharm": {
     "name": "#%%\n"
    }
   },
   "outputs": [
    {
     "name": "stdout",
     "output_type": "stream",
     "text": [
      "Epoch    0/1000 Cost: 0.693147\n",
      "Epoch  100/1000 Cost: 0.134722\n",
      "Epoch  200/1000 Cost: 0.080643\n",
      "Epoch  300/1000 Cost: 0.057900\n",
      "Epoch  400/1000 Cost: 0.045300\n",
      "Epoch  500/1000 Cost: 0.037261\n",
      "Epoch  600/1000 Cost: 0.031673\n",
      "Epoch  700/1000 Cost: 0.027556\n",
      "Epoch  800/1000 Cost: 0.024394\n",
      "Epoch  900/1000 Cost: 0.021888\n",
      "Epoch 1000/1000 Cost: 0.019852\n"
     ]
    }
   ],
   "source": [
    "# 모델 초기화\n",
    "W = torch.zeros((2, 1), requires_grad=True)\n",
    "b = torch.zeros(1, requires_grad=True)\n",
    "# optimizer 설정\n",
    "optimizer = optim.SGD([W, b], lr=1)\n",
    "\n",
    "nb_epochs = 1000\n",
    "for epoch in range(nb_epochs + 1):\n",
    "\n",
    "    # Cost 계산\n",
    "    hypothesis = torch.sigmoid(x_train.matmul(W) + b)\n",
    "    cost = -(y_train * torch.log(hypothesis) + \n",
    "             (1 - y_train) * torch.log(1 - hypothesis)).mean()\n",
    "\n",
    "    # cost로 H(x) 개선\n",
    "    optimizer.zero_grad()\n",
    "    cost.backward()\n",
    "    optimizer.step()\n",
    "\n",
    "    # 100번마다 로그 출력\n",
    "    if epoch % 100 == 0:\n",
    "        print('Epoch {:4d}/{} Cost: {:.6f}'.format(\n",
    "            epoch, nb_epochs, cost.item()\n",
    "        ))"
   ]
  },
  {
   "cell_type": "code",
   "execution_count": 202,
   "id": "227f025f",
   "metadata": {
    "pycharm": {
     "name": "#%%\n"
    }
   },
   "outputs": [],
   "source": [
    "hypothesis = torch.sigmoid(x_train.matmul(W) + b)"
   ]
  },
  {
   "cell_type": "code",
   "execution_count": 203,
   "id": "d9fab07b",
   "metadata": {
    "pycharm": {
     "name": "#%%\n"
    }
   },
   "outputs": [
    {
     "data": {
      "text/plain": [
       "tensor([[2.7648e-04],\n",
       "        [3.1608e-02],\n",
       "        [3.8977e-02],\n",
       "        [9.5622e-01],\n",
       "        [9.9823e-01],\n",
       "        [9.9969e-01]], grad_fn=<SigmoidBackward0>)"
      ]
     },
     "execution_count": 203,
     "metadata": {},
     "output_type": "execute_result"
    }
   ],
   "source": [
    "hypothesis"
   ]
  },
  {
   "cell_type": "code",
   "execution_count": 204,
   "id": "2e144bf4",
   "metadata": {
    "pycharm": {
     "name": "#%%\n"
    }
   },
   "outputs": [
    {
     "name": "stdout",
     "output_type": "stream",
     "text": [
      "tensor([[False],\n",
      "        [False],\n",
      "        [False],\n",
      "        [ True],\n",
      "        [ True],\n",
      "        [ True]])\n"
     ]
    }
   ],
   "source": [
    "prediction = hypothesis >= torch.FloatTensor([0.5])\n",
    "print(prediction)"
   ]
  },
  {
   "cell_type": "markdown",
   "id": "e9e9e80e",
   "metadata": {
    "pycharm": {
     "name": "#%% md\n"
    }
   },
   "source": [
    "### Pytorch nn.Linear로 로지스틱 회귀 구현"
   ]
  },
  {
   "cell_type": "code",
   "execution_count": 205,
   "id": "23427693",
   "metadata": {
    "pycharm": {
     "name": "#%%\n"
    }
   },
   "outputs": [
    {
     "data": {
      "text/plain": [
       "<torch._C.Generator at 0x7f3b1c0d13d0>"
      ]
     },
     "execution_count": 205,
     "metadata": {},
     "output_type": "execute_result"
    }
   ],
   "source": [
    "torch.manual_seed(1)"
   ]
  },
  {
   "cell_type": "code",
   "execution_count": 207,
   "id": "fdbf1960",
   "metadata": {
    "pycharm": {
     "name": "#%%\n"
    }
   },
   "outputs": [],
   "source": [
    "model = nn.Sequential(\n",
    "    nn.Linear(2,1),\n",
    "    nn.Sigmoid()\n",
    ")"
   ]
  },
  {
   "cell_type": "code",
   "execution_count": 208,
   "id": "a2936951",
   "metadata": {
    "pycharm": {
     "name": "#%%\n"
    }
   },
   "outputs": [
    {
     "name": "stdout",
     "output_type": "stream",
     "text": [
      "Epoch    0/1000 Cost: 0.614994 Accuracy 66.67%\n",
      "Epoch   10/1000 Cost: 0.747550 Accuracy 83.33%\n",
      "Epoch   20/1000 Cost: 0.633216 Accuracy 83.33%\n",
      "Epoch   30/1000 Cost: 0.538123 Accuracy 83.33%\n",
      "Epoch   40/1000 Cost: 0.450406 Accuracy 83.33%\n",
      "Epoch   50/1000 Cost: 0.366382 Accuracy 83.33%\n",
      "Epoch   60/1000 Cost: 0.287368 Accuracy 83.33%\n",
      "Epoch   70/1000 Cost: 0.219289 Accuracy 83.33%\n",
      "Epoch   80/1000 Cost: 0.173225 Accuracy 100.00%\n",
      "Epoch   90/1000 Cost: 0.151674 Accuracy 100.00%\n",
      "Epoch  100/1000 Cost: 0.140280 Accuracy 100.00%\n",
      "Epoch  110/1000 Cost: 0.131002 Accuracy 100.00%\n",
      "Epoch  120/1000 Cost: 0.122903 Accuracy 100.00%\n",
      "Epoch  130/1000 Cost: 0.115765 Accuracy 100.00%\n",
      "Epoch  140/1000 Cost: 0.109426 Accuracy 100.00%\n",
      "Epoch  150/1000 Cost: 0.103760 Accuracy 100.00%\n",
      "Epoch  160/1000 Cost: 0.098664 Accuracy 100.00%\n",
      "Epoch  170/1000 Cost: 0.094056 Accuracy 100.00%\n",
      "Epoch  180/1000 Cost: 0.089870 Accuracy 100.00%\n",
      "Epoch  190/1000 Cost: 0.086050 Accuracy 100.00%\n",
      "Epoch  200/1000 Cost: 0.082549 Accuracy 100.00%\n",
      "Epoch  210/1000 Cost: 0.079328 Accuracy 100.00%\n",
      "Epoch  220/1000 Cost: 0.076356 Accuracy 100.00%\n",
      "Epoch  230/1000 Cost: 0.073604 Accuracy 100.00%\n",
      "Epoch  240/1000 Cost: 0.071048 Accuracy 100.00%\n",
      "Epoch  250/1000 Cost: 0.068668 Accuracy 100.00%\n",
      "Epoch  260/1000 Cost: 0.066446 Accuracy 100.00%\n",
      "Epoch  270/1000 Cost: 0.064367 Accuracy 100.00%\n",
      "Epoch  280/1000 Cost: 0.062417 Accuracy 100.00%\n",
      "Epoch  290/1000 Cost: 0.060584 Accuracy 100.00%\n",
      "Epoch  300/1000 Cost: 0.058858 Accuracy 100.00%\n",
      "Epoch  310/1000 Cost: 0.057231 Accuracy 100.00%\n",
      "Epoch  320/1000 Cost: 0.055692 Accuracy 100.00%\n",
      "Epoch  330/1000 Cost: 0.054236 Accuracy 100.00%\n",
      "Epoch  340/1000 Cost: 0.052856 Accuracy 100.00%\n",
      "Epoch  350/1000 Cost: 0.051546 Accuracy 100.00%\n",
      "Epoch  360/1000 Cost: 0.050301 Accuracy 100.00%\n",
      "Epoch  370/1000 Cost: 0.049115 Accuracy 100.00%\n",
      "Epoch  380/1000 Cost: 0.047986 Accuracy 100.00%\n",
      "Epoch  390/1000 Cost: 0.046908 Accuracy 100.00%\n",
      "Epoch  400/1000 Cost: 0.045878 Accuracy 100.00%\n",
      "Epoch  410/1000 Cost: 0.044893 Accuracy 100.00%\n",
      "Epoch  420/1000 Cost: 0.043951 Accuracy 100.00%\n",
      "Epoch  430/1000 Cost: 0.043048 Accuracy 100.00%\n",
      "Epoch  440/1000 Cost: 0.042182 Accuracy 100.00%\n",
      "Epoch  450/1000 Cost: 0.041351 Accuracy 100.00%\n",
      "Epoch  460/1000 Cost: 0.040552 Accuracy 100.00%\n",
      "Epoch  470/1000 Cost: 0.039784 Accuracy 100.00%\n",
      "Epoch  480/1000 Cost: 0.039045 Accuracy 100.00%\n",
      "Epoch  490/1000 Cost: 0.038334 Accuracy 100.00%\n",
      "Epoch  500/1000 Cost: 0.037649 Accuracy 100.00%\n",
      "Epoch  510/1000 Cost: 0.036987 Accuracy 100.00%\n",
      "Epoch  520/1000 Cost: 0.036349 Accuracy 100.00%\n",
      "Epoch  530/1000 Cost: 0.035734 Accuracy 100.00%\n",
      "Epoch  540/1000 Cost: 0.035138 Accuracy 100.00%\n",
      "Epoch  550/1000 Cost: 0.034563 Accuracy 100.00%\n",
      "Epoch  560/1000 Cost: 0.034006 Accuracy 100.00%\n",
      "Epoch  570/1000 Cost: 0.033468 Accuracy 100.00%\n",
      "Epoch  580/1000 Cost: 0.032946 Accuracy 100.00%\n",
      "Epoch  590/1000 Cost: 0.032441 Accuracy 100.00%\n",
      "Epoch  600/1000 Cost: 0.031951 Accuracy 100.00%\n",
      "Epoch  610/1000 Cost: 0.031476 Accuracy 100.00%\n",
      "Epoch  620/1000 Cost: 0.031014 Accuracy 100.00%\n",
      "Epoch  630/1000 Cost: 0.030567 Accuracy 100.00%\n",
      "Epoch  640/1000 Cost: 0.030132 Accuracy 100.00%\n",
      "Epoch  650/1000 Cost: 0.029710 Accuracy 100.00%\n",
      "Epoch  660/1000 Cost: 0.029299 Accuracy 100.00%\n",
      "Epoch  670/1000 Cost: 0.028900 Accuracy 100.00%\n",
      "Epoch  680/1000 Cost: 0.028512 Accuracy 100.00%\n",
      "Epoch  690/1000 Cost: 0.028134 Accuracy 100.00%\n",
      "Epoch  700/1000 Cost: 0.027766 Accuracy 100.00%\n",
      "Epoch  710/1000 Cost: 0.027407 Accuracy 100.00%\n",
      "Epoch  720/1000 Cost: 0.027058 Accuracy 100.00%\n",
      "Epoch  730/1000 Cost: 0.026718 Accuracy 100.00%\n",
      "Epoch  740/1000 Cost: 0.026386 Accuracy 100.00%\n",
      "Epoch  750/1000 Cost: 0.026063 Accuracy 100.00%\n",
      "Epoch  760/1000 Cost: 0.025747 Accuracy 100.00%\n",
      "Epoch  770/1000 Cost: 0.025439 Accuracy 100.00%\n",
      "Epoch  780/1000 Cost: 0.025138 Accuracy 100.00%\n",
      "Epoch  790/1000 Cost: 0.024845 Accuracy 100.00%\n",
      "Epoch  800/1000 Cost: 0.024558 Accuracy 100.00%\n",
      "Epoch  810/1000 Cost: 0.024278 Accuracy 100.00%\n",
      "Epoch  820/1000 Cost: 0.024004 Accuracy 100.00%\n",
      "Epoch  830/1000 Cost: 0.023737 Accuracy 100.00%\n",
      "Epoch  840/1000 Cost: 0.023475 Accuracy 100.00%\n",
      "Epoch  850/1000 Cost: 0.023219 Accuracy 100.00%\n",
      "Epoch  860/1000 Cost: 0.022969 Accuracy 100.00%\n",
      "Epoch  870/1000 Cost: 0.022724 Accuracy 100.00%\n",
      "Epoch  880/1000 Cost: 0.022484 Accuracy 100.00%\n",
      "Epoch  890/1000 Cost: 0.022250 Accuracy 100.00%\n",
      "Epoch  900/1000 Cost: 0.022020 Accuracy 100.00%\n",
      "Epoch  910/1000 Cost: 0.021795 Accuracy 100.00%\n",
      "Epoch  920/1000 Cost: 0.021574 Accuracy 100.00%\n",
      "Epoch  930/1000 Cost: 0.021358 Accuracy 100.00%\n",
      "Epoch  940/1000 Cost: 0.021147 Accuracy 100.00%\n",
      "Epoch  950/1000 Cost: 0.020939 Accuracy 100.00%\n",
      "Epoch  960/1000 Cost: 0.020736 Accuracy 100.00%\n",
      "Epoch  970/1000 Cost: 0.020536 Accuracy 100.00%\n",
      "Epoch  980/1000 Cost: 0.020340 Accuracy 100.00%\n",
      "Epoch  990/1000 Cost: 0.020148 Accuracy 100.00%\n",
      "Epoch 1000/1000 Cost: 0.019960 Accuracy 100.00%\n"
     ]
    }
   ],
   "source": [
    "# optimizer 설정\n",
    "optimizer = optim.SGD(model.parameters(), lr=1)\n",
    "\n",
    "nb_epochs = 1000\n",
    "for epoch in range(nb_epochs + 1):\n",
    "\n",
    "    # H(x) 계산\n",
    "    hypothesis = model(x_train)\n",
    "\n",
    "    # cost 계산\n",
    "    cost = F.binary_cross_entropy(hypothesis, y_train)\n",
    "\n",
    "    # cost로 H(x) 개선\n",
    "    optimizer.zero_grad()\n",
    "    cost.backward()\n",
    "    optimizer.step()\n",
    "\n",
    "    # 20번마다 로그 출력\n",
    "    if epoch % 10 == 0:\n",
    "        prediction = hypothesis >= torch.FloatTensor([0.5]) # 예측값이 0.5를 넘으면 True로 간주\n",
    "        correct_prediction = prediction.float() == y_train # 실제값과 일치하는 경우만 True로 간주\n",
    "        accuracy = correct_prediction.sum().item() / len(correct_prediction) # 정확도를 계산\n",
    "        print('Epoch {:4d}/{} Cost: {:.6f} Accuracy {:2.2f}%'.format( # 각 에포크마다 정확도를 출력\n",
    "            epoch, nb_epochs, cost.item(), accuracy * 100,\n",
    "        ))"
   ]
  },
  {
   "cell_type": "markdown",
   "id": "baa6b0c3",
   "metadata": {
    "pycharm": {
     "name": "#%% md\n"
    }
   },
   "source": [
    "## 05. 소프트맥스 회귀"
   ]
  },
  {
   "cell_type": "markdown",
   "id": "4ec9c0b0",
   "metadata": {
    "pycharm": {
     "name": "#%% md\n"
    }
   },
   "source": [
    "### 로우레벨로 소프트맥스 구현"
   ]
  },
  {
   "cell_type": "code",
   "execution_count": 209,
   "id": "f3c785a7",
   "metadata": {
    "pycharm": {
     "name": "#%%\n"
    }
   },
   "outputs": [],
   "source": [
    "z = torch.FloatTensor([1,2,3])"
   ]
  },
  {
   "cell_type": "code",
   "execution_count": 210,
   "id": "e3b30fb6",
   "metadata": {
    "pycharm": {
     "name": "#%%\n"
    }
   },
   "outputs": [],
   "source": [
    "hypothesis = F.softmax(z, dim=0)"
   ]
  },
  {
   "cell_type": "code",
   "execution_count": 211,
   "id": "4208871e",
   "metadata": {
    "pycharm": {
     "name": "#%%\n"
    }
   },
   "outputs": [
    {
     "data": {
      "text/plain": [
       "tensor(1.)"
      ]
     },
     "execution_count": 211,
     "metadata": {},
     "output_type": "execute_result"
    }
   ],
   "source": [
    "hypothesis.sum()"
   ]
  },
  {
   "cell_type": "code",
   "execution_count": 212,
   "id": "6d659b27",
   "metadata": {
    "pycharm": {
     "name": "#%%\n"
    }
   },
   "outputs": [],
   "source": [
    "z = torch.rand(3, 5, requires_grad=True)"
   ]
  },
  {
   "cell_type": "code",
   "execution_count": 214,
   "id": "e21b1fa8",
   "metadata": {
    "pycharm": {
     "name": "#%%\n"
    }
   },
   "outputs": [],
   "source": [
    "hypothesis = F.softmax(z, dim=1)"
   ]
  },
  {
   "cell_type": "code",
   "execution_count": 215,
   "id": "74a394d1",
   "metadata": {
    "pycharm": {
     "name": "#%%\n"
    }
   },
   "outputs": [
    {
     "data": {
      "text/plain": [
       "tensor([[0.1685, 0.2409, 0.2002, 0.1757, 0.2146],\n",
       "        [0.2063, 0.2416, 0.1656, 0.1941, 0.1924],\n",
       "        [0.1913, 0.1776, 0.2755, 0.2079, 0.1477]], grad_fn=<SoftmaxBackward0>)"
      ]
     },
     "execution_count": 215,
     "metadata": {},
     "output_type": "execute_result"
    }
   ],
   "source": [
    "hypothesis"
   ]
  },
  {
   "cell_type": "code",
   "execution_count": 216,
   "id": "e4b4c3f5",
   "metadata": {
    "pycharm": {
     "name": "#%%\n"
    }
   },
   "outputs": [],
   "source": [
    "y = torch.randint(5, (3,)).long()"
   ]
  },
  {
   "cell_type": "code",
   "execution_count": 217,
   "id": "288bb148",
   "metadata": {
    "pycharm": {
     "name": "#%%\n"
    }
   },
   "outputs": [
    {
     "data": {
      "text/plain": [
       "tensor([3, 1, 4])"
      ]
     },
     "execution_count": 217,
     "metadata": {},
     "output_type": "execute_result"
    }
   ],
   "source": [
    "y"
   ]
  },
  {
   "cell_type": "code",
   "execution_count": 222,
   "id": "9af6196d",
   "metadata": {
    "pycharm": {
     "name": "#%%\n"
    }
   },
   "outputs": [],
   "source": [
    "y_one_hot = torch.zeros_like(hypothesis) "
   ]
  },
  {
   "cell_type": "code",
   "execution_count": 224,
   "id": "0eec056a",
   "metadata": {
    "pycharm": {
     "name": "#%%\n"
    }
   },
   "outputs": [
    {
     "data": {
      "text/plain": [
       "tensor([[0., 0., 0., 1., 0.],\n",
       "        [0., 1., 0., 0., 0.],\n",
       "        [0., 0., 0., 0., 1.]])"
      ]
     },
     "execution_count": 224,
     "metadata": {},
     "output_type": "execute_result"
    }
   ],
   "source": [
    "y_one_hot.scatter_(1, y.unsqueeze(1), 1)"
   ]
  },
  {
   "cell_type": "code",
   "execution_count": 225,
   "id": "e95a4962",
   "metadata": {
    "pycharm": {
     "name": "#%%\n"
    }
   },
   "outputs": [
    {
     "data": {
      "text/plain": [
       "tensor([[3],\n",
       "        [1],\n",
       "        [4]])"
      ]
     },
     "execution_count": 225,
     "metadata": {},
     "output_type": "execute_result"
    }
   ],
   "source": [
    "y.unsqueeze(1)"
   ]
  },
  {
   "cell_type": "code",
   "execution_count": 226,
   "id": "6577e8f6",
   "metadata": {
    "pycharm": {
     "name": "#%%\n"
    }
   },
   "outputs": [
    {
     "name": "stdout",
     "output_type": "stream",
     "text": [
      "tensor(1.6906, grad_fn=<MeanBackward0>)\n"
     ]
    }
   ],
   "source": [
    "cost = (y_one_hot * -torch.log(hypothesis)).sum(dim=1).mean()\n",
    "print(cost)"
   ]
  },
  {
   "cell_type": "markdown",
   "id": "9cd01d67",
   "metadata": {
    "pycharm": {
     "name": "#%% md\n"
    }
   },
   "source": [
    "### 하이레벨로 소프트맥스 회귀 구현"
   ]
  },
  {
   "cell_type": "code",
   "execution_count": 227,
   "id": "f54dc41e",
   "metadata": {
    "pycharm": {
     "name": "#%%\n"
    }
   },
   "outputs": [
    {
     "data": {
      "text/plain": [
       "tensor([[-1.7806, -1.4233, -1.6082, -1.7389, -1.5390],\n",
       "        [-1.5784, -1.4205, -1.7980, -1.6396, -1.6481],\n",
       "        [-1.6538, -1.7283, -1.2892, -1.5707, -1.9125]],\n",
       "       grad_fn=<LogSoftmaxBackward0>)"
      ]
     },
     "execution_count": 227,
     "metadata": {},
     "output_type": "execute_result"
    }
   ],
   "source": [
    "F.log_softmax(z, dim=1)"
   ]
  },
  {
   "cell_type": "code",
   "execution_count": 228,
   "id": "a6a481b4",
   "metadata": {
    "pycharm": {
     "name": "#%%\n"
    }
   },
   "outputs": [
    {
     "data": {
      "text/plain": [
       "tensor(1.6906, grad_fn=<MeanBackward0>)"
      ]
     },
     "execution_count": 228,
     "metadata": {},
     "output_type": "execute_result"
    }
   ],
   "source": [
    "(y_one_hot * - F.log_softmax(z, dim=1)).sum(dim=1).mean()"
   ]
  },
  {
   "cell_type": "code",
   "execution_count": 229,
   "id": "395633e7",
   "metadata": {
    "pycharm": {
     "name": "#%%\n"
    }
   },
   "outputs": [
    {
     "data": {
      "text/plain": [
       "tensor(1.6906, grad_fn=<NllLossBackward0>)"
      ]
     },
     "execution_count": 229,
     "metadata": {},
     "output_type": "execute_result"
    }
   ],
   "source": [
    "F.nll_loss(F.log_softmax(z, dim=1), y)"
   ]
  },
  {
   "cell_type": "markdown",
   "id": "9b29fea6",
   "metadata": {
    "pycharm": {
     "name": "#%% md\n"
    }
   },
   "source": [
    "### 소프트맥스 회귀 구현"
   ]
  },
  {
   "cell_type": "code",
   "execution_count": 230,
   "id": "e2a03777",
   "metadata": {
    "pycharm": {
     "name": "#%%\n"
    }
   },
   "outputs": [
    {
     "data": {
      "text/plain": [
       "<torch._C.Generator at 0x7f3b1c0d13d0>"
      ]
     },
     "execution_count": 230,
     "metadata": {},
     "output_type": "execute_result"
    }
   ],
   "source": [
    "torch.manual_seed(1)"
   ]
  },
  {
   "cell_type": "code",
   "execution_count": 231,
   "id": "6a4615e9",
   "metadata": {
    "pycharm": {
     "name": "#%%\n"
    }
   },
   "outputs": [],
   "source": [
    "x_train = [[1, 2, 1, 1],\n",
    "           [2, 1, 3, 2],\n",
    "           [3, 1, 3, 4],\n",
    "           [4, 1, 5, 5],\n",
    "           [1, 7, 5, 5],\n",
    "           [1, 2, 5, 6],\n",
    "           [1, 6, 6, 6],\n",
    "           [1, 7, 7, 7]]\n",
    "y_train = [2, 2, 2, 1, 1, 1, 0, 0]\n",
    "x_train = torch.FloatTensor(x_train)\n",
    "y_train = torch.LongTensor(y_train)"
   ]
  },
  {
   "cell_type": "code",
   "execution_count": 232,
   "id": "12f921b5",
   "metadata": {
    "pycharm": {
     "name": "#%%\n"
    }
   },
   "outputs": [
    {
     "data": {
      "text/plain": [
       "tensor([[0., 0., 1.],\n",
       "        [0., 0., 1.],\n",
       "        [0., 0., 1.],\n",
       "        [0., 1., 0.],\n",
       "        [0., 1., 0.],\n",
       "        [0., 1., 0.],\n",
       "        [1., 0., 0.],\n",
       "        [1., 0., 0.]])"
      ]
     },
     "execution_count": 232,
     "metadata": {},
     "output_type": "execute_result"
    }
   ],
   "source": [
    "y_one_hot = torch.zeros(8, 3)\n",
    "y_one_hot.scatter_(1, y_train.unsqueeze(1), 1)"
   ]
  },
  {
   "cell_type": "code",
   "execution_count": 233,
   "id": "f33b830d",
   "metadata": {
    "pycharm": {
     "name": "#%%\n"
    }
   },
   "outputs": [
    {
     "name": "stdout",
     "output_type": "stream",
     "text": [
      "tensor([[0., 0., 1.],\n",
      "        [0., 0., 1.],\n",
      "        [0., 0., 1.],\n",
      "        [0., 1., 0.],\n",
      "        [0., 1., 0.],\n",
      "        [0., 1., 0.],\n",
      "        [1., 0., 0.],\n",
      "        [1., 0., 0.]])\n"
     ]
    }
   ],
   "source": [
    "print(y_one_hot)"
   ]
  },
  {
   "cell_type": "code",
   "execution_count": 234,
   "id": "96d0aa67",
   "metadata": {
    "pycharm": {
     "name": "#%%\n"
    }
   },
   "outputs": [],
   "source": [
    "# 모델 초기화\n",
    "W = torch.zeros((4, 3), requires_grad=True)\n",
    "b = torch.zeros(1, requires_grad=True)\n",
    "# optimizer 설정\n",
    "optimizer = optim.SGD([W, b], lr=0.1)"
   ]
  },
  {
   "cell_type": "code",
   "execution_count": 236,
   "id": "686193a7",
   "metadata": {
    "pycharm": {
     "name": "#%%\n"
    }
   },
   "outputs": [
    {
     "name": "stdout",
     "output_type": "stream",
     "text": [
      "Epoch    0/5000 Cost: 0.385263\n",
      "Epoch  100/5000 Cost: 0.358230\n",
      "Epoch  200/5000 Cost: 0.330755\n",
      "Epoch  300/5000 Cost: 0.306726\n",
      "Epoch  400/5000 Cost: 0.294556\n",
      "Epoch  500/5000 Cost: 0.285188\n",
      "Epoch  600/5000 Cost: 0.276404\n",
      "Epoch  700/5000 Cost: 0.268142\n",
      "Epoch  800/5000 Cost: 0.260353\n",
      "Epoch  900/5000 Cost: 0.252995\n",
      "Epoch 1000/5000 Cost: 0.246030\n",
      "Epoch 1100/5000 Cost: 0.239426\n",
      "Epoch 1200/5000 Cost: 0.233155\n",
      "Epoch 1300/5000 Cost: 0.227190\n",
      "Epoch 1400/5000 Cost: 0.221510\n",
      "Epoch 1500/5000 Cost: 0.216093\n",
      "Epoch 1600/5000 Cost: 0.210922\n",
      "Epoch 1700/5000 Cost: 0.205980\n",
      "Epoch 1800/5000 Cost: 0.201252\n",
      "Epoch 1900/5000 Cost: 0.196724\n",
      "Epoch 2000/5000 Cost: 0.192384\n",
      "Epoch 2100/5000 Cost: 0.188221\n",
      "Epoch 2200/5000 Cost: 0.184223\n",
      "Epoch 2300/5000 Cost: 0.180382\n",
      "Epoch 2400/5000 Cost: 0.176688\n",
      "Epoch 2500/5000 Cost: 0.173134\n",
      "Epoch 2600/5000 Cost: 0.169711\n",
      "Epoch 2700/5000 Cost: 0.166413\n",
      "Epoch 2800/5000 Cost: 0.163232\n",
      "Epoch 2900/5000 Cost: 0.160164\n",
      "Epoch 3000/5000 Cost: 0.157203\n",
      "Epoch 3100/5000 Cost: 0.154342\n",
      "Epoch 3200/5000 Cost: 0.151577\n",
      "Epoch 3300/5000 Cost: 0.148904\n",
      "Epoch 3400/5000 Cost: 0.146318\n",
      "Epoch 3500/5000 Cost: 0.143815\n",
      "Epoch 3600/5000 Cost: 0.141392\n",
      "Epoch 3700/5000 Cost: 0.139044\n",
      "Epoch 3800/5000 Cost: 0.136768\n",
      "Epoch 3900/5000 Cost: 0.134562\n",
      "Epoch 4000/5000 Cost: 0.132421\n",
      "Epoch 4100/5000 Cost: 0.130344\n",
      "Epoch 4200/5000 Cost: 0.128328\n",
      "Epoch 4300/5000 Cost: 0.126369\n",
      "Epoch 4400/5000 Cost: 0.124467\n",
      "Epoch 4500/5000 Cost: 0.122617\n",
      "Epoch 4600/5000 Cost: 0.120819\n",
      "Epoch 4700/5000 Cost: 0.119070\n",
      "Epoch 4800/5000 Cost: 0.117369\n",
      "Epoch 4900/5000 Cost: 0.115713\n",
      "Epoch 5000/5000 Cost: 0.114100\n"
     ]
    }
   ],
   "source": [
    "nb_epochs = 5000\n",
    "for epoch in range(nb_epochs + 1):\n",
    "\n",
    "    # 가설\n",
    "    hypothesis = F.softmax(x_train.matmul(W) + b, dim=1) \n",
    "\n",
    "    # 비용 함수\n",
    "    cost = (y_one_hot * -torch.log(hypothesis)).sum(dim=1).mean()\n",
    "\n",
    "    # cost로 H(x) 개선\n",
    "    optimizer.zero_grad()\n",
    "    cost.backward()\n",
    "    optimizer.step()\n",
    "\n",
    "    # 100번마다 로그 출력\n",
    "    if epoch % 100 == 0:\n",
    "        print('Epoch {:4d}/{} Cost: {:.6f}'.format(\n",
    "            epoch, nb_epochs, cost.item()\n",
    "        ))"
   ]
  },
  {
   "cell_type": "markdown",
   "id": "51ac78fc",
   "metadata": {
    "pycharm": {
     "name": "#%% md\n"
    }
   },
   "source": [
    "### nn.Module로 소프트맥스 회귀 구현"
   ]
  },
  {
   "cell_type": "code",
   "execution_count": 240,
   "id": "6b4a939a",
   "metadata": {
    "pycharm": {
     "name": "#%%\n"
    }
   },
   "outputs": [],
   "source": [
    "model = nn.Linear(4,3)"
   ]
  },
  {
   "cell_type": "code",
   "execution_count": 241,
   "id": "367a8b05",
   "metadata": {
    "pycharm": {
     "name": "#%%\n"
    }
   },
   "outputs": [
    {
     "name": "stdout",
     "output_type": "stream",
     "text": [
      "Epoch    0/1000 Cost: 2.637636\n",
      "Epoch  100/1000 Cost: 2.637636\n",
      "Epoch  200/1000 Cost: 2.637636\n",
      "Epoch  300/1000 Cost: 2.637636\n",
      "Epoch  400/1000 Cost: 2.637636\n",
      "Epoch  500/1000 Cost: 2.637636\n",
      "Epoch  600/1000 Cost: 2.637636\n",
      "Epoch  700/1000 Cost: 2.637636\n",
      "Epoch  800/1000 Cost: 2.637636\n",
      "Epoch  900/1000 Cost: 2.637636\n",
      "Epoch 1000/1000 Cost: 2.637636\n"
     ]
    }
   ],
   "source": [
    "nb_epochs = 1000\n",
    "for epoch in range(nb_epochs + 1):\n",
    "\n",
    "    # H(x) 계산\n",
    "    prediction = model(x_train)\n",
    "\n",
    "    # cost 계산\n",
    "    # cross entropy에 소프트맥스 함수가 포함되어 있어서 softmax를 model에 넣으 필요가 없다.\n",
    "    cost = F.cross_entropy(prediction, y_train)\n",
    "\n",
    "    # cost로 H(x) 개선\n",
    "    optimizer.zero_grad()\n",
    "    cost.backward()\n",
    "    optimizer.step()\n",
    "\n",
    "    # 20번마다 로그 출력\n",
    "    if epoch % 100 == 0:\n",
    "        print('Epoch {:4d}/{} Cost: {:.6f}'.format(\n",
    "            epoch, nb_epochs, cost.item()\n",
    "        ))"
   ]
  },
  {
   "cell_type": "markdown",
   "id": "3b1659d2",
   "metadata": {
    "pycharm": {
     "name": "#%% md\n"
    }
   },
   "source": [
    "### 소프트맥스로 MNIST 분류"
   ]
  },
  {
   "cell_type": "code",
   "execution_count": 249,
   "id": "258579a9",
   "metadata": {
    "pycharm": {
     "name": "#%%\n"
    }
   },
   "outputs": [],
   "source": [
    "import torchvision.datasets as dsets\n",
    "import torchvision.transforms as transforms\n",
    "from torch.utils.data import DataLoader\n",
    "import torch.nn as nn\n",
    "import random"
   ]
  },
  {
   "cell_type": "code",
   "execution_count": 243,
   "id": "4d516d0c",
   "metadata": {
    "pycharm": {
     "name": "#%%\n"
    }
   },
   "outputs": [],
   "source": [
    "USE_CUDA = torch.cuda.is_available()"
   ]
  },
  {
   "cell_type": "code",
   "execution_count": 244,
   "id": "82cc39c0",
   "metadata": {
    "pycharm": {
     "name": "#%%\n"
    }
   },
   "outputs": [
    {
     "name": "stdout",
     "output_type": "stream",
     "text": [
      "다음 기기로 학습합니다: cuda\n"
     ]
    }
   ],
   "source": [
    "device = torch.device(\"cuda\" if USE_CUDA else \"cpu\") # GPU 사용 가능하면 사용하고 아니면 CPU 사용\n",
    "print(\"다음 기기로 학습합니다:\", device)"
   ]
  },
  {
   "cell_type": "code",
   "execution_count": 245,
   "id": "d217e439",
   "metadata": {
    "pycharm": {
     "name": "#%%\n"
    }
   },
   "outputs": [],
   "source": [
    "# for reproducibility\n",
    "random.seed(777)\n",
    "torch.manual_seed(777)\n",
    "if device == 'cuda':\n",
    "    torch.cuda.manual_seed_all(777)"
   ]
  },
  {
   "cell_type": "code",
   "execution_count": 247,
   "id": "f8899733",
   "metadata": {
    "pycharm": {
     "name": "#%%\n"
    }
   },
   "outputs": [],
   "source": [
    "# hyperparameters\n",
    "training_epochs = 15\n",
    "batch_size = 1000"
   ]
  },
  {
   "cell_type": "code",
   "execution_count": 250,
   "id": "03605575",
   "metadata": {
    "pycharm": {
     "name": "#%%\n"
    }
   },
   "outputs": [
    {
     "name": "stdout",
     "output_type": "stream",
     "text": [
      "Downloading http://yann.lecun.com/exdb/mnist/train-images-idx3-ubyte.gz\n",
      "Downloading http://yann.lecun.com/exdb/mnist/train-images-idx3-ubyte.gz to MNIST_data/MNIST/raw/train-images-idx3-ubyte.gz\n"
     ]
    },
    {
     "name": "stderr",
     "output_type": "stream",
     "text": [
      "9913344it [00:00, 11721234.31it/s]                                                                                      \n"
     ]
    },
    {
     "name": "stdout",
     "output_type": "stream",
     "text": [
      "Extracting MNIST_data/MNIST/raw/train-images-idx3-ubyte.gz to MNIST_data/MNIST/raw\n",
      "\n",
      "Downloading http://yann.lecun.com/exdb/mnist/train-labels-idx1-ubyte.gz\n",
      "Downloading http://yann.lecun.com/exdb/mnist/train-labels-idx1-ubyte.gz to MNIST_data/MNIST/raw/train-labels-idx1-ubyte.gz\n"
     ]
    },
    {
     "name": "stderr",
     "output_type": "stream",
     "text": [
      "29696it [00:00, 9523937.27it/s]                                                                                         \n"
     ]
    },
    {
     "name": "stdout",
     "output_type": "stream",
     "text": [
      "Extracting MNIST_data/MNIST/raw/train-labels-idx1-ubyte.gz to MNIST_data/MNIST/raw\n",
      "\n",
      "Downloading http://yann.lecun.com/exdb/mnist/t10k-images-idx3-ubyte.gz\n",
      "Downloading http://yann.lecun.com/exdb/mnist/t10k-images-idx3-ubyte.gz to MNIST_data/MNIST/raw/t10k-images-idx3-ubyte.gz\n"
     ]
    },
    {
     "name": "stderr",
     "output_type": "stream",
     "text": [
      "1649664it [00:00, 5633351.64it/s]                                                                                       \n"
     ]
    },
    {
     "name": "stdout",
     "output_type": "stream",
     "text": [
      "Extracting MNIST_data/MNIST/raw/t10k-images-idx3-ubyte.gz to MNIST_data/MNIST/raw\n",
      "\n",
      "Downloading http://yann.lecun.com/exdb/mnist/t10k-labels-idx1-ubyte.gz\n",
      "Downloading http://yann.lecun.com/exdb/mnist/t10k-labels-idx1-ubyte.gz to MNIST_data/MNIST/raw/t10k-labels-idx1-ubyte.gz\n"
     ]
    },
    {
     "name": "stderr",
     "output_type": "stream",
     "text": [
      "5120it [00:00, 5746544.42it/s]                                                                                          \n"
     ]
    },
    {
     "name": "stdout",
     "output_type": "stream",
     "text": [
      "Extracting MNIST_data/MNIST/raw/t10k-labels-idx1-ubyte.gz to MNIST_data/MNIST/raw\n",
      "\n"
     ]
    }
   ],
   "source": [
    "# MNIST dataset\n",
    "mnist_train = dsets.MNIST(root='MNIST_data/',\n",
    "                          train=True,\n",
    "                          transform=transforms.ToTensor(),\n",
    "                          download=True)\n",
    "\n",
    "mnist_test = dsets.MNIST(root='MNIST_data/',\n",
    "                         train=False,\n",
    "                         transform=transforms.ToTensor(),\n",
    "                         download=True)"
   ]
  },
  {
   "cell_type": "code",
   "execution_count": 251,
   "id": "a8ef54a6",
   "metadata": {
    "pycharm": {
     "name": "#%%\n"
    }
   },
   "outputs": [],
   "source": [
    "data_loader = DataLoader(dataset=mnist_train, batch_size=batch_size, shuffle=True, drop_last=True)"
   ]
  },
  {
   "cell_type": "code",
   "execution_count": 253,
   "id": "f10359eb",
   "metadata": {
    "pycharm": {
     "name": "#%%\n"
    }
   },
   "outputs": [],
   "source": [
    "linear = nn.Linear(784, 10, bias=True).to(device)"
   ]
  },
  {
   "cell_type": "code",
   "execution_count": 254,
   "id": "f3152e29",
   "metadata": {
    "pycharm": {
     "name": "#%%\n"
    }
   },
   "outputs": [],
   "source": [
    "# 비용 함수와 옵티마이저 정의\n",
    "criterion = nn.CrossEntropyLoss().to(device) # 내부적으로 소프트맥스 함수를 포함하고 있음.\n",
    "optimizer = torch.optim.SGD(linear.parameters(), lr=0.1)"
   ]
  },
  {
   "cell_type": "code",
   "execution_count": 255,
   "id": "351f13a3",
   "metadata": {
    "scrolled": true,
    "pycharm": {
     "name": "#%%\n"
    }
   },
   "outputs": [
    {
     "name": "stdout",
     "output_type": "stream",
     "text": [
      "Epoch: 0001 cost = 0.535899699\n",
      "Epoch: 0002 cost = 0.359200478\n",
      "Epoch: 0003 cost = 0.331210256\n",
      "Epoch: 0004 cost = 0.316642940\n",
      "Epoch: 0005 cost = 0.306912184\n",
      "Epoch: 0006 cost = 0.300341636\n",
      "Epoch: 0007 cost = 0.295203745\n",
      "Epoch: 0008 cost = 0.290808439\n",
      "Epoch: 0009 cost = 0.287419200\n",
      "Epoch: 0010 cost = 0.284378767\n",
      "Epoch: 0011 cost = 0.281997472\n",
      "Epoch: 0012 cost = 0.279780537\n",
      "Epoch: 0013 cost = 0.277854115\n",
      "Epoch: 0014 cost = 0.276023239\n",
      "Epoch: 0015 cost = 0.274494946\n",
      "Learning finished\n"
     ]
    }
   ],
   "source": [
    "for epoch in range(training_epochs): # 앞서 training_epochs의 값은 15로 지정함.\n",
    "    avg_cost = 0\n",
    "    total_batch = len(data_loader)\n",
    "\n",
    "    for X, Y in data_loader:\n",
    "        # 배치 크기가 100이므로 아래의 연산에서 X는 (100, 784)의 텐서가 된다.\n",
    "        X = X.view(-1, 28 * 28).to(device)\n",
    "        # 레이블은 원-핫 인코딩이 된 상태가 아니라 0 ~ 9의 정수.\n",
    "        Y = Y.to(device)\n",
    "\n",
    "        optimizer.zero_grad()\n",
    "        hypothesis = linear(X)\n",
    "        cost = criterion(hypothesis, Y)\n",
    "        cost.backward()\n",
    "        optimizer.step()\n",
    "\n",
    "        avg_cost += cost / total_batch\n",
    "\n",
    "    print('Epoch:', '%04d' % (epoch + 1), 'cost =', '{:.9f}'.format(avg_cost))\n",
    "\n",
    "print('Learning finished')"
   ]
  },
  {
   "cell_type": "code",
   "execution_count": 256,
   "id": "d52a2c75",
   "metadata": {
    "pycharm": {
     "name": "#%%\n"
    }
   },
   "outputs": [
    {
     "name": "stderr",
     "output_type": "stream",
     "text": [
      "/root/anaconda3/envs/tensorflow_env/lib/python3.8/site-packages/torchvision/datasets/mnist.py:80: UserWarning: test_data has been renamed data\n",
      "  warnings.warn(\"test_data has been renamed data\")\n",
      "/root/anaconda3/envs/tensorflow_env/lib/python3.8/site-packages/torchvision/datasets/mnist.py:70: UserWarning: test_labels has been renamed targets\n",
      "  warnings.warn(\"test_labels has been renamed targets\")\n"
     ]
    },
    {
     "name": "stdout",
     "output_type": "stream",
     "text": [
      "Accuracy: 0.8841999769210815\n",
      "Label:  8\n",
      "Prediction:  3\n"
     ]
    },
    {
     "data": {
      "image/png": "[encoded data removed]",
      "text/plain": [
       "<Figure size 432x288 with 1 Axes>"
      ]
     },
     "metadata": {
      "needs_background": "light"
     },
     "output_type": "display_data"
    }
   ],
   "source": [
    "with torch.no_grad(): # torch.no_grad()를 하면 gradient 계산을 수행하지 않는다.\n",
    "    X_test = mnist_test.test_data.view(-1, 28 * 28).float().to(device)\n",
    "    Y_test = mnist_test.test_labels.to(device)\n",
    "    prediction = linear(X_test)\n",
    "    correct_prediction = torch.argmax(prediction, 1) == Y_test\n",
    "    accuracy = correct_prediction.float().mean()\n",
    "    print('Accuracy:', accuracy.item())\n",
    "\n",
    "    # MNIST 테스트 데이터에서 무작위로 하나를 뽑아서 예측을 해본다\n",
    "    r = random.randint(0, len(mnist_test) - 1)\n",
    "    X_single_data = mnist_test.test_data[r:r + 1].view(-1, 28 * 28).float().to(device)\n",
    "    Y_single_data = mnist_test.test_labels[r:r + 1].to(device)\n",
    "\n",
    "    print('Label: ', Y_single_data.item())\n",
    "    single_prediction = linear(X_single_data)\n",
    "    print('Prediction: ', torch.argmax(single_prediction, 1).item())\n",
    "\n",
    "    plt.imshow(mnist_test.test_data[r:r + 1].view(28, 28), cmap='Greys', interpolation='nearest')\n",
    "    plt.show()"
   ]
  },
  {
   "cell_type": "markdown",
   "id": "f0ad7091",
   "metadata": {
    "pycharm": {
     "name": "#%% md\n"
    }
   },
   "source": [
    "## 06. 인공신경망"
   ]
  },
  {
   "cell_type": "code",
   "execution_count": 259,
   "id": "950304c1",
   "metadata": {
    "pycharm": {
     "name": "#%%\n"
    }
   },
   "outputs": [],
   "source": [
    "device = 'cuda' if torch.cuda.is_available() else 'cpu'\n",
    "\n",
    "# for reproducibility\n",
    "torch.manual_seed(777)\n",
    "if device == 'cuda':\n",
    "    torch.cuda.manual_seed_all(777)"
   ]
  },
  {
   "cell_type": "markdown",
   "id": "8324ba76",
   "metadata": {
    "pycharm": {
     "name": "#%% md\n"
    }
   },
   "source": [
    "### XOR 문제 다중 퍼셉트론"
   ]
  },
  {
   "cell_type": "code",
   "execution_count": 275,
   "id": "b7d4efc6",
   "metadata": {
    "pycharm": {
     "name": "#%%\n"
    }
   },
   "outputs": [],
   "source": [
    "X = torch.FloatTensor([[0, 0], [0, 1], [1, 0], [1, 1]]).to(device)\n",
    "Y = torch.FloatTensor([[0], [1], [1], [0]]).to(device)"
   ]
  },
  {
   "cell_type": "code",
   "execution_count": 276,
   "id": "ae4e71b4",
   "metadata": {
    "pycharm": {
     "name": "#%%\n"
    }
   },
   "outputs": [],
   "source": [
    "model = nn.Sequential(\n",
    "          nn.Linear(2, 10, bias=True), # input_layer = 2, hidden_layer1 = 10\n",
    "          nn.Sigmoid(),\n",
    "          nn.Linear(10, 10, bias=True), # hidden_layer1 = 10, hidden_layer2 = 10\n",
    "          nn.Sigmoid(),\n",
    "          nn.Linear(10, 10, bias=True), # hidden_layer2 = 10, hidden_layer3 = 10\n",
    "          nn.Sigmoid(),\n",
    "          nn.Linear(10, 1, bias=True), # hidden_layer3 = 10, output_layer = 1\n",
    "          nn.Sigmoid()\n",
    "          ).to(device)"
   ]
  },
  {
   "cell_type": "code",
   "execution_count": 277,
   "id": "b30588dd",
   "metadata": {
    "pycharm": {
     "name": "#%%\n"
    }
   },
   "outputs": [],
   "source": [
    "criterion = torch.nn.BCELoss().to(device)\n",
    "optimizer = torch.optim.SGD(model.parameters(), lr=1)  # modified learning rate from 0.1 to 1"
   ]
  },
  {
   "cell_type": "code",
   "execution_count": 278,
   "id": "03f8e461",
   "metadata": {
    "pycharm": {
     "name": "#%%\n"
    }
   },
   "outputs": [
    {
     "name": "stdout",
     "output_type": "stream",
     "text": [
      "0 0.6931591629981995\n",
      "100 0.6931571960449219\n",
      "200 0.6931556463241577\n",
      "300 0.6931542158126831\n",
      "400 0.6931527853012085\n",
      "500 0.6931513547897339\n",
      "600 0.693149983882904\n",
      "700 0.6931486129760742\n",
      "800 0.6931472420692444\n",
      "900 0.6931458711624146\n",
      "1000 0.6931444406509399\n",
      "1100 0.6931430101394653\n",
      "1200 0.6931416988372803\n",
      "1300 0.6931402087211609\n",
      "1400 0.6931387186050415\n",
      "1500 0.6931372284889221\n",
      "1600 0.693135678768158\n",
      "1700 0.693134069442749\n",
      "1800 0.6931324005126953\n",
      "1900 0.693130612373352\n",
      "2000 0.6931287050247192\n",
      "2100 0.6931267976760864\n",
      "2200 0.6931246519088745\n",
      "2300 0.6931225061416626\n",
      "2400 0.6931201219558716\n",
      "2500 0.693117618560791\n",
      "2600 0.6931148767471313\n",
      "2700 0.6931118965148926\n",
      "2800 0.6931086778640747\n",
      "2900 0.6931052207946777\n",
      "3000 0.6931012868881226\n",
      "3100 0.6930970549583435\n",
      "3200 0.6930923461914062\n",
      "3300 0.6930870413780212\n",
      "3400 0.6930810809135437\n",
      "3500 0.6930742859840393\n",
      "3600 0.6930667161941528\n",
      "3700 0.6930578947067261\n",
      "3800 0.6930477619171143\n",
      "3900 0.6930358409881592\n",
      "4000 0.6930218935012817\n",
      "4100 0.6930050849914551\n",
      "4200 0.6929848194122314\n",
      "4300 0.6929599642753601\n",
      "4400 0.6929289102554321\n",
      "4500 0.6928892731666565\n",
      "4600 0.6928373575210571\n",
      "4700 0.6927673816680908\n",
      "4800 0.6926693916320801\n",
      "4900 0.6925257444381714\n",
      "5000 0.6923013925552368\n",
      "5100 0.6919196248054504\n",
      "5200 0.6911846399307251\n",
      "5300 0.6894630193710327\n",
      "5400 0.6837543249130249\n",
      "5500 0.6460803151130676\n",
      "5600 0.41417446732521057\n",
      "5700 0.0169975645840168\n",
      "5800 0.007121983915567398\n",
      "5900 0.0042965770699083805\n",
      "6000 0.00301543902605772\n",
      "6100 0.002298104576766491\n",
      "6200 0.0018442837754264474\n",
      "6300 0.001533379778265953\n",
      "6400 0.0013080801581963897\n",
      "6500 0.0011378484778106213\n",
      "6600 0.001005055382847786\n",
      "6700 0.0008987231412902474\n",
      "6800 0.0008118192199617624\n",
      "6900 0.000739596551284194\n",
      "7000 0.0006786072626709938\n",
      "7100 0.0006265233387239277\n",
      "7200 0.0005814944161102176\n",
      "7300 0.0005422822432592511\n",
      "7400 0.0005078124813735485\n",
      "7500 0.00047726486809551716\n",
      "7600 0.0004500277282204479\n",
      "7700 0.00042560885776765645\n",
      "7800 0.00040363537846133113\n",
      "7900 0.0003837046097032726\n",
      "8000 0.0003655779582913965\n",
      "8100 0.0003490019007585943\n",
      "8200 0.0003338123788125813\n",
      "8300 0.0003198453923687339\n",
      "8400 0.0003069220401812345\n",
      "8500 0.0002949825720861554\n",
      "8600 0.00028395248227752745\n",
      "8700 0.00027360819512978196\n",
      "8800 0.00026400922797620296\n",
      "8900 0.000255006569204852\n",
      "9000 0.00024660018971189857\n",
      "9100 0.00023870063887443393\n",
      "9200 0.00023126319865696132\n",
      "9300 0.00022424315102398396\n",
      "9400 0.00021765536803286523\n",
      "9500 0.00021141042816452682\n",
      "9600 0.00020552323258016258\n",
      "9700 0.00019993414753116667\n",
      "9800 0.00019459848408587277\n",
      "9900 0.00018956090207211673\n",
      "10000 0.00018474692478775978\n"
     ]
    }
   ],
   "source": [
    "for epoch in range(10001):\n",
    "    optimizer.zero_grad()\n",
    "    # forward 연산\n",
    "    hypothesis = model(X)\n",
    "\n",
    "    # 비용 함수\n",
    "    cost = criterion(hypothesis, Y)\n",
    "    cost.backward()\n",
    "    optimizer.step()\n",
    "\n",
    "    # 100의 배수에 해당되는 에포크마다 비용을 출력\n",
    "    if epoch % 100 == 0:\n",
    "        print(epoch, cost.item())"
   ]
  },
  {
   "cell_type": "code",
   "execution_count": 279,
   "id": "ebd4d4f7",
   "metadata": {
    "pycharm": {
     "name": "#%%\n"
    }
   },
   "outputs": [
    {
     "name": "stdout",
     "output_type": "stream",
     "text": [
      "모델의 출력값(Hypothesis):  [[1.5472795e-04]\n",
      " [9.9979705e-01]\n",
      " [9.9980611e-01]\n",
      " [1.8724706e-04]]\n",
      "모델의 예측값(Predicted):  [[0.]\n",
      " [1.]\n",
      " [1.]\n",
      " [0.]]\n",
      "실제값(Y):  [[0.]\n",
      " [1.]\n",
      " [1.]\n",
      " [0.]]\n",
      "정확도(Accuracy):  1.0\n"
     ]
    }
   ],
   "source": [
    "with torch.no_grad():\n",
    "    hypothesis = model(X)\n",
    "    predicted = (hypothesis > 0.5).float()\n",
    "    accuracy = (predicted == Y).float().mean()\n",
    "    print('모델의 출력값(Hypothesis): ', hypothesis.detach().cpu().numpy())\n",
    "    print('모델의 예측값(Predicted): ', predicted.detach().cpu().numpy())\n",
    "    print('실제값(Y): ', Y.cpu().numpy())\n",
    "    print('정확도(Accuracy): ', accuracy.item())"
   ]
  },
  {
   "cell_type": "markdown",
   "id": "169cb912",
   "metadata": {
    "pycharm": {
     "name": "#%% md\n"
    }
   },
   "source": [
    "### 다층 퍼셉트론으로 손글씨 분류"
   ]
  },
  {
   "cell_type": "code",
   "execution_count": 280,
   "id": "bcef57d9",
   "metadata": {
    "pycharm": {
     "name": "#%%\n"
    }
   },
   "outputs": [],
   "source": [
    "from sklearn.datasets import load_digits"
   ]
  },
  {
   "cell_type": "code",
   "execution_count": 281,
   "id": "f29c158f",
   "metadata": {
    "pycharm": {
     "name": "#%%\n"
    }
   },
   "outputs": [],
   "source": [
    "digits = load_digits()"
   ]
  },
  {
   "cell_type": "code",
   "execution_count": 282,
   "id": "7db45cfc",
   "metadata": {
    "pycharm": {
     "name": "#%%\n"
    }
   },
   "outputs": [
    {
     "name": "stdout",
     "output_type": "stream",
     "text": [
      "[[ 0.  0.  5. 13.  9.  1.  0.  0.]\n",
      " [ 0.  0. 13. 15. 10. 15.  5.  0.]\n",
      " [ 0.  3. 15.  2.  0. 11.  8.  0.]\n",
      " [ 0.  4. 12.  0.  0.  8.  8.  0.]\n",
      " [ 0.  5.  8.  0.  0.  9.  8.  0.]\n",
      " [ 0.  4. 11.  0.  1. 12.  7.  0.]\n",
      " [ 0.  2. 14.  5. 10. 12.  0.  0.]\n",
      " [ 0.  0.  6. 13. 10.  0.  0.  0.]]\n"
     ]
    }
   ],
   "source": [
    "print(digits.images[0])"
   ]
  },
  {
   "cell_type": "code",
   "execution_count": 283,
   "id": "23d67174",
   "metadata": {
    "pycharm": {
     "name": "#%%\n"
    }
   },
   "outputs": [
    {
     "name": "stdout",
     "output_type": "stream",
     "text": [
      "전체 샘플의 수 : 1797\n"
     ]
    }
   ],
   "source": [
    "print('전체 샘플의 수 : {}'.format(len(digits.images)))"
   ]
  },
  {
   "cell_type": "code",
   "execution_count": 304,
   "id": "e86f6bf0",
   "metadata": {
    "pycharm": {
     "name": "#%%\n"
    }
   },
   "outputs": [],
   "source": [
    "test_image = digits.images[0]"
   ]
  },
  {
   "cell_type": "code",
   "execution_count": 316,
   "id": "6fa10d38",
   "metadata": {
    "pycharm": {
     "name": "#%%\n"
    }
   },
   "outputs": [
    {
     "data": {
      "text/plain": [
       "(8, 8)"
      ]
     },
     "execution_count": 316,
     "metadata": {},
     "output_type": "execute_result"
    }
   ],
   "source": [
    "test_image.shape"
   ]
  },
  {
   "cell_type": "code",
   "execution_count": 317,
   "id": "c9fd3bde",
   "metadata": {
    "pycharm": {
     "name": "#%%\n"
    }
   },
   "outputs": [],
   "source": [
    "X = digits.data\n",
    "Y = digits.target"
   ]
  },
  {
   "cell_type": "code",
   "execution_count": 318,
   "id": "f6e0ffd8",
   "metadata": {
    "pycharm": {
     "name": "#%%\n"
    }
   },
   "outputs": [
    {
     "data": {
      "text/plain": [
       "array([0, 1, 2, 3, 4, 5, 6, 7, 8, 9])"
      ]
     },
     "execution_count": 318,
     "metadata": {},
     "output_type": "execute_result"
    }
   ],
   "source": [
    "np.unique(Y)"
   ]
  },
  {
   "cell_type": "code",
   "execution_count": 319,
   "id": "29219a6f",
   "metadata": {
    "pycharm": {
     "name": "#%%\n"
    }
   },
   "outputs": [],
   "source": [
    "model = nn.Sequential(\n",
    "    nn.Linear(64, 32),\n",
    "    nn.ReLU(),\n",
    "    nn.Linear(32, 16),\n",
    "    nn.ReLU(),\n",
    "    nn.Linear(16, 10)\n",
    ").to(device)"
   ]
  },
  {
   "cell_type": "code",
   "execution_count": 320,
   "id": "011c2053",
   "metadata": {
    "pycharm": {
     "name": "#%%\n"
    }
   },
   "outputs": [],
   "source": [
    "X = torch.tensor(X, dtype=torch.float32).to(device)\n",
    "Y = torch.tensor(Y, dtype=torch.int64).to(device)"
   ]
  },
  {
   "cell_type": "code",
   "execution_count": 321,
   "id": "30f4677b",
   "metadata": {
    "pycharm": {
     "name": "#%%\n"
    }
   },
   "outputs": [],
   "source": [
    "loss_fn = nn.CrossEntropyLoss().to(device)"
   ]
  },
  {
   "cell_type": "code",
   "execution_count": 322,
   "id": "54f19469",
   "metadata": {
    "pycharm": {
     "name": "#%%\n"
    }
   },
   "outputs": [],
   "source": [
    "optimizer = optim.Adam(model.parameters())"
   ]
  },
  {
   "cell_type": "code",
   "execution_count": 323,
   "id": "8a0463fd",
   "metadata": {
    "pycharm": {
     "name": "#%%\n"
    }
   },
   "outputs": [],
   "source": [
    "losses = list()"
   ]
  },
  {
   "cell_type": "code",
   "execution_count": 324,
   "id": "751fc75c",
   "metadata": {
    "pycharm": {
     "name": "#%%\n"
    }
   },
   "outputs": [
    {
     "name": "stdout",
     "output_type": "stream",
     "text": [
      "Epoch    0/1000 Cost: 2.450328\n",
      "Epoch   10/1000 Cost: 2.088738\n",
      "Epoch   20/1000 Cost: 1.821479\n",
      "Epoch   30/1000 Cost: 1.501435\n",
      "Epoch   40/1000 Cost: 1.171463\n",
      "Epoch   50/1000 Cost: 0.874519\n",
      "Epoch   60/1000 Cost: 0.616015\n",
      "Epoch   70/1000 Cost: 0.433419\n",
      "Epoch   80/1000 Cost: 0.322225\n",
      "Epoch   90/1000 Cost: 0.253756\n",
      "Epoch  100/1000 Cost: 0.209586\n",
      "Epoch  110/1000 Cost: 0.178990\n",
      "Epoch  120/1000 Cost: 0.156280\n",
      "Epoch  130/1000 Cost: 0.138404\n",
      "Epoch  140/1000 Cost: 0.123850\n",
      "Epoch  150/1000 Cost: 0.111652\n",
      "Epoch  160/1000 Cost: 0.101263\n",
      "Epoch  170/1000 Cost: 0.092261\n",
      "Epoch  180/1000 Cost: 0.084386\n",
      "Epoch  190/1000 Cost: 0.077451\n",
      "Epoch  200/1000 Cost: 0.071276\n",
      "Epoch  210/1000 Cost: 0.065738\n",
      "Epoch  220/1000 Cost: 0.060740\n",
      "Epoch  230/1000 Cost: 0.056203\n",
      "Epoch  240/1000 Cost: 0.052054\n",
      "Epoch  250/1000 Cost: 0.048281\n",
      "Epoch  260/1000 Cost: 0.044816\n",
      "Epoch  270/1000 Cost: 0.041649\n",
      "Epoch  280/1000 Cost: 0.038754\n",
      "Epoch  290/1000 Cost: 0.036095\n",
      "Epoch  300/1000 Cost: 0.033656\n",
      "Epoch  310/1000 Cost: 0.031417\n",
      "Epoch  320/1000 Cost: 0.029356\n",
      "Epoch  330/1000 Cost: 0.027452\n",
      "Epoch  340/1000 Cost: 0.025699\n",
      "Epoch  350/1000 Cost: 0.024082\n",
      "Epoch  360/1000 Cost: 0.022574\n",
      "Epoch  370/1000 Cost: 0.021175\n",
      "Epoch  380/1000 Cost: 0.019879\n",
      "Epoch  390/1000 Cost: 0.018661\n",
      "Epoch  400/1000 Cost: 0.017533\n",
      "Epoch  410/1000 Cost: 0.016487\n",
      "Epoch  420/1000 Cost: 0.015507\n",
      "Epoch  430/1000 Cost: 0.014601\n",
      "Epoch  440/1000 Cost: 0.013766\n",
      "Epoch  450/1000 Cost: 0.012996\n",
      "Epoch  460/1000 Cost: 0.012282\n",
      "Epoch  470/1000 Cost: 0.011623\n",
      "Epoch  480/1000 Cost: 0.011011\n",
      "Epoch  490/1000 Cost: 0.010437\n",
      "Epoch  500/1000 Cost: 0.009900\n",
      "Epoch  510/1000 Cost: 0.009399\n",
      "Epoch  520/1000 Cost: 0.008931\n",
      "Epoch  530/1000 Cost: 0.008495\n",
      "Epoch  540/1000 Cost: 0.008088\n",
      "Epoch  550/1000 Cost: 0.007707\n",
      "Epoch  560/1000 Cost: 0.007352\n",
      "Epoch  570/1000 Cost: 0.007018\n",
      "Epoch  580/1000 Cost: 0.006705\n",
      "Epoch  590/1000 Cost: 0.006411\n",
      "Epoch  600/1000 Cost: 0.006136\n",
      "Epoch  610/1000 Cost: 0.005878\n",
      "Epoch  620/1000 Cost: 0.005635\n",
      "Epoch  630/1000 Cost: 0.005406\n",
      "Epoch  640/1000 Cost: 0.005191\n",
      "Epoch  650/1000 Cost: 0.004988\n",
      "Epoch  660/1000 Cost: 0.004796\n",
      "Epoch  670/1000 Cost: 0.004614\n",
      "Epoch  680/1000 Cost: 0.004442\n",
      "Epoch  690/1000 Cost: 0.004280\n",
      "Epoch  700/1000 Cost: 0.004125\n",
      "Epoch  710/1000 Cost: 0.003979\n",
      "Epoch  720/1000 Cost: 0.003840\n",
      "Epoch  730/1000 Cost: 0.003709\n",
      "Epoch  740/1000 Cost: 0.003583\n",
      "Epoch  750/1000 Cost: 0.003464\n",
      "Epoch  760/1000 Cost: 0.003350\n",
      "Epoch  770/1000 Cost: 0.003242\n",
      "Epoch  780/1000 Cost: 0.003138\n",
      "Epoch  790/1000 Cost: 0.003040\n",
      "Epoch  800/1000 Cost: 0.002945\n",
      "Epoch  810/1000 Cost: 0.002855\n",
      "Epoch  820/1000 Cost: 0.002768\n",
      "Epoch  830/1000 Cost: 0.002685\n",
      "Epoch  840/1000 Cost: 0.002606\n",
      "Epoch  850/1000 Cost: 0.002530\n",
      "Epoch  860/1000 Cost: 0.002457\n",
      "Epoch  870/1000 Cost: 0.002388\n",
      "Epoch  880/1000 Cost: 0.002321\n",
      "Epoch  890/1000 Cost: 0.002256\n",
      "Epoch  900/1000 Cost: 0.002195\n",
      "Epoch  910/1000 Cost: 0.002135\n",
      "Epoch  920/1000 Cost: 0.002078\n",
      "Epoch  930/1000 Cost: 0.002023\n",
      "Epoch  940/1000 Cost: 0.001971\n",
      "Epoch  950/1000 Cost: 0.001920\n",
      "Epoch  960/1000 Cost: 0.001871\n",
      "Epoch  970/1000 Cost: 0.001824\n",
      "Epoch  980/1000 Cost: 0.001779\n",
      "Epoch  990/1000 Cost: 0.001735\n"
     ]
    }
   ],
   "source": [
    "for epoch in range(1000):\n",
    "    optimizer.zero_grad()\n",
    "    y_pred = model(X)\n",
    "    loss = loss_fn(y_pred, Y)\n",
    "    loss.backward()\n",
    "    optimizer.step()\n",
    "    if epoch % 10 == 0:\n",
    "        print('Epoch {:4d}/{} Cost: {:.6f}'.format(\n",
    "            epoch, 1000, loss.item()\n",
    "        ))\n",
    "\n",
    "    losses.append(loss.item())"
   ]
  },
  {
   "cell_type": "code",
   "execution_count": 325,
   "id": "d1f0a6a8",
   "metadata": {
    "pycharm": {
     "name": "#%%\n"
    }
   },
   "outputs": [
    {
     "data": {
      "text/plain": [
       "[<matplotlib.lines.Line2D at 0x7f39c4d13880>]"
      ]
     },
     "execution_count": 325,
     "metadata": {},
     "output_type": "execute_result"
    },
    {
     "data": {
      "image/png": "[encoded data removed]",
      "text/plain": [
       "<Figure size 432x288 with 1 Axes>"
      ]
     },
     "metadata": {
      "needs_background": "light"
     },
     "output_type": "display_data"
    }
   ],
   "source": [
    "plt.plot(losses)"
   ]
  },
  {
   "cell_type": "code",
   "execution_count": 326,
   "id": "bd803738",
   "metadata": {
    "pycharm": {
     "name": "#%%\n"
    }
   },
   "outputs": [],
   "source": [
    "from sklearn.datasets import fetch_openml"
   ]
  },
  {
   "cell_type": "code",
   "execution_count": null,
   "id": "7418d8e6",
   "metadata": {
    "pycharm": {
     "name": "#%%\n"
    }
   },
   "outputs": [],
   "source": [
    "mnist = fetch_openml('mnist_784', version=1, cache=True)"
   ]
  },
  {
   "cell_type": "code",
   "execution_count": null,
   "id": "930e68c6",
   "metadata": {
    "pycharm": {
     "name": "#%%\n"
    }
   },
   "outputs": [],
   "source": [
    "mnist.data[0]"
   ]
  },
  {
   "cell_type": "code",
   "execution_count": null,
   "id": "903d4147",
   "metadata": {
    "pycharm": {
     "name": "#%%\n"
    }
   },
   "outputs": [],
   "source": []
  }
 ],
 "metadata": {
  "kernelspec": {
   "display_name": "Python [conda env:tensorflow_env]",
   "language": "python",
   "name": "conda-env-tensorflow_env-py"
  },
  "language_info": {
   "codemirror_mode": {
    "name": "ipython",
    "version": 3
   },
   "file_extension": ".py",
   "mimetype": "text/x-python",
   "name": "python",
   "nbconvert_exporter": "python",
   "pygments_lexer": "ipython3",
   "version": "3.8.13"
  }
 },
 "nbformat": 4,
 "nbformat_minor": 5
}